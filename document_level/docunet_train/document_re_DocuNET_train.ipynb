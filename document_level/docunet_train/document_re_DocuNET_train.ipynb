{
  "cells": [
    {
      "cell_type": "markdown",
      "id": "cb5a6489",
      "metadata": {
        "id": "cb5a6489"
      },
      "source": [
        "# Document-level Relation Extraction Tutorial\n",
        "\n",
        "> Tutorial author: 黎洲波（zhoubo.li@zju.edu.cn）\n",
        "\n",
        "In this tutorial, we use [DocuNet](http://arxiv.org/abs/2106.03618) to extract relational triples in different sentences. We hope this tutorial can help you understand the process of document-level relation extraction.\n",
        "\n",
        "This tutorial uses `Python3`."
      ]
    },
    {
      "cell_type": "code",
      "source": [
        "from google.colab import drive\n",
        "drive.mount('/content/drive')"
      ],
      "metadata": {
        "colab": {
          "base_uri": "https://localhost:8080/"
        },
        "id": "mw0zeYnqtU39",
        "outputId": "d6ed7377-7134-432f-f701-23f4eb7aa8ec"
      },
      "id": "mw0zeYnqtU39",
      "execution_count": null,
      "outputs": [
        {
          "output_type": "stream",
          "name": "stdout",
          "text": [
            "Mounted at /content/drive\n"
          ]
        }
      ]
    },
    {
      "cell_type": "code",
      "source": [
        "!nvidia-smi"
      ],
      "metadata": {
        "colab": {
          "base_uri": "https://localhost:8080/"
        },
        "id": "ukfqoqniyjwJ",
        "outputId": "e974404e-477c-4681-90bf-17ff74b6bdf3"
      },
      "id": "ukfqoqniyjwJ",
      "execution_count": null,
      "outputs": [
        {
          "output_type": "stream",
          "name": "stdout",
          "text": [
            "Sat Apr 22 08:44:50 2023       \n",
            "+-----------------------------------------------------------------------------+\n",
            "| NVIDIA-SMI 525.85.12    Driver Version: 525.85.12    CUDA Version: 12.0     |\n",
            "|-------------------------------+----------------------+----------------------+\n",
            "| GPU  Name        Persistence-M| Bus-Id        Disp.A | Volatile Uncorr. ECC |\n",
            "| Fan  Temp  Perf  Pwr:Usage/Cap|         Memory-Usage | GPU-Util  Compute M. |\n",
            "|                               |                      |               MIG M. |\n",
            "|===============================+======================+======================|\n",
            "|   0  NVIDIA A100-SXM...  Off  | 00000000:00:04.0 Off |                    0 |\n",
            "| N/A   32C    P0    46W / 400W |      0MiB / 40960MiB |      0%      Default |\n",
            "|                               |                      |             Disabled |\n",
            "+-------------------------------+----------------------+----------------------+\n",
            "                                                                               \n",
            "+-----------------------------------------------------------------------------+\n",
            "| Processes:                                                                  |\n",
            "|  GPU   GI   CI        PID   Type   Process name                  GPU Memory |\n",
            "|        ID   ID                                                   Usage      |\n",
            "|=============================================================================|\n",
            "|  No running processes found                                                 |\n",
            "+-----------------------------------------------------------------------------+\n"
          ]
        }
      ]
    },
    {
      "cell_type": "markdown",
      "id": "9e00a908",
      "metadata": {
        "id": "9e00a908"
      },
      "source": [
        "## RE\n",
        "**Relation extraction** (RE), a key task in information extraction, predicts semantic relations between pairs of entities from unstructured\n",
        "texts.\n",
        "\n",
        "## Document-level RE\n",
        "Document-level RE extracts relations from multi-sentence in one document. An example is shown in the following picture, in which named entities are annotated with colors. Different from sentence-level RE, document-level RE can extract both intra-sentence and inter-sentence relational triples.\n",
        "![文档级关系抽取](https://github.com/zjunlp/DeepKE/blob/main/tutorial-notebooks/re/document/img/img1.png?raw=true)"
      ]
    },
    {
      "cell_type": "markdown",
      "id": "09f8d2f0",
      "metadata": {
        "id": "09f8d2f0"
      },
      "source": [
        "## Dataset\n",
        "\n",
        "There are some document-level RE datasets including DocRED, CDR and GDA. The tutorial uses [DocRED](https://github.com/thunlp/DocRED/tree/master/). The structure of the dataset folder `./data/` is as follow:\n",
        "\n",
        "```\n",
        ".\n",
        "├── dev.json                        # Validation Set\n",
        "├── rel_info.json                   # Relation Label\n",
        "├── rel2id.json                     # Relation Label - ID Map\n",
        "├── test.json                       # Test Set\n",
        "└── train_annotated.json            # Training Set\n",
        "```\n",
        "\n",
        "The data formats of DocRED are described as follow:\n",
        "\n",
        "```\n",
        "Data Format:\n",
        "{\n",
        "  'title',\n",
        "  'sents':     [\n",
        "                  [word in sent 0],\n",
        "                  [word in sent 1]\n",
        "               ]\n",
        "  'vertexSet': [\n",
        "                  [\n",
        "                    { 'name': mention_name,\n",
        "                      'sent_id': mention in which sentence,\n",
        "                      'pos': postion of mention in a sentence,\n",
        "                      'type': NER_type}\n",
        "                    {anthor mention}\n",
        "                  ],\n",
        "                  [anthoer entity]\n",
        "                ]\n",
        "  'labels':   [\n",
        "                {\n",
        "                  'h': idx of head entity in vertexSet,\n",
        "                  't': idx of tail entity in vertexSet,\n",
        "                  'r': relation,\n",
        "                  'evidence': evidence sentences' id\n",
        "                }\n",
        "              ]\n",
        "}\n",
        "```"
      ]
    },
    {
      "cell_type": "markdown",
      "id": "51636aba",
      "metadata": {
        "id": "51636aba"
      },
      "source": [
        "## DocuNet\n",
        "- [DocuNet](http://arxiv.org/abs/2106.03618) used in DeepKE is a semantic segmentation method using Document U-shaped Network based on computer vision (CV) and obtains excellent performance on DocRED dataset.\n",
        "- The framework of DocuNet is as follow:\n",
        "\n",
        "![文档级关系抽取架构图](https://github.com/zjunlp/DeepKE/blob/main/tutorial-notebooks/re/document/img/img2.png?raw=true)"
      ]
    },
    {
      "cell_type": "markdown",
      "id": "aee2bb9f",
      "metadata": {
        "id": "aee2bb9f"
      },
      "source": [
        "## Prepare the runtime environment"
      ]
    },
    {
      "cell_type": "code",
      "execution_count": null,
      "id": "63f859de",
      "metadata": {
        "id": "63f859de"
      },
      "outputs": [],
      "source": [
        "# !pip install deepke\n",
        "# !wget 120.27.214.45/Data/re/document/data.tar.gz\n",
        "# !tar -xzvf data.tar.gz"
      ]
    },
    {
      "cell_type": "code",
      "source": [
        "# ! cd /content/drive/MyDrive/Models; git clone https://github.com/zjunlp/DeepKE"
      ],
      "metadata": {
        "colab": {
          "base_uri": "https://localhost:8080/"
        },
        "id": "SWvXAAFK0BWF",
        "outputId": "704fc4b1-b405-4a6a-e7d8-b11340a652d7"
      },
      "id": "SWvXAAFK0BWF",
      "execution_count": null,
      "outputs": [
        {
          "output_type": "stream",
          "name": "stdout",
          "text": [
            "Cloning into 'DeepKE'...\n",
            "remote: Enumerating objects: 8949, done.\u001b[K\n",
            "remote: Counting objects: 100% (743/743), done.\u001b[K\n",
            "remote: Compressing objects: 100% (434/434), done.\u001b[K\n",
            "remote: Total 8949 (delta 396), reused 594 (delta 294), pack-reused 8206\u001b[K\n",
            "Receiving objects: 100% (8949/8949), 107.52 MiB | 16.87 MiB/s, done.\n",
            "Resolving deltas: 100% (4510/4510), done.\n",
            "Updating files: 100% (570/570), done.\n"
          ]
        }
      ]
    },
    {
      "cell_type": "code",
      "source": [
        "# !pip install -r /content/drive/MyDrive/Models/DeepKE/requirements.txt"
      ],
      "metadata": {
        "colab": {
          "base_uri": "https://localhost:8080/"
        },
        "id": "a4Edjq8b0Kx4",
        "outputId": "cecf823f-ec14-4ff8-d54e-8769525fe2ed"
      },
      "id": "a4Edjq8b0Kx4",
      "execution_count": null,
      "outputs": [
        {
          "output_type": "stream",
          "name": "stdout",
          "text": [
            "Looking in indexes: https://pypi.org/simple, https://us-python.pkg.dev/colab-wheels/public/simple/\n",
            "Collecting torch<=1.11,>=1.5\n",
            "  Downloading torch-1.11.0-cp39-cp39-manylinux1_x86_64.whl (750.6 MB)\n",
            "\u001b[2K     \u001b[91m━━━━━━━━━━━━━━━━━━━━━━━━━━━━━━━━━━━━\u001b[0m\u001b[91m╸\u001b[0m \u001b[32m750.6/750.6 MB\u001b[0m \u001b[31m200.0 MB/s\u001b[0m eta \u001b[36m0:00:01\u001b[0m\n",
            "\u001b[?25h\u001b[31mERROR: Operation cancelled by user\u001b[0m\u001b[31m\n",
            "\u001b[0m"
          ]
        }
      ]
    },
    {
      "cell_type": "code",
      "source": [
        "!pip install -U torch ujson transformers"
      ],
      "metadata": {
        "colab": {
          "base_uri": "https://localhost:8080/"
        },
        "id": "hFcaMD9G3Nyx",
        "outputId": "904fd3c1-8d87-4299-a34b-434902018008"
      },
      "id": "hFcaMD9G3Nyx",
      "execution_count": null,
      "outputs": [
        {
          "output_type": "stream",
          "name": "stdout",
          "text": [
            "Looking in indexes: https://pypi.org/simple, https://us-python.pkg.dev/colab-wheels/public/simple/\n",
            "Requirement already satisfied: torch in /usr/local/lib/python3.9/dist-packages (2.0.0+cu118)\n",
            "Collecting ujson\n",
            "  Downloading ujson-5.7.0-cp39-cp39-manylinux_2_17_x86_64.manylinux2014_x86_64.whl (52 kB)\n",
            "\u001b[2K     \u001b[90m━━━━━━━━━━━━━━━━━━━━━━━━━━━━━━━━━━━━━━━━\u001b[0m \u001b[32m52.8/52.8 kB\u001b[0m \u001b[31m4.0 MB/s\u001b[0m eta \u001b[36m0:00:00\u001b[0m\n",
            "\u001b[?25hCollecting transformers\n",
            "  Downloading transformers-4.28.1-py3-none-any.whl (7.0 MB)\n",
            "\u001b[2K     \u001b[90m━━━━━━━━━━━━━━━━━━━━━━━━━━━━━━━━━━━━━━━━\u001b[0m \u001b[32m7.0/7.0 MB\u001b[0m \u001b[31m73.5 MB/s\u001b[0m eta \u001b[36m0:00:00\u001b[0m\n",
            "\u001b[?25hRequirement already satisfied: networkx in /usr/local/lib/python3.9/dist-packages (from torch) (3.1)\n",
            "Requirement already satisfied: sympy in /usr/local/lib/python3.9/dist-packages (from torch) (1.11.1)\n",
            "Requirement already satisfied: typing-extensions in /usr/local/lib/python3.9/dist-packages (from torch) (4.5.0)\n",
            "Requirement already satisfied: triton==2.0.0 in /usr/local/lib/python3.9/dist-packages (from torch) (2.0.0)\n",
            "Requirement already satisfied: jinja2 in /usr/local/lib/python3.9/dist-packages (from torch) (3.1.2)\n",
            "Requirement already satisfied: filelock in /usr/local/lib/python3.9/dist-packages (from torch) (3.11.0)\n",
            "Requirement already satisfied: cmake in /usr/local/lib/python3.9/dist-packages (from triton==2.0.0->torch) (3.25.2)\n",
            "Requirement already satisfied: lit in /usr/local/lib/python3.9/dist-packages (from triton==2.0.0->torch) (16.0.1)\n",
            "Requirement already satisfied: pyyaml>=5.1 in /usr/local/lib/python3.9/dist-packages (from transformers) (6.0)\n",
            "Requirement already satisfied: regex!=2019.12.17 in /usr/local/lib/python3.9/dist-packages (from transformers) (2022.10.31)\n",
            "Requirement already satisfied: requests in /usr/local/lib/python3.9/dist-packages (from transformers) (2.27.1)\n",
            "Requirement already satisfied: packaging>=20.0 in /usr/local/lib/python3.9/dist-packages (from transformers) (23.1)\n",
            "Collecting huggingface-hub<1.0,>=0.11.0\n",
            "  Downloading huggingface_hub-0.13.4-py3-none-any.whl (200 kB)\n",
            "\u001b[2K     \u001b[90m━━━━━━━━━━━━━━━━━━━━━━━━━━━━━━━━━━━━━━\u001b[0m \u001b[32m200.1/200.1 kB\u001b[0m \u001b[31m26.0 MB/s\u001b[0m eta \u001b[36m0:00:00\u001b[0m\n",
            "\u001b[?25hRequirement already satisfied: numpy>=1.17 in /usr/local/lib/python3.9/dist-packages (from transformers) (1.22.4)\n",
            "Requirement already satisfied: tqdm>=4.27 in /usr/local/lib/python3.9/dist-packages (from transformers) (4.65.0)\n",
            "Collecting tokenizers!=0.11.3,<0.14,>=0.11.1\n",
            "  Downloading tokenizers-0.13.3-cp39-cp39-manylinux_2_17_x86_64.manylinux2014_x86_64.whl (7.8 MB)\n",
            "\u001b[2K     \u001b[90m━━━━━━━━━━━━━━━━━━━━━━━━━━━━━━━━━━━━━━━━\u001b[0m \u001b[32m7.8/7.8 MB\u001b[0m \u001b[31m104.5 MB/s\u001b[0m eta \u001b[36m0:00:00\u001b[0m\n",
            "\u001b[?25hRequirement already satisfied: MarkupSafe>=2.0 in /usr/local/lib/python3.9/dist-packages (from jinja2->torch) (2.1.2)\n",
            "Requirement already satisfied: idna<4,>=2.5 in /usr/local/lib/python3.9/dist-packages (from requests->transformers) (3.4)\n",
            "Requirement already satisfied: charset-normalizer~=2.0.0 in /usr/local/lib/python3.9/dist-packages (from requests->transformers) (2.0.12)\n",
            "Requirement already satisfied: urllib3<1.27,>=1.21.1 in /usr/local/lib/python3.9/dist-packages (from requests->transformers) (1.26.15)\n",
            "Requirement already satisfied: certifi>=2017.4.17 in /usr/local/lib/python3.9/dist-packages (from requests->transformers) (2022.12.7)\n",
            "Requirement already satisfied: mpmath>=0.19 in /usr/local/lib/python3.9/dist-packages (from sympy->torch) (1.3.0)\n",
            "Installing collected packages: tokenizers, ujson, huggingface-hub, transformers\n",
            "Successfully installed huggingface-hub-0.13.4 tokenizers-0.13.3 transformers-4.28.1 ujson-5.7.0\n"
          ]
        }
      ]
    },
    {
      "cell_type": "markdown",
      "id": "fb01b613",
      "metadata": {
        "id": "fb01b613"
      },
      "source": [
        "## Import modules"
      ]
    },
    {
      "cell_type": "code",
      "execution_count": null,
      "id": "6dd0e029",
      "metadata": {
        "id": "6dd0e029",
        "tags": []
      },
      "outputs": [],
      "source": [
        "import os\n",
        "import time\n",
        "import numpy as np\n",
        "import torch\n",
        "import random\n",
        "import pickle\n",
        "from tqdm import tqdm\n",
        "import ujson as json\n",
        "from opt_einsum import contract\n",
        "\n",
        "import torch\n",
        "import torch.nn as nn\n",
        "import torch.nn.functional as F\n",
        "from torch.utils.data import DataLoader\n",
        "from transformers import AutoConfig, AutoModel, AutoTokenizer\n",
        "from transformers.optimization import AdamW, get_linear_schedule_with_warmup\n",
        "\n",
        "from tqdm import tqdm"
      ]
    },
    {
      "cell_type": "code",
      "execution_count": null,
      "id": "a48752c0-80d3-4a3e-a53e-01f1b2880213",
      "metadata": {
        "tags": [],
        "id": "a48752c0-80d3-4a3e-a53e-01f1b2880213"
      },
      "outputs": [],
      "source": [
        "# os.chdir('../')"
      ]
    },
    {
      "cell_type": "code",
      "execution_count": null,
      "id": "e5a1b1d9-d80e-421b-bdc2-ca1a788c4921",
      "metadata": {
        "tags": [],
        "colab": {
          "base_uri": "https://localhost:8080/"
        },
        "id": "e5a1b1d9-d80e-421b-bdc2-ca1a788c4921",
        "outputId": "8183f96a-90f2-494b-d872-ab2ba4648f2a"
      },
      "outputs": [
        {
          "output_type": "stream",
          "name": "stdout",
          "text": [
            "/content\n"
          ]
        }
      ],
      "source": [
        "!pwd"
      ]
    },
    {
      "cell_type": "markdown",
      "id": "2a1b4764",
      "metadata": {
        "id": "2a1b4764"
      },
      "source": [
        "## Preprocess the dataset"
      ]
    },
    {
      "cell_type": "code",
      "execution_count": null,
      "id": "bf72cdc3",
      "metadata": {
        "id": "bf72cdc3"
      },
      "outputs": [],
      "source": [
        "rel2id = json.load(open('/content/drive/MyDrive/data/nerel_docred_ver/rel2id.json', 'r'))\n",
        "#rel2id = json.load(open('/Users/yandutov-alex/study/science_work/DocRED_original/code/prepro_data/rel2id.json'))\n",
        "\n",
        "id2rel = {value: key for key, value in rel2id.items()}\n",
        "\n",
        "\n",
        "def chunks(l, n):\n",
        "    res = []\n",
        "    for i in range(0, len(l), n):\n",
        "        assert len(l[i:i + n]) == n\n",
        "        res += [l[i:i + n]]\n",
        "    return res\n",
        "\n",
        "class ReadDataset:\n",
        "    def __init__(self, dataset: str, tokenizer, max_seq_Length: int = 1024,\n",
        "             transformers: str = 'bert') -> None:\n",
        "        self.transformers = transformers\n",
        "        self.dataset = dataset\n",
        "        self.tokenizer = tokenizer\n",
        "        self.max_seq_Length = max_seq_Length\n",
        "\n",
        "    def read(self, file_in: str):\n",
        "        save_file = file_in.split('.json')[0] + '_' + self.transformers + '_' \\\n",
        "                        + self.dataset + '.pkl'\n",
        "        if self.dataset == 'docred':\n",
        "            return read_docred(self.transformers, file_in, save_file, self.tokenizer, self.max_seq_Length, ents='nerel')\n",
        "        # elif self.dataset == 'nerel':\n",
        "        #     return read_docred(self.transformers, file_in, save_file, self.tokenizer, self.max_seq_Length, ents='nerel')\n",
        "        else:\n",
        "            raise RuntimeError(\"No read func for this dataset.\")\n",
        "\n",
        "def read_docred(transfermers, file_in, save_file, tokenizer, max_seq_length=1024, ents='docred'):\n",
        "    if os.path.exists(save_file):\n",
        "        with open(file=save_file, mode='rb') as fr:\n",
        "            features = pickle.load(fr)\n",
        "            fr.close()\n",
        "        print('load preprocessed data from {}.'.format(save_file))\n",
        "        return features\n",
        "    else:\n",
        "        max_len = 0\n",
        "        up512_num = 0\n",
        "        i_line = 0\n",
        "        pos_samples = 0\n",
        "        neg_samples = 0\n",
        "        features = []\n",
        "        if file_in == \"\":\n",
        "            return None\n",
        "        with open(file_in, \"r\") as fh:\n",
        "            data = json.load(fh)\n",
        "\n",
        "        if transfermers == 'bert':\n",
        "            # entity_type = [\"ORG\", \"-\",  \"LOC\", \"-\",  \"TIME\", \"-\",  \"PER\", \"-\", \"MISC\", \"-\", \"NUM\"]\n",
        "            if ents == 'nerel':\n",
        "                entity_type = ['-', 'IDEOLOGY', '-', 'PENALTY', '-', 'CITY', '-', 'CRIME', '-', 'DISEASE', '-', 'TIME', '-', 'PERSON', '-',\n",
        "                 'RELIGION', '-', 'EVENT', '-', 'AWARD', '-', 'LANGUAGE', '-', 'ORDINAL', '-', 'ORGANIZATION', '-', 'DATE', '-',\n",
        "                 'NATIONALITY', '-', 'PROFESSION', '-', 'AGE', '-', 'MONEY', '-', 'COUNTRY', '-', 'LAW', '-', 'WORK_OF_ART', '-',\n",
        "                 'PERCENT', '-', 'PRODUCT', '-', 'FACILITY', '-', 'FAMILY', '-', 'NUMBER', '-', 'LOCATION', '-', 'DISTRICT', '-',\n",
        "                 'STATE_OR_PROVINCE']\n",
        "            else:\n",
        "                entity_type = [\"-\", \"ORG\", \"-\",  \"LOC\", \"-\",  \"TIME\", \"-\",  \"PER\", \"-\", \"MISC\", \"-\", \"NUM\"]\n",
        "\n",
        "        for sample in tqdm(data, desc=\"Example\"):\n",
        "            sents = []\n",
        "            sent_map = []\n",
        "\n",
        "            entities = sample['vertexSet']\n",
        "            entity_start, entity_end = [], []\n",
        "            mention_types = []\n",
        "            for entity in entities:\n",
        "                for mention in entity:\n",
        "                    sent_id = mention[\"sent_id\"]\n",
        "                    pos = mention[\"pos\"]\n",
        "                    entity_start.append((sent_id, pos[0]))\n",
        "                    entity_end.append((sent_id, pos[1] - 1))\n",
        "                    mention_types.append(mention['type'])\n",
        "\n",
        "            for i_s, sent in enumerate(sample['sents']):\n",
        "                new_map = {}\n",
        "                for i_t, token in enumerate(sent):\n",
        "                    tokens_wordpiece = tokenizer.tokenize(token)\n",
        "                    if (i_s, i_t) in entity_start:\n",
        "                        t = entity_start.index((i_s, i_t))\n",
        "                        if transfermers == 'bert':\n",
        "                            mention_type = mention_types[t]\n",
        "                            special_token_i = entity_type.index(mention_type)\n",
        "                            special_token = ['[unused' + str(special_token_i) + ']']\n",
        "                        else:\n",
        "                            special_token = ['*']\n",
        "                        tokens_wordpiece = special_token + tokens_wordpiece\n",
        "                        # tokens_wordpiece = [\"[unused0]\"]+ tokens_wordpiece\n",
        "\n",
        "                    if (i_s, i_t) in entity_end:\n",
        "                        t = entity_end.index((i_s, i_t))\n",
        "                        if transfermers == 'bert':\n",
        "                            mention_type = mention_types[t]\n",
        "                            special_token_i = entity_type.index(mention_type) + 50\n",
        "                            special_token = ['[unused' + str(special_token_i) + ']']\n",
        "                        else:\n",
        "                            special_token = ['*']\n",
        "                        tokens_wordpiece = tokens_wordpiece + special_token\n",
        "\n",
        "                        # tokens_wordpiece = tokens_wordpiece + [\"[unused1]\"]\n",
        "                        # print(tokens_wordpiece,tokenizer.convert_tokens_to_ids(tokens_wordpiece))\n",
        "\n",
        "                    new_map[i_t] = len(sents)\n",
        "                    sents.extend(tokens_wordpiece)\n",
        "                new_map[i_t + 1] = len(sents)\n",
        "                sent_map.append(new_map)\n",
        "\n",
        "            if len(sents)>max_len:\n",
        "                max_len=len(sents)\n",
        "            if len(sents)>512:\n",
        "                up512_num += 1\n",
        "\n",
        "            train_triple = {}\n",
        "            if \"labels\" in sample:\n",
        "                for label in sample['labels']:\n",
        "                    evidence = label['evidence']\n",
        "                    r = int(rel2id[label['r']])\n",
        "\n",
        "                    # h, t = sorted([label['h'], label['t']])\n",
        "                    h, t = [label['h'], label['t']]\n",
        "\n",
        "                    if (h, t) not in train_triple:\n",
        "                        train_triple[(h, t)] = [\n",
        "                            {'relation': r, 'evidence': evidence}]\n",
        "                    else:\n",
        "                        train_triple[(h, t)].append(\n",
        "                            {'relation': r, 'evidence': evidence})\n",
        "\n",
        "            entity_pos = []\n",
        "            for e in entities:\n",
        "                entity_pos.append([])\n",
        "                mention_num = len(e)\n",
        "                for m in e:\n",
        "                    start = sent_map[m[\"sent_id\"]][m[\"pos\"][0]]\n",
        "                    end = sent_map[m[\"sent_id\"]][m[\"pos\"][1]]\n",
        "                    entity_pos[-1].append((start, end,))\n",
        "\n",
        "\n",
        "            relations, hts = [], []\n",
        "            # Get positive samples from dataset\n",
        "            for h, t in train_triple.keys():\n",
        "                relation = [0] * len(rel2id)\n",
        "                for mention in train_triple[h, t]:\n",
        "                    relation[mention[\"relation\"]] = 1\n",
        "                    evidence = mention[\"evidence\"]\n",
        "                relations.append(relation)\n",
        "                hts.append([h, t])\n",
        "                pos_samples += 1\n",
        "            # print(len(relations))\n",
        "            # print(entities)\n",
        "            # print(sorted(list(train_triple.keys())))\n",
        "\n",
        "            # Get negative samples from dataset\n",
        "            for h in range(len(entities)):\n",
        "                for t in range(len(entities)):\n",
        "                    if h != t and [h, t] not in hts:\n",
        "                        relation = [1] + [0] * (len(rel2id) - 1)\n",
        "                        relations.append(relation)\n",
        "                        hts.append([h, t])\n",
        "                        neg_samples += 1\n",
        "\n",
        "            assert len(relations) <= len(entities) * (len(entities) - 1) + 1, f'relations:{len(relations)} entities:{len(entities)}'\n",
        "            assert len(relations) >= len(entities) * (len(entities) - 1), f'relations:{len(relations)} entities:{len(entities)}'\n",
        "\n",
        "            if len(hts)==0:\n",
        "                print(len(sent))\n",
        "            sents = sents[:max_seq_length - 2]\n",
        "            input_ids = tokenizer.convert_tokens_to_ids(sents)\n",
        "            input_ids = tokenizer.build_inputs_with_special_tokens(input_ids)\n",
        "\n",
        "            i_line += 1\n",
        "            feature = {'input_ids': input_ids,\n",
        "                       'entity_pos': entity_pos,\n",
        "                       'labels': relations,\n",
        "                       'hts': hts,\n",
        "                       'title': sample['title'],\n",
        "                       }\n",
        "            features.append(feature)\n",
        "\n",
        "\n",
        "\n",
        "        print(\"# of documents {}.\".format(i_line))\n",
        "        print(\"# of positive examples {}.\".format(pos_samples))\n",
        "        print(\"# of negative examples {}.\".format(neg_samples))\n",
        "        print(\"# {} examples len>512 and max len is {}.\".format(up512_num, max_len))\n",
        "\n",
        "\n",
        "        with open(file=save_file, mode='wb') as fw:\n",
        "            pickle.dump(features, fw)\n",
        "        print('finish reading {} and save preprocessed data to {}.'.format(file_in, save_file))\n"
      ]
    },
    {
      "cell_type": "code",
      "execution_count": null,
      "id": "61660ad8-4521-4053-9038-86622eb4fc07",
      "metadata": {
        "id": "61660ad8-4521-4053-9038-86622eb4fc07"
      },
      "outputs": [],
      "source": [
        "# ner2id_path = './data/for_docred/ner2id.json'\n",
        "# with open(ner2id_path, 'r') as f:\n",
        "#     ner2id = json.load(f)\n",
        "\n",
        "# print([\n",
        "#     x\n",
        "#     for ent in ner2id.keys()\n",
        "#     for x in ['-', ent]\n",
        "# ])"
      ]
    },
    {
      "cell_type": "code",
      "execution_count": null,
      "id": "0c1e23fd-5b35-4fad-b6a2-f3617bd68d49",
      "metadata": {
        "tags": [],
        "id": "0c1e23fd-5b35-4fad-b6a2-f3617bd68d49"
      },
      "outputs": [],
      "source": [
        "# train_features = Dataset.read(train_file)"
      ]
    },
    {
      "cell_type": "markdown",
      "id": "4f98868c",
      "metadata": {
        "id": "4f98868c"
      },
      "source": [
        "## Prepare the Model"
      ]
    },
    {
      "cell_type": "code",
      "execution_count": null,
      "id": "eefee349",
      "metadata": {
        "id": "eefee349"
      },
      "outputs": [],
      "source": [
        "class AttentionUNet(torch.nn.Module):\n",
        "    \"\"\"\n",
        "    UNet, down sampling & up sampling for global reasoning\n",
        "    \"\"\"\n",
        "\n",
        "    def __init__(self, input_channels, class_number, **kwargs):\n",
        "        super(AttentionUNet, self).__init__()\n",
        "\n",
        "        down_channel = kwargs['down_channel'] # default = 256\n",
        "\n",
        "        down_channel_2 = down_channel * 2\n",
        "        up_channel_1 = down_channel_2 * 2\n",
        "        up_channel_2 = down_channel * 2\n",
        "\n",
        "        self.inc = InConv(input_channels, down_channel)\n",
        "        self.down1 = DownLayer(down_channel, down_channel_2)\n",
        "        self.down2 = DownLayer(down_channel_2, down_channel_2)\n",
        "\n",
        "        self.up1 = UpLayer(up_channel_1, up_channel_1 // 4)\n",
        "        self.up2 = UpLayer(up_channel_2, up_channel_2 // 4)\n",
        "        self.outc = OutConv(up_channel_2 // 4, class_number)\n",
        "\n",
        "    def forward(self, attention_channels):\n",
        "        \"\"\"\n",
        "        Given multi-channel attention map, return the logits of every one mapping into 3-class\n",
        "        :param attention_channels:\n",
        "        :return:\n",
        "        \"\"\"\n",
        "        # attention_channels as the shape of: batch_size x channel x width x height\n",
        "        x = attention_channels\n",
        "        x1 = self.inc(x)\n",
        "        x2 = self.down1(x1)\n",
        "        x3 = self.down2(x2)\n",
        "        x = self.up1(x3, x2)\n",
        "        x = self.up2(x, x1)\n",
        "        output = self.outc(x)\n",
        "        # attn_map as the shape of: batch_size x width x height x class\n",
        "        output = output.permute(0, 2, 3, 1).contiguous()\n",
        "        return output\n",
        "\n",
        "\n",
        "class DoubleConv(nn.Module):\n",
        "    \"\"\"(conv => [BN] => ReLU) * 2\"\"\"\n",
        "\n",
        "    def __init__(self, in_ch, out_ch):\n",
        "        super(DoubleConv, self).__init__()\n",
        "        self.double_conv = nn.Sequential(nn.Conv2d(in_ch, out_ch, kernel_size=3, padding=1),\n",
        "                                         nn.BatchNorm2d(out_ch),\n",
        "                                         nn.ReLU(inplace=True),\n",
        "                                         nn.Conv2d(out_ch, out_ch, kernel_size=3, padding=1),\n",
        "                                         nn.BatchNorm2d(out_ch),\n",
        "                                         nn.ReLU(inplace=True))\n",
        "\n",
        "    def forward(self, x):\n",
        "        x = self.double_conv(x)\n",
        "        return x\n",
        "\n",
        "\n",
        "class InConv(nn.Module):\n",
        "\n",
        "    def __init__(self, in_ch, out_ch):\n",
        "        super(InConv, self).__init__()\n",
        "        self.conv = DoubleConv(in_ch, out_ch)\n",
        "\n",
        "    def forward(self, x):\n",
        "        x = self.conv(x)\n",
        "        return x\n",
        "\n",
        "\n",
        "class DownLayer(nn.Module):\n",
        "\n",
        "    def __init__(self, in_ch, out_ch):\n",
        "        super(DownLayer, self).__init__()\n",
        "        self.maxpool_conv = nn.Sequential(\n",
        "            nn.MaxPool2d(kernel_size=2),\n",
        "            DoubleConv(in_ch, out_ch)\n",
        "        )\n",
        "\n",
        "    def forward(self, x):\n",
        "        x = self.maxpool_conv(x)\n",
        "        return x\n",
        "\n",
        "\n",
        "class UpLayer(nn.Module):\n",
        "\n",
        "    def __init__(self, in_ch, out_ch, bilinear=True):\n",
        "        super(UpLayer, self).__init__()\n",
        "        if bilinear:\n",
        "            self.up = nn.Upsample(scale_factor=2, mode='bilinear',\n",
        "                                  align_corners=True)\n",
        "        else:\n",
        "            self.up = nn.ConvTranspose2d(in_ch // 2, in_ch // 2, 2, stride=2)\n",
        "        self.conv = DoubleConv(in_ch, out_ch)\n",
        "\n",
        "    def forward(self, x1, x2):\n",
        "        x1 = self.up(x1)\n",
        "        diffY = x2.size()[2] - x1.size()[2]\n",
        "        diffX = x2.size()[3] - x1.size()[3]\n",
        "        x1 = F.pad(x1, (diffX // 2, diffX - diffX // 2, diffY // 2, diffY -\n",
        "                        diffY // 2))\n",
        "        x = torch.cat([x2, x1], dim=1)\n",
        "        x = self.conv(x)\n",
        "        return x\n",
        "\n",
        "\n",
        "class OutConv(nn.Module):\n",
        "\n",
        "    def __init__(self, in_ch, out_ch):\n",
        "        super(OutConv, self).__init__()\n",
        "        self.conv = nn.Conv2d(in_ch, out_ch, 1)\n",
        "\n",
        "    def forward(self, x):\n",
        "        x = self.conv(x)\n",
        "        return x\n",
        "\n",
        "class DocREModel(nn.Module):\n",
        "    def __init__(self, config, args, model, emb_size=768, block_size=64, num_labels=-1):\n",
        "        super().__init__()\n",
        "        self.config = config\n",
        "        self.bert_model = model\n",
        "        self.hidden_size = config.hidden_size\n",
        "        self.loss_fnt = ATLoss()\n",
        "\n",
        "        self.head_extractor = nn.Linear(1 * config.hidden_size + args.unet_out_dim, emb_size)\n",
        "        self.tail_extractor = nn.Linear(1 * config.hidden_size + args.unet_out_dim, emb_size)\n",
        "        # self.head_extractor = nn.Linear(1 * config.hidden_size , emb_size)\n",
        "        # self.tail_extractor = nn.Linear(1 * config.hidden_size , emb_size)\n",
        "        self.bilinear = nn.Linear(emb_size * block_size, config.num_labels)\n",
        "\n",
        "        self.emb_size = emb_size\n",
        "        self.block_size = block_size\n",
        "        self.num_labels = num_labels\n",
        "\n",
        "        self.bertdrop = nn.Dropout(0.6)\n",
        "        self.unet_in_dim = args.unet_in_dim\n",
        "        self.unet_out_dim = args.unet_in_dim\n",
        "        self.liner = nn.Linear(config.hidden_size, args.unet_in_dim)\n",
        "        self.min_height = args.max_height\n",
        "        self.channel_type = args.channel_type\n",
        "        self.segmentation_net = AttentionUNet(input_channels=args.unet_in_dim,\n",
        "                                              class_number=args.unet_out_dim,\n",
        "                                              down_channel=args.down_dim)\n",
        "\n",
        "\n",
        "    def encode(self, input_ids, attention_mask,entity_pos):\n",
        "        config = self.config\n",
        "        if config.transformer_type == \"bert\":\n",
        "            start_tokens = [config.cls_token_id]\n",
        "            end_tokens = [config.sep_token_id]\n",
        "        elif config.transformer_type == \"roberta\":\n",
        "            start_tokens = [config.cls_token_id]\n",
        "            end_tokens = [config.sep_token_id, config.sep_token_id]\n",
        "        sequence_output, attention = process_long_input(self.bert_model, input_ids, attention_mask, start_tokens, end_tokens)\n",
        "        return sequence_output, attention\n",
        "\n",
        "    def get_hrt(self, sequence_output, attention, entity_pos, hts):\n",
        "        offset = 1 if self.config.transformer_type in [\"bert\", \"roberta\"] else 0\n",
        "        bs, h, _, c = attention.size()\n",
        "        # ne = max([len(x) for x in entity_pos])  # 本次bs中的最大实体数\n",
        "\n",
        "        hss, tss, rss = [], [], []\n",
        "        entity_es = []\n",
        "        entity_as = []\n",
        "        for i in range(len(entity_pos)):\n",
        "            entity_embs, entity_atts = [], []\n",
        "            for entity_num, e in enumerate(entity_pos[i]):\n",
        "                if len(e) > 1:\n",
        "                    e_emb, e_att = [], []\n",
        "                    for start, end in e:\n",
        "                        if start + offset < c:\n",
        "                            # In case the entity mention is truncated due to limited max seq length.\n",
        "                            e_emb.append(sequence_output[i, start + offset])\n",
        "                            e_att.append(attention[i, :, start + offset])\n",
        "                    if len(e_emb) > 0:\n",
        "                        e_emb = torch.logsumexp(torch.stack(e_emb, dim=0), dim=0)\n",
        "                        e_att = torch.stack(e_att, dim=0).mean(0)\n",
        "                    else:\n",
        "                        e_emb = torch.zeros(self.config.hidden_size).to(sequence_output)\n",
        "                        e_att = torch.zeros(h, c).to(attention)\n",
        "                else:\n",
        "                    start, end = e[0]\n",
        "                    if start + offset < c:\n",
        "                        e_emb = sequence_output[i, start + offset]\n",
        "                        e_att = attention[i, :, start + offset]\n",
        "                    else:\n",
        "                        e_emb = torch.zeros(self.config.hidden_size).to(sequence_output)\n",
        "                        e_att = torch.zeros(h, c).to(attention)\n",
        "                entity_embs.append(e_emb)\n",
        "                entity_atts.append(e_att)\n",
        "            for _ in range(self.min_height-entity_num-1):\n",
        "                entity_atts.append(e_att)\n",
        "\n",
        "            entity_embs = torch.stack(entity_embs, dim=0)  # [n_e, d]\n",
        "            entity_atts = torch.stack(entity_atts, dim=0)  # [n_e, h, seq_len]\n",
        "\n",
        "\n",
        "            entity_es.append(entity_embs)\n",
        "            entity_as.append(entity_atts)\n",
        "            ht_i = torch.LongTensor(hts[i]).to(sequence_output.device)\n",
        "            hs = torch.index_select(entity_embs, 0, ht_i[:, 0])\n",
        "            ts = torch.index_select(entity_embs, 0, ht_i[:, 1])\n",
        "\n",
        "            hss.append(hs)\n",
        "            tss.append(ts)\n",
        "        hss = torch.cat(hss, dim=0)\n",
        "        tss = torch.cat(tss, dim=0)\n",
        "        return hss, tss, entity_es, entity_as\n",
        "\n",
        "    def get_mask(self, ents, bs, ne, run_device):\n",
        "        ent_mask = torch.zeros(bs, ne, device=run_device)\n",
        "        rel_mask = torch.zeros(bs, ne, ne, device=run_device)\n",
        "        for _b in range(bs):\n",
        "            ent_mask[_b, :len(ents[_b])] = 1\n",
        "            rel_mask[_b, :len(ents[_b]), :len(ents[_b])] = 1\n",
        "        return ent_mask, rel_mask\n",
        "\n",
        "\n",
        "    def get_ht(self, rel_enco, hts):\n",
        "        htss = []\n",
        "        for i in range(len(hts)):\n",
        "            ht_index = hts[i]\n",
        "            for (h_index, t_index) in ht_index:\n",
        "                htss.append(rel_enco[i,h_index,t_index])\n",
        "        htss = torch.stack(htss,dim=0)\n",
        "        return htss\n",
        "\n",
        "    def get_channel_map(self, sequence_output, entity_as):\n",
        "        # sequence_output = sequence_output.to('cpu')\n",
        "        # attention = attention.to('cpu')\n",
        "        bs,_,d = sequence_output.size()\n",
        "        # ne = max([len(x) for x in entity_as])  # 本次bs中的最大实体数\n",
        "        ne = self.min_height\n",
        "\n",
        "        index_pair = []\n",
        "        for i in range(ne):\n",
        "            tmp = torch.cat((torch.ones((ne, 1), dtype=int) * i, torch.arange(0, ne).unsqueeze(1)), dim=-1)\n",
        "            index_pair.append(tmp)\n",
        "        index_pair = torch.stack(index_pair, dim=0).reshape(-1, 2).to(sequence_output.device)\n",
        "        map_rss = []\n",
        "        for b in range(bs):\n",
        "            entity_atts = entity_as[b]\n",
        "            h_att = torch.index_select(entity_atts, 0, index_pair[:, 0])\n",
        "            t_att = torch.index_select(entity_atts, 0, index_pair[:, 1])\n",
        "            ht_att = (h_att * t_att).mean(1)\n",
        "            ht_att = ht_att / (ht_att.sum(1, keepdim=True) + 1e-5)\n",
        "            rs = contract(\"ld,rl->rd\", sequence_output[b], ht_att)\n",
        "            map_rss.append(rs)\n",
        "        map_rss = torch.cat(map_rss, dim=0).reshape(bs, ne, ne, d)\n",
        "        return map_rss\n",
        "\n",
        "    def forward(self,\n",
        "                input_ids=None,\n",
        "                attention_mask=None,\n",
        "                labels=None,\n",
        "                entity_pos=None,\n",
        "                hts=None,\n",
        "                instance_mask=None,\n",
        "                ):\n",
        "\n",
        "        sequence_output, attention = self.encode(input_ids, attention_mask,entity_pos)\n",
        "\n",
        "        bs, sequen_len, d = sequence_output.shape\n",
        "        # run_device = sequence_output.device.index\n",
        "        run_device = sequence_output.device\n",
        "        ne = max([len(x) for x in entity_pos])  # 本次bs中的最大实体数\n",
        "        ent_mask, rel_mask = self.get_mask(entity_pos, bs, ne, run_device)\n",
        "\n",
        "        # get hs, ts and entity_embs >> entity_rs\n",
        "        hs, ts, entity_embs, entity_as = self.get_hrt(sequence_output, attention, entity_pos, hts)\n",
        "\n",
        "\n",
        "        if self.channel_type == 'context-based':\n",
        "            feature_map = self.get_channel_map(sequence_output, entity_as)\n",
        "            ##print('feature_map:', feature_map.shape)\n",
        "            attn_input = self.liner(feature_map).permute(0, 3, 1, 2).contiguous()\n",
        "\n",
        "        else:\n",
        "            raise Exception(\"channel_type must be specify correctly\")\n",
        "\n",
        "\n",
        "        attn_map = self.segmentation_net(attn_input)\n",
        "        h_t = self.get_ht (attn_map, hts)\n",
        "\n",
        "        hs = torch.tanh(self.head_extractor(torch.cat([hs, h_t], dim=1)))\n",
        "        ts = torch.tanh(self.tail_extractor(torch.cat([ts, h_t], dim=1)))\n",
        "\n",
        "\n",
        "        b1 = hs.view(-1, self.emb_size // self.block_size, self.block_size)\n",
        "        b2 = ts.view(-1, self.emb_size // self.block_size, self.block_size)\n",
        "        bl = (b1.unsqueeze(3) * b2.unsqueeze(2)).view(-1, self.emb_size * self.block_size)\n",
        "        logits = self.bilinear(bl)\n",
        "\n",
        "\n",
        "        output = (self.loss_fnt.get_label(logits, num_labels=self.num_labels))\n",
        "        if labels is not None:\n",
        "            labels = [torch.tensor(label) for label in labels]\n",
        "            labels = torch.cat(labels, dim=0).to(logits)\n",
        "            loss = self.loss_fnt(logits.float(), labels.float())\n",
        "            output = (loss.to(sequence_output), output)\n",
        "        return output"
      ]
    },
    {
      "cell_type": "markdown",
      "id": "db4c5c74",
      "metadata": {
        "id": "db4c5c74"
      },
      "source": [
        "## Loss function"
      ]
    },
    {
      "cell_type": "code",
      "execution_count": null,
      "id": "50cf7653",
      "metadata": {
        "id": "50cf7653"
      },
      "outputs": [],
      "source": [
        "def multilabel_categorical_crossentropy(y_true, y_pred):\n",
        "    y_pred = (1 - 2 * y_true) * y_pred\n",
        "    y_pred_neg = y_pred - y_true * 1e30\n",
        "    y_pred_pos = y_pred - (1 - y_true) * 1e30\n",
        "    zeros = torch.zeros_like(y_pred[..., :1])\n",
        "    y_pred_neg = torch.cat([y_pred_neg, zeros],dim=-1)\n",
        "    y_pred_pos = torch.cat((y_pred_pos, zeros),dim=-1)\n",
        "    neg_loss = torch.logsumexp(y_pred_neg, axis=-1)\n",
        "    pos_loss = torch.logsumexp(y_pred_pos, axis=-1)\n",
        "    return neg_loss + pos_loss\n",
        "\n",
        "\n",
        "class ATLoss(nn.Module):\n",
        "    def __init__(self):\n",
        "        super().__init__()\n",
        "\n",
        "    def forward(self, logits, labels):\n",
        "\n",
        "        loss = multilabel_categorical_crossentropy(labels,logits)\n",
        "        loss = loss.mean()\n",
        "        return loss\n",
        "\n",
        "    def get_label(self, logits, num_labels=-1):\n",
        "        th_logit = torch.zeros_like(logits[..., :1])\n",
        "        output = torch.zeros_like(logits).to(logits)\n",
        "        mask = (logits > th_logit)\n",
        "        if num_labels > 0:\n",
        "            top_v, _ = torch.topk(logits, num_labels, dim=1)\n",
        "            top_v = top_v[:, -1]\n",
        "            mask = (logits >= top_v.unsqueeze(1)) & mask\n",
        "        output[mask] = 1.0\n",
        "        output[:, 0] = (output[:,1:].sum(1) == 0.).to(logits)\n",
        "\n",
        "        return output"
      ]
    },
    {
      "cell_type": "markdown",
      "id": "be7fed6f",
      "metadata": {
        "id": "be7fed6f"
      },
      "source": [
        "## Preprocess the inputs"
      ]
    },
    {
      "cell_type": "code",
      "execution_count": null,
      "id": "ab2c84f8",
      "metadata": {
        "id": "ab2c84f8"
      },
      "outputs": [],
      "source": [
        "def process_long_input(model, input_ids, attention_mask, start_tokens, end_tokens):\n",
        "    # Split the input to 2 overlapping chunks. Now BERT can encode inputs of which the length are up to 1024.\n",
        "    n, c = input_ids.size()\n",
        "    start_tokens = torch.tensor(start_tokens).to(input_ids)\n",
        "    end_tokens = torch.tensor(end_tokens).to(input_ids)\n",
        "    len_start = start_tokens.size(0)\n",
        "    len_end = end_tokens.size(0)\n",
        "    if c <= 512:\n",
        "        output = model(\n",
        "            input_ids=input_ids,\n",
        "            attention_mask=attention_mask,\n",
        "            output_attentions=True,\n",
        "        )\n",
        "        sequence_output = output[0]\n",
        "        attention = output[-1][-1]\n",
        "    else:\n",
        "        new_input_ids, new_attention_mask, num_seg = [], [], []\n",
        "        seq_len = attention_mask.sum(1).cpu().numpy().astype(np.int32).tolist()\n",
        "        for i, l_i in enumerate(seq_len):\n",
        "            if l_i <= 512:\n",
        "                new_input_ids.append(input_ids[i, :512])\n",
        "                new_attention_mask.append(attention_mask[i, :512])\n",
        "                num_seg.append(1)\n",
        "            else:\n",
        "                input_ids1 = torch.cat([input_ids[i, :512 - len_end], end_tokens], dim=-1)\n",
        "                input_ids2 = torch.cat([start_tokens, input_ids[i, (l_i - 512 + len_start): l_i]], dim=-1)\n",
        "                attention_mask1 = attention_mask[i, :512]\n",
        "                attention_mask2 = attention_mask[i, (l_i - 512): l_i]\n",
        "                new_input_ids.extend([input_ids1, input_ids2])\n",
        "                new_attention_mask.extend([attention_mask1, attention_mask2])\n",
        "                num_seg.append(2)\n",
        "        input_ids = torch.stack(new_input_ids, dim=0)\n",
        "        attention_mask = torch.stack(new_attention_mask, dim=0)\n",
        "        output = model(\n",
        "            input_ids=input_ids,\n",
        "            attention_mask=attention_mask,\n",
        "            output_attentions=True,\n",
        "        )\n",
        "        sequence_output = output[0]\n",
        "        attention = output[-1][-1]\n",
        "        i = 0\n",
        "        new_output, new_attention = [], []\n",
        "        for (n_s, l_i) in zip(num_seg, seq_len):\n",
        "            if n_s == 1:\n",
        "                output = F.pad(sequence_output[i], (0, 0, 0, c - 512))\n",
        "                att = F.pad(attention[i], (0, c - 512, 0, c - 512))\n",
        "                new_output.append(output)\n",
        "                new_attention.append(att)\n",
        "            elif n_s == 2:\n",
        "                output1 = sequence_output[i][:512 - len_end]\n",
        "                mask1 = attention_mask[i][:512 - len_end]\n",
        "                att1 = attention[i][:, :512 - len_end, :512 - len_end]\n",
        "                output1 = F.pad(output1, (0, 0, 0, c - 512 + len_end))\n",
        "                mask1 = F.pad(mask1, (0, c - 512 + len_end))\n",
        "                att1 = F.pad(att1, (0, c - 512 + len_end, 0, c - 512 + len_end))\n",
        "\n",
        "                output2 = sequence_output[i + 1][len_start:]\n",
        "                mask2 = attention_mask[i + 1][len_start:]\n",
        "                att2 = attention[i + 1][:, len_start:, len_start:]\n",
        "                output2 = F.pad(output2, (0, 0, l_i - 512 + len_start, c - l_i))\n",
        "                mask2 = F.pad(mask2, (l_i - 512 + len_start, c - l_i))\n",
        "                att2 = F.pad(att2, [l_i - 512 + len_start, c - l_i, l_i - 512 + len_start, c - l_i])\n",
        "                mask = mask1 + mask2 + 1e-10\n",
        "                output = (output1 + output2) / mask.unsqueeze(-1)\n",
        "                att = (att1 + att2)\n",
        "                att = att / (att.sum(-1, keepdim=True) + 1e-10)\n",
        "                new_output.append(output)\n",
        "                new_attention.append(att)\n",
        "            i += n_s\n",
        "        sequence_output = torch.stack(new_output, dim=0)\n",
        "        attention = torch.stack(new_attention, dim=0)\n",
        "    return sequence_output, attention"
      ]
    },
    {
      "cell_type": "markdown",
      "id": "bb59e10c",
      "metadata": {
        "id": "bb59e10c"
      },
      "source": [
        "## Auxiliary functions"
      ]
    },
    {
      "cell_type": "code",
      "execution_count": null,
      "id": "2c46f18d",
      "metadata": {
        "id": "2c46f18d"
      },
      "outputs": [],
      "source": [
        "def set_seed(cfg):\n",
        "    random.seed(cfg.seed)\n",
        "    np.random.seed(cfg.seed)\n",
        "    torch.manual_seed(cfg.seed)\n",
        "\n",
        "def collate_fn(batch):\n",
        "    max_len = max([len(f[\"input_ids\"]) for f in batch])\n",
        "    input_ids = [f[\"input_ids\"] + [0] * (max_len - len(f[\"input_ids\"])) for f in batch]\n",
        "    input_mask = [[1.0] * len(f[\"input_ids\"]) + [0.0] * (max_len - len(f[\"input_ids\"])) for f in batch]\n",
        "    input_ids = torch.tensor(input_ids, dtype=torch.long)\n",
        "    input_mask = torch.tensor(input_mask, dtype=torch.float)\n",
        "    entity_pos = [f[\"entity_pos\"] for f in batch]\n",
        "\n",
        "    labels = [f[\"labels\"] for f in batch]\n",
        "    hts = [f[\"hts\"] for f in batch]\n",
        "    output = (input_ids, input_mask, labels, entity_pos, hts )\n",
        "    return output\n",
        "\n",
        "def to_official(args, preds, features):\n",
        "    rel2id = json.load(open(f'{args.data_dir}/rel2id.json', 'r'))\n",
        "    id2rel = {value: key for key, value in rel2id.items()}\n",
        "\n",
        "    h_idx, t_idx, title = [], [], []\n",
        "\n",
        "    for f in features:\n",
        "        hts = f[\"hts\"]\n",
        "        h_idx += [ht[0] for ht in hts]\n",
        "        t_idx += [ht[1] for ht in hts]\n",
        "        title += [f[\"title\"] for ht in hts]\n",
        "\n",
        "    res = []\n",
        "    # print('h_idx, preds', len(h_idx), len(preds))\n",
        "    # assert len(h_idx) == len(preds)\n",
        "\n",
        "\n",
        "    for i in range(preds.shape[0]):\n",
        "        pred = preds[i]\n",
        "        pred = np.nonzero(pred)[0].tolist()\n",
        "        for p in pred:\n",
        "            if p != 0:\n",
        "                res.append(\n",
        "                    {\n",
        "                        'title': title[i],\n",
        "                        'h_idx': h_idx[i],\n",
        "                        't_idx': t_idx[i],\n",
        "                        'r': id2rel[p],\n",
        "                    }\n",
        "                )\n",
        "    return res\n",
        "\n",
        "def gen_train_facts(data_file_name, truth_dir):\n",
        "    fact_file_name = data_file_name[data_file_name.find(\"train_\"):]\n",
        "    fact_file_name = os.path.join(truth_dir, fact_file_name.replace(\".json\", \".fact\"))\n",
        "\n",
        "    if os.path.exists(fact_file_name):\n",
        "        fact_in_train = set([])\n",
        "        triples = json.load(open(fact_file_name))\n",
        "        for x in triples:\n",
        "            fact_in_train.add(tuple(x))\n",
        "        return fact_in_train\n",
        "\n",
        "    fact_in_train = set([])\n",
        "    ori_data = json.load(open(data_file_name))\n",
        "    for data in ori_data:\n",
        "        vertexSet = data['vertexSet']\n",
        "        for label in data['labels']:\n",
        "            rel = label['r']\n",
        "            for n1 in vertexSet[label['h']]:\n",
        "                for n2 in vertexSet[label['t']]:\n",
        "                    fact_in_train.add((n1['name'], n2['name'], rel))\n",
        "\n",
        "    json.dump(list(fact_in_train), open(fact_file_name, \"w\"))\n",
        "\n",
        "    return fact_in_train\n",
        "\n",
        "def official_evaluate(tmp, path):\n",
        "    '''\n",
        "        Adapted from the official evaluation code\n",
        "    '''\n",
        "    truth_dir = os.path.join(path, 'ref')\n",
        "\n",
        "    if not os.path.exists(truth_dir):\n",
        "        os.makedirs(truth_dir)\n",
        "\n",
        "    fact_in_train_annotated = gen_train_facts(os.path.join(path, \"train_annotated.json\"), truth_dir)\n",
        "\n",
        "    # if not os.path.exists(os.path.join(path, \"train_distant.json\")):\n",
        "    #     raise FileNotFoundError(\"Sorry, the file: 'train_annotated.json' is too big to upload to github, \\\n",
        "    #         please manually download to 'data/' from DocRED GoogleDrive https://drive.google.com/drive/folders/1c5-0YwnoJx8NS6CV2f-NoTHR__BdkNqw\")\n",
        "    # fact_in_train_distant = gen_train_facts(os.path.join(path, \"train_distant.json\"), truth_dir)\n",
        "\n",
        "    truth = json.load(open(os.path.join(path, \"dev.json\")))\n",
        "\n",
        "    std = {}\n",
        "    tot_evidences = 0\n",
        "    titleset = set([])\n",
        "\n",
        "    title2vectexSet = {}\n",
        "\n",
        "    for x in truth:\n",
        "        title = x['title']\n",
        "        titleset.add(title)\n",
        "\n",
        "        vertexSet = x['vertexSet']\n",
        "        title2vectexSet[title] = vertexSet\n",
        "\n",
        "        for label in x['labels']:\n",
        "            r = label['r']\n",
        "            h_idx = label['h']\n",
        "            t_idx = label['t']\n",
        "            std[(title, r, h_idx, t_idx)] = set(label['evidence'])\n",
        "            tot_evidences += len(label['evidence'])\n",
        "\n",
        "    tot_relations = len(std)\n",
        "    tmp.sort(key=lambda x: (x['title'], x['h_idx'], x['t_idx'], x['r']))\n",
        "    submission_answer = [tmp[0]]\n",
        "    for i in range(1, len(tmp)):\n",
        "        x = tmp[i]\n",
        "        y = tmp[i - 1]\n",
        "        if (x['title'], x['h_idx'], x['t_idx'], x['r']) != (y['title'], y['h_idx'], y['t_idx'], y['r']):\n",
        "            submission_answer.append(tmp[i])\n",
        "\n",
        "    correct_re = 0\n",
        "    correct_evidence = 0\n",
        "    pred_evi = 0\n",
        "\n",
        "    correct_in_train_annotated = 0\n",
        "    correct_in_train_distant = 0\n",
        "    titleset2 = set([])\n",
        "    for x in submission_answer:\n",
        "        title = x['title']\n",
        "        h_idx = x['h_idx']\n",
        "        t_idx = x['t_idx']\n",
        "        r = x['r']\n",
        "        titleset2.add(title)\n",
        "        if title not in title2vectexSet:\n",
        "            continue\n",
        "        vertexSet = title2vectexSet[title]\n",
        "\n",
        "        if 'evidence' in x:\n",
        "            evi = set(x['evidence'])\n",
        "        else:\n",
        "            evi = set([])\n",
        "        pred_evi += len(evi)\n",
        "\n",
        "        if (title, r, h_idx, t_idx) in std:\n",
        "            correct_re += 1\n",
        "            stdevi = std[(title, r, h_idx, t_idx)]\n",
        "            correct_evidence += len(stdevi & evi)\n",
        "            in_train_annotated = in_train_distant = False\n",
        "            for n1 in vertexSet[h_idx]:\n",
        "                for n2 in vertexSet[t_idx]:\n",
        "                    if (n1['name'], n2['name'], r) in fact_in_train_annotated:\n",
        "                        in_train_annotated = True\n",
        "                    # if (n1['name'], n2['name'], r) in fact_in_train_distant:\n",
        "                    #     in_train_distant = True\n",
        "\n",
        "            if in_train_annotated:\n",
        "                correct_in_train_annotated += 1\n",
        "            # if in_train_distant:\n",
        "            #     correct_in_train_distant += 1\n",
        "\n",
        "    re_p = 1.0 * correct_re / len(submission_answer)\n",
        "    re_r = 1.0 * correct_re / tot_relations\n",
        "    if re_p + re_r == 0:\n",
        "        re_f1 = 0\n",
        "    else:\n",
        "        re_f1 = 2.0 * re_p * re_r / (re_p + re_r)\n",
        "\n",
        "    evi_p = 1.0 * correct_evidence / pred_evi if pred_evi > 0 else 0\n",
        "    evi_r = 1.0 * correct_evidence / tot_evidences\n",
        "    if evi_p + evi_r == 0:\n",
        "        evi_f1 = 0\n",
        "    else:\n",
        "        evi_f1 = 2.0 * evi_p * evi_r / (evi_p + evi_r)\n",
        "\n",
        "    re_p_ignore_train_annotated = 1.0 * (correct_re - correct_in_train_annotated) / (len(submission_answer) - correct_in_train_annotated + 1e-5)\n",
        "    re_p_ignore_train = 1.0 * (correct_re - correct_in_train_distant) / (len(submission_answer) - correct_in_train_distant + 1e-5)\n",
        "\n",
        "    if re_p_ignore_train_annotated + re_r == 0:\n",
        "        re_f1_ignore_train_annotated = 0\n",
        "    else:\n",
        "        re_f1_ignore_train_annotated = 2.0 * re_p_ignore_train_annotated * re_r / (re_p_ignore_train_annotated + re_r)\n",
        "\n",
        "    if re_p_ignore_train + re_r == 0:\n",
        "        re_f1_ignore_train = 0\n",
        "    else:\n",
        "        re_f1_ignore_train = 2.0 * re_p_ignore_train * re_r / (re_p_ignore_train + re_r)\n",
        "\n",
        "    return re_f1, evi_f1, re_f1_ignore_train_annotated, re_f1_ignore_train, re_p, re_r"
      ]
    },
    {
      "cell_type": "markdown",
      "id": "bd91859a",
      "metadata": {
        "id": "bd91859a"
      },
      "source": [
        "## Train the model\n",
        "### Config parameters"
      ]
    },
    {
      "cell_type": "markdown",
      "source": [
        "### DeepPavlov ruBert"
      ],
      "metadata": {
        "id": "ctlbOaMMKPJP"
      },
      "id": "ctlbOaMMKPJP"
    },
    {
      "cell_type": "code",
      "execution_count": null,
      "id": "5c8b82c7",
      "metadata": {
        "id": "5c8b82c7"
      },
      "outputs": [],
      "source": [
        "class Config(object):\n",
        "    adam_epsilon=1e-06\n",
        "    bert_lr=3e-05\n",
        "    channel_type='context-based'\n",
        "    config_name=''\n",
        "    data_dir='/content/drive/MyDrive/data/nerel_docred_ver'\n",
        "    dataset='docred'\n",
        "    dev_file='dev.json'\n",
        "    down_dim=256\n",
        "    evaluation_steps=-1\n",
        "    gradient_accumulation_steps=2\n",
        "    learning_rate=0.0003\n",
        "    log_dir='/content/drive/MyDrive/Models/DeepKE_train/logs/train_roberta.log'\n",
        "    max_grad_norm=1.0\n",
        "    max_height=103\n",
        "    max_seq_length=512\n",
        "    # model_name_or_path='xlm-roberta-base'\n",
        "    model_name_or_path='DeepPavlov/rubert-base-cased'\n",
        "    num_class=50\n",
        "    num_labels=29\n",
        "    num_train_epochs=10\n",
        "    save_path='/content/drive/MyDrive/Models/DeepKE_train/checkpoints/model_roberta.pt'\n",
        "    seed=111\n",
        "    test_batch_size=2\n",
        "    test_file='test.json'\n",
        "    tokenizer_name=''\n",
        "    train_batch_size=2\n",
        "    train_file='train_annotated_filter.json'\n",
        "    train_from_saved_model=''\n",
        "    transformer_type='roberta'\n",
        "    unet_in_dim=3\n",
        "    unet_out_dim=256\n",
        "    warmup_ratio=0.06\n",
        "    load_path='/content/drive/MyDrive/Models/DeepKE_train/checkpoints/model_roberta.pt'\n",
        "\n",
        "cfg = Config()"
      ]
    },
    {
      "cell_type": "code",
      "execution_count": null,
      "id": "b410a3d3-4326-4c85-b085-c28c5e893e4c",
      "metadata": {
        "id": "b410a3d3-4326-4c85-b085-c28c5e893e4c"
      },
      "outputs": [],
      "source": [
        "# class Config(object):\n",
        "#     adam_epsilon=1e-06\n",
        "#     bert_lr=3e-05\n",
        "#     channel_type='context-based'\n",
        "#     config_name=''\n",
        "#     data_dir='/Users/yandutov-alex/study/science_work/DocRED_original/data/'\n",
        "#     dataset='docred'\n",
        "#     dev_file='dev.json'\n",
        "#     down_dim=256\n",
        "#     evaluation_steps=-1\n",
        "#     gradient_accumulation_steps=2\n",
        "#     learning_rate=0.0004\n",
        "#     log_dir='./logs/deepke/train_roberta_docred.log'\n",
        "#     max_grad_norm=1.0\n",
        "#     max_height=42\n",
        "#     max_seq_length=1024\n",
        "#     model_name_or_path='roberta-base'\n",
        "#     num_class=97\n",
        "#     num_labels=4\n",
        "#     num_train_epochs=30\n",
        "#     save_path='./model_roberta.pt'\n",
        "#     seed=111\n",
        "#     test_batch_size=2\n",
        "#     test_file='test.json'\n",
        "#     tokenizer_name=''\n",
        "#     train_batch_size=2\n",
        "#     train_file='train_annotated.json'\n",
        "#     train_from_saved_model=''\n",
        "#     transformer_type='roberta'\n",
        "#     unet_in_dim=3\n",
        "#     unet_out_dim=256\n",
        "#     warmup_ratio=0.06\n",
        "#     load_path='./model_roberta.pt'\n",
        "\n",
        "# cfg = Config()"
      ]
    },
    {
      "cell_type": "markdown",
      "id": "92647af6",
      "metadata": {
        "id": "92647af6"
      },
      "source": [
        "### Model Training"
      ]
    },
    {
      "cell_type": "code",
      "execution_count": null,
      "id": "48b9679a",
      "metadata": {
        "id": "48b9679a"
      },
      "outputs": [],
      "source": [
        "def train(args, model, train_features, dev_features, test_features):\n",
        "    def logging(s, print_=True, log_=True):\n",
        "        if print_:\n",
        "            print(s)\n",
        "        if log_ and args.log_dir != '':\n",
        "            with open(args.log_dir, 'a+') as f_log:\n",
        "                f_log.write(s + '\\n')\n",
        "    def finetune(features, optimizer, num_epoch, num_steps, model):\n",
        "        cur_model = model.module if hasattr(model, 'module') else model\n",
        "        # device = torch.device(\"cuda:0\" if torch.cuda.is_available() else \"cpu\")\n",
        "\n",
        "        if torch.cuda.is_available():\n",
        "            device = \"cuda:0\"\n",
        "        # elif torch.backends.mps.is_available():\n",
        "        #     device = \"mps\"\n",
        "        else:\n",
        "            device = \"cpu\"\n",
        "\n",
        "        if args.train_from_saved_model != '':\n",
        "            best_score = torch.load(args.train_from_saved_model)[\"best_f1\"]\n",
        "            epoch_delta = torch.load(args.train_from_saved_model)[\"epoch\"] + 1\n",
        "        else:\n",
        "            epoch_delta = 0\n",
        "            best_score = -1\n",
        "        train_dataloader = DataLoader(features, batch_size=args.train_batch_size, shuffle=True, collate_fn=collate_fn, drop_last=True)\n",
        "        train_iterator = [epoch + epoch_delta for epoch in range(num_epoch)]\n",
        "        total_steps = int(len(train_dataloader) * num_epoch // args.gradient_accumulation_steps)\n",
        "        warmup_steps = int(total_steps * args.warmup_ratio)\n",
        "        scheduler = get_linear_schedule_with_warmup(optimizer, num_warmup_steps=warmup_steps, num_training_steps=total_steps)\n",
        "        print(\"Total steps: {}\".format(total_steps))\n",
        "        print(\"Warmup steps: {}\".format(warmup_steps))\n",
        "        global_step = 0\n",
        "        log_step = 100\n",
        "        total_loss = 0\n",
        "\n",
        "\n",
        "\n",
        "        #scaler = GradScaler()\n",
        "        for epoch in train_iterator:\n",
        "            start_time = time.time()\n",
        "            optimizer.zero_grad()\n",
        "\n",
        "            for step, batch in tqdm(enumerate(train_dataloader)):\n",
        "                model.train()\n",
        "\n",
        "                inputs = {'input_ids': batch[0].to(device),\n",
        "                          'attention_mask': batch[1].to(device),\n",
        "                          'labels': batch[2],\n",
        "                          'entity_pos': batch[3],\n",
        "                          'hts': batch[4],\n",
        "                          }\n",
        "                #with autocast():\n",
        "                outputs = model(**inputs)\n",
        "                loss = outputs[0] / args.gradient_accumulation_steps\n",
        "                total_loss += loss.item()\n",
        "                #    scaler.scale(loss).backward()\n",
        "\n",
        "\n",
        "                loss.backward()\n",
        "\n",
        "                if step % args.gradient_accumulation_steps == 0:\n",
        "                    #scaler.unscale_(optimizer)\n",
        "                    if args.max_grad_norm > 0:\n",
        "                        # torch.nn.utils.clip_grad_norm_(amp.master_params(optimizer), args.max_grad_norm)\n",
        "                        torch.nn.utils.clip_grad_norm_(cur_model.parameters(), args.max_grad_norm)\n",
        "                    #scaler.step(optimizer)\n",
        "                    #scaler.update()\n",
        "                    #scheduler.step()\n",
        "                    optimizer.step()\n",
        "                    scheduler.step()\n",
        "                    optimizer.zero_grad()\n",
        "                    global_step += 1\n",
        "                    num_steps += 1\n",
        "                    if global_step % log_step == 0:\n",
        "                        cur_loss = total_loss / log_step\n",
        "                        elapsed = time.time() - start_time\n",
        "                        logging(\n",
        "                            '| epoch {:2d} | step {:4d} | min/b {:5.2f} | lr {} | train loss {:5.3f}'.format(\n",
        "                                epoch, global_step, elapsed / 60, scheduler.get_last_lr(), cur_loss))\n",
        "                        total_loss = 0\n",
        "                        start_time = time.time()\n",
        "\n",
        "                if (step + 1) == len(train_dataloader) - 1 or (args.evaluation_steps > 0 and num_steps % args.evaluation_steps == 0 and step % args.gradient_accumulation_steps == 0):\n",
        "                # if step ==0:\n",
        "                    logging('-' * 89)\n",
        "                    eval_start_time = time.time()\n",
        "                    dev_score, dev_output = evaluate(args, model, dev_features, tag=\"dev\")\n",
        "\n",
        "                    logging(\n",
        "                        '| epoch {:3d} | time: {:5.2f}s | dev_result:{}'.format(epoch, time.time() - eval_start_time,\n",
        "                                                                                dev_output))\n",
        "                    logging('-' * 89)\n",
        "                    if dev_score > best_score:\n",
        "                        best_score = dev_score\n",
        "                        logging(\n",
        "                            '| epoch {:3d} | best_f1:{}'.format(epoch, best_score))\n",
        "                        if args.save_path != \"\":\n",
        "                            torch.save({\n",
        "                                'epoch': epoch,\n",
        "                                'checkpoint': cur_model.state_dict(),\n",
        "                                'best_f1': best_score,\n",
        "                                'optimizer': optimizer.state_dict()\n",
        "                            }, args.save_path\n",
        "                            , _use_new_zipfile_serialization=False)\n",
        "                            logging(\n",
        "                                '| successfully save model at: {}'.format(args.save_path))\n",
        "                            logging('-' * 89)\n",
        "        return num_steps\n",
        "\n",
        "    cur_model = model.module if hasattr(model, 'module') else model\n",
        "    extract_layer = [\"extractor\", \"bilinear\"]\n",
        "    bert_layer = ['bert_model']\n",
        "    optimizer_grouped_parameters = [\n",
        "        {\"params\": [p for n, p in cur_model.named_parameters() if any(nd in n for nd in bert_layer)], \"lr\": args.bert_lr},\n",
        "        {\"params\": [p for n, p in cur_model.named_parameters() if any(nd in n for nd in extract_layer)], \"lr\": 1e-4},\n",
        "        {\"params\": [p for n, p in cur_model.named_parameters() if not any(nd in n for nd in extract_layer + bert_layer)]},\n",
        "    ]\n",
        "\n",
        "    optimizer = AdamW(optimizer_grouped_parameters, lr=args.learning_rate, eps=args.adam_epsilon)\n",
        "    if args.train_from_saved_model != '':\n",
        "        optimizer.load_state_dict(torch.load(args.train_from_saved_model)[\"optimizer\"])\n",
        "        print(\"load saved optimizer from {}.\".format(args.train_from_saved_model))\n",
        "\n",
        "\n",
        "    num_steps = 0\n",
        "    set_seed(args)\n",
        "    model.zero_grad()\n",
        "    finetune(train_features, optimizer, args.num_train_epochs, num_steps, model)\n",
        "\n",
        "def evaluate(args, model, features, tag=\"dev\"):\n",
        "    # device = torch.device(\"cuda:0\" if torch.cuda.is_available() else \"cpu\")\n",
        "    if torch.cuda.is_available():\n",
        "        device = \"cuda:0\"\n",
        "    # elif torch.backends.mps.is_available():\n",
        "    #     device = \"mps\"\n",
        "    else:\n",
        "        device = \"cpu\"\n",
        "\n",
        "    dataloader = DataLoader(features, batch_size=args.test_batch_size, shuffle=False, collate_fn=collate_fn, drop_last=False)\n",
        "    preds = []\n",
        "    total_loss = 0\n",
        "    for i, batch in enumerate(dataloader):\n",
        "        model.eval()\n",
        "\n",
        "        inputs = {'input_ids': batch[0].to(device),\n",
        "                  'attention_mask': batch[1].to(device),\n",
        "                  'labels': batch[2],\n",
        "                  'entity_pos': batch[3],\n",
        "                  'hts': batch[4],\n",
        "                  }\n",
        "\n",
        "        with torch.no_grad():\n",
        "            output = model(**inputs)\n",
        "            loss = output[0]\n",
        "            pred = output[1].cpu().numpy()\n",
        "            pred[np.isnan(pred)] = 0\n",
        "            preds.append(pred)\n",
        "            total_loss += loss.item()\n",
        "\n",
        "    average_loss = total_loss / (i + 1)\n",
        "    preds = np.concatenate(preds, axis=0).astype(np.float32)\n",
        "    ans = to_official(args, preds, features)\n",
        "    if len(ans) > 0:\n",
        "        best_f1, _, best_f1_ign, _, re_p, re_r = official_evaluate(ans, args.data_dir)\n",
        "    output = {\n",
        "        tag + \"_F1\": best_f1 * 100,\n",
        "        tag + \"_F1_ign\": best_f1_ign * 100,\n",
        "        tag + \"_re_p\": re_p * 100,\n",
        "        tag + \"_re_r\": re_r * 100,\n",
        "        tag + \"_average_loss\": average_loss\n",
        "    }\n",
        "    return best_f1, output"
      ]
    },
    {
      "cell_type": "code",
      "execution_count": null,
      "id": "026c8be0",
      "metadata": {
        "id": "026c8be0",
        "tags": [],
        "colab": {
          "base_uri": "https://localhost:8080/",
          "height": 235
        },
        "outputId": "1a284774-1fdc-4039-cf07-7750454f54b2"
      },
      "outputs": [
        {
          "output_type": "error",
          "ename": "NameError",
          "evalue": "ignored",
          "traceback": [
            "\u001b[0;31m---------------------------------------------------------------------------\u001b[0m",
            "\u001b[0;31mNameError\u001b[0m                                 Traceback (most recent call last)",
            "\u001b[0;32m<ipython-input-13-e764fa32b187>\u001b[0m in \u001b[0;36m<cell line: 14>\u001b[0;34m()\u001b[0m\n\u001b[1;32m     13\u001b[0m \u001b[0;34m\u001b[0m\u001b[0m\n\u001b[1;32m     14\u001b[0m config = AutoConfig.from_pretrained(\n\u001b[0;32m---> 15\u001b[0;31m     \u001b[0mcfg\u001b[0m\u001b[0;34m.\u001b[0m\u001b[0mconfig_name\u001b[0m \u001b[0;32mif\u001b[0m \u001b[0mcfg\u001b[0m\u001b[0;34m.\u001b[0m\u001b[0mconfig_name\u001b[0m \u001b[0;32melse\u001b[0m \u001b[0mcfg\u001b[0m\u001b[0;34m.\u001b[0m\u001b[0mmodel_name_or_path\u001b[0m\u001b[0;34m,\u001b[0m\u001b[0;34m\u001b[0m\u001b[0;34m\u001b[0m\u001b[0m\n\u001b[0m\u001b[1;32m     16\u001b[0m     \u001b[0mnum_labels\u001b[0m\u001b[0;34m=\u001b[0m\u001b[0mcfg\u001b[0m\u001b[0;34m.\u001b[0m\u001b[0mnum_class\u001b[0m\u001b[0;34m,\u001b[0m\u001b[0;34m\u001b[0m\u001b[0;34m\u001b[0m\u001b[0m\n\u001b[1;32m     17\u001b[0m )\n",
            "\u001b[0;31mNameError\u001b[0m: name 'cfg' is not defined"
          ]
        }
      ],
      "source": [
        "# if not os.path.exists(os.path.join(cfg.data_dir, \"train_distant.json\")):\n",
        "#     raise FileNotFoundError(\"Sorry, the file: 'train_annotated.json' is too big to upload to github, \\\n",
        "#         please manually download to 'data/' from DocRED GoogleDrive https://drive.google.com/drive/folders/1c5-0YwnoJx8NS6CV2f-NoTHR__BdkNqw\")\n",
        "\n",
        "\n",
        "if torch.cuda.is_available():\n",
        "    device = \"cuda:0\"\n",
        "# elif torch.backends.mps.is_available():\n",
        "#     device = \"mps\"\n",
        "else:\n",
        "    device = \"cpu\"\n",
        "\n",
        "\n",
        "config = AutoConfig.from_pretrained(\n",
        "    cfg.config_name if cfg.config_name else cfg.model_name_or_path,\n",
        "    num_labels=cfg.num_class,\n",
        ")\n",
        "tokenizer = AutoTokenizer.from_pretrained(\n",
        "    cfg.tokenizer_name if cfg.tokenizer_name else cfg.model_name_or_path,\n",
        ")\n",
        "\n",
        "Dataset = ReadDataset(cfg.dataset, tokenizer, cfg.max_seq_length, cfg.transformer_type)\n",
        "\n",
        "train_file = os.path.join(cfg.data_dir, cfg.train_file)\n",
        "dev_file = os.path.join(cfg.data_dir, cfg.dev_file)\n",
        "test_file = os.path.join(cfg.data_dir, cfg.test_file)\n",
        "train_features = Dataset.read(train_file)\n",
        "dev_features = Dataset.read(dev_file)\n",
        "test_features = Dataset.read(test_file)\n",
        "\n",
        "model = AutoModel.from_pretrained(\n",
        "    cfg.model_name_or_path,\n",
        "    from_tf=bool(\".ckpt\" in cfg.model_name_or_path),\n",
        "    config=config,\n",
        ")\n",
        "\n",
        "\n",
        "config.cls_token_id = tokenizer.cls_token_id\n",
        "config.sep_token_id = tokenizer.sep_token_id\n",
        "config.transformer_type = cfg.transformer_type\n",
        "\n",
        "set_seed(cfg)\n",
        "model = DocREModel(config, cfg,  model, num_labels=cfg.num_labels)\n",
        "if cfg.train_from_saved_model != '':\n",
        "    model.load_state_dict(torch.load(cfg.train_from_saved_model)[\"checkpoint\"])\n",
        "    print(\"load saved model from {}.\".format(cfg.train_from_saved_model))\n",
        "\n",
        "#if torch.cuda.device_count() > 1:\n",
        "#    print(\"Let's use\", torch.cuda.device_count(), \"GPUs!\")\n",
        "#    model = torch.nn.DataParallel(model, device_ids = list(range(torch.cuda.device_count())))\n",
        "model.to(device)\n",
        "\n",
        "train(cfg, model, train_features, dev_features, test_features)"
      ]
    },
    {
      "cell_type": "code",
      "source": [],
      "metadata": {
        "id": "dKrivqVWdhOO"
      },
      "id": "dKrivqVWdhOO",
      "execution_count": null,
      "outputs": []
    },
    {
      "cell_type": "markdown",
      "source": [
        "## Ru Roberta large"
      ],
      "metadata": {
        "id": "syIkSlC7iOXA"
      },
      "id": "syIkSlC7iOXA"
    },
    {
      "cell_type": "code",
      "source": [
        "class Config(object):\n",
        "    adam_epsilon=1e-06\n",
        "    bert_lr=3e-05\n",
        "    channel_type='context-based'\n",
        "    config_name=''\n",
        "    data_dir='/content/drive/MyDrive/data/nerel_docred_ver'\n",
        "    dataset='docred'\n",
        "    dev_file='dev.json'\n",
        "    down_dim=256\n",
        "    evaluation_steps=-1\n",
        "    gradient_accumulation_steps=2\n",
        "    learning_rate=0.0003\n",
        "    log_dir='/content/drive/MyDrive/Models/DeepKE_train/logs/train_ru_roberta.log'\n",
        "    max_grad_norm=1.0\n",
        "    max_height=103\n",
        "    max_seq_length=512\n",
        "    # model_name_or_path='xlm-roberta-base'\n",
        "    model_name_or_path='ai-forever/ruRoberta-large'\n",
        "    num_class=50\n",
        "    num_labels=29\n",
        "    num_train_epochs=20\n",
        "    save_path='/content/drive/MyDrive/Models/DeepKE_train/checkpoints/model_ru_roberta.pt'\n",
        "    seed=111\n",
        "    test_batch_size=2\n",
        "    test_file='test.json'\n",
        "    tokenizer_name=''\n",
        "    train_batch_size=2\n",
        "    train_file='train_annotated_filter.json'\n",
        "    train_from_saved_model=''\n",
        "    transformer_type='roberta'\n",
        "    unet_in_dim=3\n",
        "    unet_out_dim=256\n",
        "    warmup_ratio=0.06\n",
        "    load_path='/content/drive/MyDrive/Models/DeepKE_train/checkpoints/model_ru_roberta.pt'\n",
        "\n",
        "cfg = Config()"
      ],
      "metadata": {
        "id": "iELdnFAJdhH9"
      },
      "id": "iELdnFAJdhH9",
      "execution_count": null,
      "outputs": []
    },
    {
      "cell_type": "code",
      "source": [
        "# if not os.path.exists(os.path.join(cfg.data_dir, \"train_distant.json\")):\n",
        "#     raise FileNotFoundError(\"Sorry, the file: 'train_annotated.json' is too big to upload to github, \\\n",
        "#         please manually download to 'data/' from DocRED GoogleDrive https://drive.google.com/drive/folders/1c5-0YwnoJx8NS6CV2f-NoTHR__BdkNqw\")\n",
        "\n",
        "\n",
        "if torch.cuda.is_available():\n",
        "    device = \"cuda:0\"\n",
        "# elif torch.backends.mps.is_available():\n",
        "#     device = \"mps\"\n",
        "else:\n",
        "    device = \"cpu\"\n",
        "\n",
        "\n",
        "config = AutoConfig.from_pretrained(\n",
        "    cfg.config_name if cfg.config_name else cfg.model_name_or_path,\n",
        "    num_labels=cfg.num_class,\n",
        ")\n",
        "tokenizer = AutoTokenizer.from_pretrained(\n",
        "    cfg.tokenizer_name if cfg.tokenizer_name else cfg.model_name_or_path,\n",
        ")\n",
        "\n",
        "Dataset = ReadDataset(cfg.dataset, tokenizer, cfg.max_seq_length, cfg.transformer_type)\n",
        "\n",
        "train_file = os.path.join(cfg.data_dir, cfg.train_file)\n",
        "dev_file = os.path.join(cfg.data_dir, cfg.dev_file)\n",
        "test_file = os.path.join(cfg.data_dir, cfg.test_file)\n",
        "train_features = Dataset.read(train_file)\n",
        "dev_features = Dataset.read(dev_file)\n",
        "test_features = Dataset.read(test_file)\n",
        "\n",
        "model = AutoModel.from_pretrained(\n",
        "    cfg.model_name_or_path,\n",
        "    from_tf=bool(\".ckpt\" in cfg.model_name_or_path),\n",
        "    config=config,\n",
        ")\n",
        "\n",
        "\n",
        "config.cls_token_id = tokenizer.cls_token_id\n",
        "config.sep_token_id = tokenizer.sep_token_id\n",
        "config.transformer_type = cfg.transformer_type\n",
        "\n",
        "set_seed(cfg)\n",
        "model = DocREModel(config, cfg,  model, num_labels=cfg.num_labels)\n",
        "if cfg.train_from_saved_model != '':\n",
        "    model.load_state_dict(torch.load(cfg.train_from_saved_model)[\"checkpoint\"])\n",
        "    print(\"load saved model from {}.\".format(cfg.train_from_saved_model))\n",
        "\n",
        "#if torch.cuda.device_count() > 1:\n",
        "#    print(\"Let's use\", torch.cuda.device_count(), \"GPUs!\")\n",
        "#    model = torch.nn.DataParallel(model, device_ids = list(range(torch.cuda.device_count())))\n",
        "model.to(device)\n",
        "\n",
        "train(cfg, model, train_features, dev_features, test_features)"
      ],
      "metadata": {
        "colab": {
          "base_uri": "https://localhost:8080/"
        },
        "id": "v4rvuch-dg1O",
        "outputId": "e92f4e3c-91ef-4ebf-e83f-eaee1ac6e06c"
      },
      "id": "v4rvuch-dg1O",
      "execution_count": null,
      "outputs": [
        {
          "output_type": "stream",
          "name": "stdout",
          "text": [
            "load preprocessed data from /content/drive/MyDrive/data/nerel_docred_ver/train_annotated_filter_roberta_docred.pkl.\n",
            "load preprocessed data from /content/drive/MyDrive/data/nerel_docred_ver/dev_roberta_docred.pkl.\n",
            "load preprocessed data from /content/drive/MyDrive/data/nerel_docred_ver/test_roberta_docred.pkl.\n"
          ]
        },
        {
          "output_type": "stream",
          "name": "stderr",
          "text": [
            "Some weights of the model checkpoint at ai-forever/ruRoberta-large were not used when initializing RobertaModel: ['lm_head.dense.weight', 'lm_head.decoder.bias', 'lm_head.bias', 'lm_head.dense.bias', 'lm_head.layer_norm.bias', 'lm_head.layer_norm.weight', 'lm_head.decoder.weight']\n",
            "- This IS expected if you are initializing RobertaModel from the checkpoint of a model trained on another task or with another architecture (e.g. initializing a BertForSequenceClassification model from a BertForPreTraining model).\n",
            "- This IS NOT expected if you are initializing RobertaModel from the checkpoint of a model that you expect to be exactly identical (initializing a BertForSequenceClassification model from a BertForSequenceClassification model).\n"
          ]
        },
        {
          "output_type": "stream",
          "name": "stdout",
          "text": [
            "Total steps: 3650\n",
            "Warmup steps: 219\n"
          ]
        },
        {
          "output_type": "stream",
          "name": "stderr",
          "text": [
            "199it [02:04,  1.88it/s]"
          ]
        },
        {
          "output_type": "stream",
          "name": "stdout",
          "text": [
            "| epoch  0 | step  100 | min/b  2.07 | lr [1.3698630136986302e-05, 4.5662100456621006e-05, 0.000136986301369863] | train loss 1.701\n"
          ]
        },
        {
          "output_type": "stream",
          "name": "stderr",
          "text": [
            "363it [03:48,  2.05it/s]"
          ]
        },
        {
          "output_type": "stream",
          "name": "stdout",
          "text": [
            "-----------------------------------------------------------------------------------------\n",
            "| epoch   0 | time:  6.34s | dev_result:{'dev_F1': 6.653283624892457, 'dev_F1_ign': 6.62401520730752, 'dev_re_p': 35.80246913580247, 'dev_re_r': 3.66740436294657, 'dev_average_loss': 0.18175558286144378}\n",
            "-----------------------------------------------------------------------------------------\n",
            "| epoch   0 | best_f1:0.06653283624892457\n",
            "| successfully save model at: /content/drive/MyDrive/Models/DeepKE_train/checkpoints/model_ru_roberta.pt\n"
          ]
        },
        {
          "output_type": "stream",
          "name": "stderr",
          "text": [
            "\r364it [04:07,  6.03s/it]"
          ]
        },
        {
          "output_type": "stream",
          "name": "stdout",
          "text": [
            "-----------------------------------------------------------------------------------------\n"
          ]
        },
        {
          "output_type": "stream",
          "name": "stderr",
          "text": [
            "365it [04:07,  1.47it/s]\n",
            "33it [00:21,  1.25it/s]"
          ]
        },
        {
          "output_type": "stream",
          "name": "stdout",
          "text": [
            "| epoch  1 | step  200 | min/b  0.36 | lr [2.7397260273972603e-05, 9.132420091324201e-05, 0.000273972602739726] | train loss 0.215\n"
          ]
        },
        {
          "output_type": "stream",
          "name": "stderr",
          "text": [
            "233it [02:27,  2.08it/s]"
          ]
        },
        {
          "output_type": "stream",
          "name": "stdout",
          "text": [
            "| epoch  1 | step  300 | min/b  2.10 | lr [2.929175167589624e-05, 9.763917225298747e-05, 0.0002929175167589624] | train loss 0.166\n"
          ]
        },
        {
          "output_type": "stream",
          "name": "stderr",
          "text": [
            "363it [03:49,  1.61it/s]"
          ]
        },
        {
          "output_type": "stream",
          "name": "stdout",
          "text": [
            "-----------------------------------------------------------------------------------------\n",
            "| epoch   1 | time:  6.33s | dev_result:{'dev_F1': 23.289207987435493, 'dev_F1_ign': 23.077578661367205, 'dev_re_p': 40.108191653786704, 'dev_re_r': 16.4084729687006, 'dev_average_loss': 0.1367814280885331}\n",
            "-----------------------------------------------------------------------------------------\n",
            "| epoch   1 | best_f1:0.23289207987435492\n",
            "| successfully save model at: /content/drive/MyDrive/Models/DeepKE_train/checkpoints/model_ru_roberta.pt\n"
          ]
        },
        {
          "output_type": "stream",
          "name": "stderr",
          "text": [
            "\r364it [04:08,  6.09s/it]"
          ]
        },
        {
          "output_type": "stream",
          "name": "stdout",
          "text": [
            "-----------------------------------------------------------------------------------------\n"
          ]
        },
        {
          "output_type": "stream",
          "name": "stderr",
          "text": [
            "365it [04:08,  1.47it/s]\n",
            "67it [00:43,  1.52it/s]"
          ]
        },
        {
          "output_type": "stream",
          "name": "stdout",
          "text": [
            "| epoch  2 | step  400 | min/b  0.72 | lr [2.841737102885456e-05, 9.472457009618187e-05, 0.00028417371028854557] | train loss 0.136\n"
          ]
        },
        {
          "output_type": "stream",
          "name": "stderr",
          "text": [
            "267it [02:49,  1.52it/s]"
          ]
        },
        {
          "output_type": "stream",
          "name": "stdout",
          "text": [
            "| epoch  2 | step  500 | min/b  2.09 | lr [2.7542990381812884e-05, 9.180996793937629e-05, 0.00027542990381812884] | train loss 0.132\n"
          ]
        },
        {
          "output_type": "stream",
          "name": "stderr",
          "text": [
            "363it [03:48,  2.09it/s]"
          ]
        },
        {
          "output_type": "stream",
          "name": "stdout",
          "text": [
            "-----------------------------------------------------------------------------------------\n",
            "| epoch   2 | time:  6.34s | dev_result:{'dev_F1': 25.836005497022445, 'dev_F1_ign': 25.66180247634058, 'dev_re_p': 46.88279301745636, 'dev_re_r': 17.831172937085046, 'dev_average_loss': 0.1328606033261786}\n",
            "-----------------------------------------------------------------------------------------\n",
            "| epoch   2 | best_f1:0.25836005497022446\n",
            "| successfully save model at: /content/drive/MyDrive/Models/DeepKE_train/checkpoints/model_ru_roberta.pt\n"
          ]
        },
        {
          "output_type": "stream",
          "name": "stderr",
          "text": [
            "\r364it [04:07,  6.13s/it]"
          ]
        },
        {
          "output_type": "stream",
          "name": "stdout",
          "text": [
            "-----------------------------------------------------------------------------------------\n"
          ]
        },
        {
          "output_type": "stream",
          "name": "stderr",
          "text": [
            "365it [04:08,  1.47it/s]\n",
            "101it [01:05,  1.63it/s]"
          ]
        },
        {
          "output_type": "stream",
          "name": "stdout",
          "text": [
            "| epoch  3 | step  600 | min/b  1.10 | lr [2.6668609734771204e-05, 8.889536578257068e-05, 0.000266686097347712] | train loss 0.117\n"
          ]
        },
        {
          "output_type": "stream",
          "name": "stderr",
          "text": [
            "301it [03:11,  1.82it/s]"
          ]
        },
        {
          "output_type": "stream",
          "name": "stdout",
          "text": [
            "| epoch  3 | step  700 | min/b  2.10 | lr [2.5794229087729524e-05, 8.598076362576508e-05, 0.0002579422908772952] | train loss 0.115\n"
          ]
        },
        {
          "output_type": "stream",
          "name": "stderr",
          "text": [
            "363it [03:51,  1.41it/s]"
          ]
        },
        {
          "output_type": "stream",
          "name": "stdout",
          "text": [
            "-----------------------------------------------------------------------------------------\n",
            "| epoch   3 | time:  6.31s | dev_result:{'dev_F1': 34.836427939876216, 'dev_F1_ign': 34.48295104130536, 'dev_re_p': 57.89860396767082, 'dev_re_r': 24.913057224154283, 'dev_average_loss': 0.11305942584542518}\n",
            "-----------------------------------------------------------------------------------------\n",
            "| epoch   3 | best_f1:0.34836427939876213\n",
            "| successfully save model at: /content/drive/MyDrive/Models/DeepKE_train/checkpoints/model_ru_roberta.pt\n"
          ]
        },
        {
          "output_type": "stream",
          "name": "stderr",
          "text": [
            "\r364it [04:11,  6.73s/it]"
          ]
        },
        {
          "output_type": "stream",
          "name": "stdout",
          "text": [
            "-----------------------------------------------------------------------------------------\n"
          ]
        },
        {
          "output_type": "stream",
          "name": "stderr",
          "text": [
            "365it [04:12,  1.45it/s]\n",
            "135it [01:30,  1.43it/s]"
          ]
        },
        {
          "output_type": "stream",
          "name": "stdout",
          "text": [
            "| epoch  4 | step  800 | min/b  1.51 | lr [2.4919848440687847e-05, 8.30661614689595e-05, 0.00024919848440687844] | train loss 0.100\n"
          ]
        },
        {
          "output_type": "stream",
          "name": "stderr",
          "text": [
            "335it [03:31,  1.71it/s]"
          ]
        },
        {
          "output_type": "stream",
          "name": "stdout",
          "text": [
            "| epoch  4 | step  900 | min/b  2.01 | lr [2.4045467793646167e-05, 8.01515593121539e-05, 0.00024045467793646163] | train loss 0.099\n"
          ]
        },
        {
          "output_type": "stream",
          "name": "stderr",
          "text": [
            "363it [03:49,  1.50it/s]"
          ]
        },
        {
          "output_type": "stream",
          "name": "stdout",
          "text": [
            "-----------------------------------------------------------------------------------------\n"
          ]
        },
        {
          "output_type": "stream",
          "name": "stderr",
          "text": [
            "\r364it [03:55,  2.48s/it]"
          ]
        },
        {
          "output_type": "stream",
          "name": "stdout",
          "text": [
            "| epoch   4 | time:  6.37s | dev_result:{'dev_F1': 34.68261269549218, 'dev_F1_ign': 34.460672368937715, 'dev_re_p': 63.628691983122366, 'dev_re_r': 23.8381283591527, 'dev_average_loss': 0.10693065417890853}\n",
            "-----------------------------------------------------------------------------------------\n"
          ]
        },
        {
          "output_type": "stream",
          "name": "stderr",
          "text": [
            "365it [03:56,  1.54it/s]\n",
            "169it [01:46,  1.42it/s]"
          ]
        },
        {
          "output_type": "stream",
          "name": "stdout",
          "text": [
            "| epoch  5 | step 1000 | min/b  1.78 | lr [2.317108714660449e-05, 7.72369571553483e-05, 0.00023171087146604488] | train loss 0.089\n"
          ]
        },
        {
          "output_type": "stream",
          "name": "stderr",
          "text": [
            "363it [03:48,  1.53it/s]"
          ]
        },
        {
          "output_type": "stream",
          "name": "stdout",
          "text": [
            "-----------------------------------------------------------------------------------------\n",
            "| epoch   5 | time:  6.32s | dev_result:{'dev_F1': 39.28881179531656, 'dev_F1_ign': 39.020463194033795, 'dev_re_p': 62.52587991718427, 'dev_re_r': 28.643692696806827, 'dev_average_loss': 0.10317925736308098}\n",
            "-----------------------------------------------------------------------------------------\n",
            "| epoch   5 | best_f1:0.3928881179531656\n",
            "| successfully save model at: /content/drive/MyDrive/Models/DeepKE_train/checkpoints/model_ru_roberta.pt\n"
          ]
        },
        {
          "output_type": "stream",
          "name": "stderr",
          "text": [
            "\r364it [04:07,  6.09s/it]"
          ]
        },
        {
          "output_type": "stream",
          "name": "stdout",
          "text": [
            "-----------------------------------------------------------------------------------------\n"
          ]
        },
        {
          "output_type": "stream",
          "name": "stderr",
          "text": [
            "365it [04:07,  1.47it/s]\n",
            "3it [00:01,  2.35it/s]"
          ]
        },
        {
          "output_type": "stream",
          "name": "stdout",
          "text": [
            "| epoch  6 | step 1100 | min/b  0.02 | lr [2.229670649956281e-05, 7.43223549985427e-05, 0.00022296706499562807] | train loss 0.086\n"
          ]
        },
        {
          "output_type": "stream",
          "name": "stderr",
          "text": [
            "203it [02:05,  1.52it/s]"
          ]
        },
        {
          "output_type": "stream",
          "name": "stdout",
          "text": [
            "| epoch  6 | step 1200 | min/b  2.06 | lr [2.1422325852521133e-05, 7.140775284173711e-05, 0.0002142232585252113] | train loss 0.081\n"
          ]
        },
        {
          "output_type": "stream",
          "name": "stderr",
          "text": [
            "363it [03:50,  1.44it/s]"
          ]
        },
        {
          "output_type": "stream",
          "name": "stdout",
          "text": [
            "-----------------------------------------------------------------------------------------\n",
            "| epoch   6 | time:  6.44s | dev_result:{'dev_F1': 40.184757505773675, 'dev_F1_ign': 39.81879179082311, 'dev_re_p': 59.8125, 'dev_re_r': 30.256085994309203, 'dev_average_loss': 0.10445394747434779}\n",
            "-----------------------------------------------------------------------------------------\n",
            "| epoch   6 | best_f1:0.4018475750577367\n",
            "| successfully save model at: /content/drive/MyDrive/Models/DeepKE_train/checkpoints/model_ru_roberta.pt\n"
          ]
        },
        {
          "output_type": "stream",
          "name": "stderr",
          "text": [
            "\r364it [04:09,  6.15s/it]"
          ]
        },
        {
          "output_type": "stream",
          "name": "stdout",
          "text": [
            "-----------------------------------------------------------------------------------------\n"
          ]
        },
        {
          "output_type": "stream",
          "name": "stderr",
          "text": [
            "365it [04:09,  1.46it/s]\n",
            "37it [00:25,  1.32it/s]"
          ]
        },
        {
          "output_type": "stream",
          "name": "stdout",
          "text": [
            "| epoch  7 | step 1300 | min/b  0.43 | lr [2.0547945205479453e-05, 6.84931506849315e-05, 0.00020547945205479448] | train loss 0.075\n"
          ]
        },
        {
          "output_type": "stream",
          "name": "stderr",
          "text": [
            "237it [02:29,  1.45it/s]"
          ]
        },
        {
          "output_type": "stream",
          "name": "stdout",
          "text": [
            "| epoch  7 | step 1400 | min/b  2.06 | lr [1.9673564558437776e-05, 6.557854852812592e-05, 0.00019673564558437772] | train loss 0.073\n"
          ]
        },
        {
          "output_type": "stream",
          "name": "stderr",
          "text": [
            "363it [03:48,  1.58it/s]"
          ]
        },
        {
          "output_type": "stream",
          "name": "stdout",
          "text": [
            "-----------------------------------------------------------------------------------------\n",
            "| epoch   7 | time:  6.28s | dev_result:{'dev_F1': 42.682412484183885, 'dev_F1_ign': 42.41327742032348, 'dev_re_p': 64.09119696010133, 'dev_re_r': 31.994941511223523, 'dev_average_loss': 0.10216029804754764}\n",
            "-----------------------------------------------------------------------------------------\n",
            "| epoch   7 | best_f1:0.42682412484183885\n",
            "| successfully save model at: /content/drive/MyDrive/Models/DeepKE_train/checkpoints/model_ru_roberta.pt\n"
          ]
        },
        {
          "output_type": "stream",
          "name": "stderr",
          "text": [
            "\r364it [04:07,  6.09s/it]"
          ]
        },
        {
          "output_type": "stream",
          "name": "stdout",
          "text": [
            "-----------------------------------------------------------------------------------------\n"
          ]
        },
        {
          "output_type": "stream",
          "name": "stderr",
          "text": [
            "365it [04:08,  1.47it/s]\n",
            "71it [00:45,  1.14it/s]"
          ]
        },
        {
          "output_type": "stream",
          "name": "stdout",
          "text": [
            "| epoch  8 | step 1500 | min/b  0.76 | lr [1.8799183911396096e-05, 6.266394637132032e-05, 0.00018799183911396092] | train loss 0.070\n"
          ]
        },
        {
          "output_type": "stream",
          "name": "stderr",
          "text": [
            "271it [02:50,  1.62it/s]"
          ]
        },
        {
          "output_type": "stream",
          "name": "stdout",
          "text": [
            "| epoch  8 | step 1600 | min/b  2.08 | lr [1.7924803264354415e-05, 5.974934421451473e-05, 0.00017924803264354416] | train loss 0.062\n"
          ]
        },
        {
          "output_type": "stream",
          "name": "stderr",
          "text": [
            "363it [03:48,  1.30it/s]"
          ]
        },
        {
          "output_type": "stream",
          "name": "stdout",
          "text": [
            "-----------------------------------------------------------------------------------------\n",
            "| epoch   8 | time:  6.31s | dev_result:{'dev_F1': 44.19688069677942, 'dev_F1_ign': 43.81288572470303, 'dev_re_p': 61.49943630214205, 'dev_re_r': 34.49257034460955, 'dev_average_loss': 0.10364125280621204}\n",
            "-----------------------------------------------------------------------------------------\n",
            "| epoch   8 | best_f1:0.44196880696779417\n",
            "| successfully save model at: /content/drive/MyDrive/Models/DeepKE_train/checkpoints/model_ru_roberta.pt\n"
          ]
        },
        {
          "output_type": "stream",
          "name": "stderr",
          "text": [
            "\r364it [04:07,  6.18s/it]"
          ]
        },
        {
          "output_type": "stream",
          "name": "stdout",
          "text": [
            "-----------------------------------------------------------------------------------------\n"
          ]
        },
        {
          "output_type": "stream",
          "name": "stderr",
          "text": [
            "365it [04:08,  1.47it/s]\n",
            "105it [01:06,  1.47it/s]"
          ]
        },
        {
          "output_type": "stream",
          "name": "stdout",
          "text": [
            "| epoch  9 | step 1700 | min/b  1.12 | lr [1.7050422617312735e-05, 5.683474205770912e-05, 0.00017050422617312735] | train loss 0.061\n"
          ]
        },
        {
          "output_type": "stream",
          "name": "stderr",
          "text": [
            "305it [03:10,  1.71it/s]"
          ]
        },
        {
          "output_type": "stream",
          "name": "stdout",
          "text": [
            "| epoch  9 | step 1800 | min/b  2.06 | lr [1.617604197027106e-05, 5.392013990090353e-05, 0.00016176041970271057] | train loss 0.060\n"
          ]
        },
        {
          "output_type": "stream",
          "name": "stderr",
          "text": [
            "363it [03:48,  1.57it/s]"
          ]
        },
        {
          "output_type": "stream",
          "name": "stdout",
          "text": [
            "-----------------------------------------------------------------------------------------\n"
          ]
        },
        {
          "output_type": "stream",
          "name": "stderr",
          "text": [
            "\r364it [03:56,  3.05s/it]"
          ]
        },
        {
          "output_type": "stream",
          "name": "stdout",
          "text": [
            "| epoch   9 | time:  8.05s | dev_result:{'dev_F1': 44.161707367124976, 'dev_F1_ign': 43.80724510054457, 'dev_re_p': 62.92397660818714, 'dev_re_r': 34.01833702181473, 'dev_average_loss': 0.10452688556719333}\n",
            "-----------------------------------------------------------------------------------------\n"
          ]
        },
        {
          "output_type": "stream",
          "name": "stderr",
          "text": [
            "365it [03:57,  1.54it/s]\n",
            "139it [01:27,  1.58it/s]"
          ]
        },
        {
          "output_type": "stream",
          "name": "stdout",
          "text": [
            "| epoch 10 | step 1900 | min/b  1.46 | lr [1.5301661323229378e-05, 5.100553774409793e-05, 0.00015301661323229376] | train loss 0.056\n"
          ]
        },
        {
          "output_type": "stream",
          "name": "stderr",
          "text": [
            "339it [03:32,  1.44it/s]"
          ]
        },
        {
          "output_type": "stream",
          "name": "stdout",
          "text": [
            "| epoch 10 | step 2000 | min/b  2.09 | lr [1.44272806761877e-05, 4.809093558729233e-05, 0.00014427280676187698] | train loss 0.056\n"
          ]
        },
        {
          "output_type": "stream",
          "name": "stderr",
          "text": [
            "363it [03:47,  2.01it/s]"
          ]
        },
        {
          "output_type": "stream",
          "name": "stdout",
          "text": [
            "-----------------------------------------------------------------------------------------\n",
            "| epoch  10 | time:  6.34s | dev_result:{'dev_F1': 46.664167916041976, 'dev_F1_ign': 46.1784746606631, 'dev_re_p': 57.2940635066728, 'dev_re_r': 39.36136579196965, 'dev_average_loss': 0.10657669278852483}\n",
            "-----------------------------------------------------------------------------------------\n",
            "| epoch  10 | best_f1:0.46664167916041976\n"
          ]
        },
        {
          "output_type": "stream",
          "name": "stderr",
          "text": [
            "\r364it [04:06,  6.22s/it]"
          ]
        },
        {
          "output_type": "stream",
          "name": "stdout",
          "text": [
            "| successfully save model at: /content/drive/MyDrive/Models/DeepKE_train/checkpoints/model_ru_roberta.pt\n",
            "-----------------------------------------------------------------------------------------\n"
          ]
        },
        {
          "output_type": "stream",
          "name": "stderr",
          "text": [
            "365it [04:07,  1.47it/s]\n",
            "173it [01:51,  1.44it/s]"
          ]
        },
        {
          "output_type": "stream",
          "name": "stdout",
          "text": [
            "| epoch 11 | step 2100 | min/b  1.86 | lr [1.3552900029146021e-05, 4.517633343048674e-05, 0.0001355290002914602] | train loss 0.052\n"
          ]
        },
        {
          "output_type": "stream",
          "name": "stderr",
          "text": [
            "363it [03:49,  1.40it/s]"
          ]
        },
        {
          "output_type": "stream",
          "name": "stdout",
          "text": [
            "-----------------------------------------------------------------------------------------\n"
          ]
        },
        {
          "output_type": "stream",
          "name": "stderr",
          "text": [
            "\r364it [03:55,  2.46s/it]"
          ]
        },
        {
          "output_type": "stream",
          "name": "stdout",
          "text": [
            "| epoch  11 | time:  6.32s | dev_result:{'dev_F1': 45.42496949979666, 'dev_F1_ign': 45.098710312769136, 'dev_re_p': 63.64672364672364, 'dev_re_r': 35.314574770787225, 'dev_average_loss': 0.10674690827727318}\n",
            "-----------------------------------------------------------------------------------------\n"
          ]
        },
        {
          "output_type": "stream",
          "name": "stderr",
          "text": [
            "365it [03:56,  1.54it/s]\n",
            "7it [00:03,  1.88it/s]"
          ]
        },
        {
          "output_type": "stream",
          "name": "stdout",
          "text": [
            "| epoch 12 | step 2200 | min/b  0.07 | lr [1.2678519382104343e-05, 4.226173127368114e-05, 0.00012678519382104342] | train loss 0.048\n"
          ]
        },
        {
          "output_type": "stream",
          "name": "stderr",
          "text": [
            "207it [02:10,  1.51it/s]"
          ]
        },
        {
          "output_type": "stream",
          "name": "stdout",
          "text": [
            "| epoch 12 | step 2300 | min/b  2.11 | lr [1.1804138735062664e-05, 3.9347129116875545e-05, 0.00011804138735062662] | train loss 0.050\n"
          ]
        },
        {
          "output_type": "stream",
          "name": "stderr",
          "text": [
            "363it [03:48,  1.70it/s]"
          ]
        },
        {
          "output_type": "stream",
          "name": "stdout",
          "text": [
            "-----------------------------------------------------------------------------------------\n",
            "| epoch  12 | time:  6.32s | dev_result:{'dev_F1': 46.94944799535154, 'dev_F1_ign': 46.527347970570844, 'dev_re_p': 60.6, 'dev_re_r': 38.318052481821056, 'dev_average_loss': 0.11013508841712424}\n",
            "-----------------------------------------------------------------------------------------\n",
            "| epoch  12 | best_f1:0.4694944799535154\n",
            "| successfully save model at: /content/drive/MyDrive/Models/DeepKE_train/checkpoints/model_ru_roberta.pt\n"
          ]
        },
        {
          "output_type": "stream",
          "name": "stderr",
          "text": [
            "\r364it [04:10,  7.09s/it]"
          ]
        },
        {
          "output_type": "stream",
          "name": "stdout",
          "text": [
            "-----------------------------------------------------------------------------------------\n"
          ]
        },
        {
          "output_type": "stream",
          "name": "stderr",
          "text": [
            "365it [04:11,  1.45it/s]\n",
            "41it [00:25,  1.55it/s]"
          ]
        },
        {
          "output_type": "stream",
          "name": "stdout",
          "text": [
            "| epoch 13 | step 2400 | min/b  0.43 | lr [1.0929758088020986e-05, 3.643252696006995e-05, 0.00010929758088020984] | train loss 0.045\n"
          ]
        },
        {
          "output_type": "stream",
          "name": "stderr",
          "text": [
            "241it [02:31,  1.67it/s]"
          ]
        },
        {
          "output_type": "stream",
          "name": "stdout",
          "text": [
            "| epoch 13 | step 2500 | min/b  2.10 | lr [1.0055377440979307e-05, 3.3517924803264355e-05, 0.00010055377440979306] | train loss 0.044\n"
          ]
        },
        {
          "output_type": "stream",
          "name": "stderr",
          "text": [
            "363it [03:49,  1.73it/s]"
          ]
        },
        {
          "output_type": "stream",
          "name": "stdout",
          "text": [
            "-----------------------------------------------------------------------------------------\n"
          ]
        },
        {
          "output_type": "stream",
          "name": "stderr",
          "text": [
            "\r364it [03:56,  2.46s/it]"
          ]
        },
        {
          "output_type": "stream",
          "name": "stdout",
          "text": [
            "| epoch  13 | time:  6.30s | dev_result:{'dev_F1': 46.25796178343949, 'dev_F1_ign': 45.85520283593599, 'dev_re_p': 62.439548629768936, 'dev_re_r': 36.737274739171674, 'dev_average_loss': 0.11061595301044748}\n",
            "-----------------------------------------------------------------------------------------\n"
          ]
        },
        {
          "output_type": "stream",
          "name": "stderr",
          "text": [
            "365it [03:57,  1.54it/s]\n",
            "75it [00:46,  1.41it/s]"
          ]
        },
        {
          "output_type": "stream",
          "name": "stdout",
          "text": [
            "| epoch 14 | step 2600 | min/b  0.77 | lr [9.180996793937627e-06, 3.0603322646458756e-05, 9.180996793937626e-05] | train loss 0.042\n"
          ]
        },
        {
          "output_type": "stream",
          "name": "stderr",
          "text": [
            "275it [02:52,  1.40it/s]"
          ]
        },
        {
          "output_type": "stream",
          "name": "stdout",
          "text": [
            "| epoch 14 | step 2700 | min/b  2.10 | lr [8.306616146895948e-06, 2.7688720489653165e-05, 8.306616146895948e-05] | train loss 0.041\n"
          ]
        },
        {
          "output_type": "stream",
          "name": "stderr",
          "text": [
            "363it [03:47,  1.61it/s]"
          ]
        },
        {
          "output_type": "stream",
          "name": "stdout",
          "text": [
            "-----------------------------------------------------------------------------------------\n"
          ]
        },
        {
          "output_type": "stream",
          "name": "stderr",
          "text": [
            "\r364it [03:54,  2.52s/it]"
          ]
        },
        {
          "output_type": "stream",
          "name": "stdout",
          "text": [
            "| epoch  14 | time:  6.40s | dev_result:{'dev_F1': 46.35787806809184, 'dev_F1_ign': 45.91136710040775, 'dev_re_p': 61.99047114875596, 'dev_re_r': 37.02181473284856, 'dev_average_loss': 0.11203355865275606}\n",
            "-----------------------------------------------------------------------------------------\n"
          ]
        },
        {
          "output_type": "stream",
          "name": "stderr",
          "text": [
            "365it [03:55,  1.55it/s]\n",
            "109it [01:09,  1.78it/s]"
          ]
        },
        {
          "output_type": "stream",
          "name": "stdout",
          "text": [
            "| epoch 15 | step 2800 | min/b  1.16 | lr [7.43223549985427e-06, 2.4774118332847566e-05, 7.43223549985427e-05] | train loss 0.039\n"
          ]
        },
        {
          "output_type": "stream",
          "name": "stderr",
          "text": [
            "309it [03:17,  1.46it/s]"
          ]
        },
        {
          "output_type": "stream",
          "name": "stdout",
          "text": [
            "| epoch 15 | step 2900 | min/b  2.13 | lr [6.557854852812591e-06, 2.185951617604197e-05, 6.55785485281259e-05] | train loss 0.038\n"
          ]
        },
        {
          "output_type": "stream",
          "name": "stderr",
          "text": [
            "363it [03:48,  1.54it/s]"
          ]
        },
        {
          "output_type": "stream",
          "name": "stdout",
          "text": [
            "-----------------------------------------------------------------------------------------\n"
          ]
        },
        {
          "output_type": "stream",
          "name": "stderr",
          "text": [
            "\r364it [03:55,  2.53s/it]"
          ]
        },
        {
          "output_type": "stream",
          "name": "stdout",
          "text": [
            "| epoch  15 | time:  6.36s | dev_result:{'dev_F1': 46.48053480141565, 'dev_F1_ign': 46.04538620606252, 'dev_re_p': 61.46645865834633, 'dev_re_r': 37.36958583623143, 'dev_average_loss': 0.11466999787916528}\n",
            "-----------------------------------------------------------------------------------------\n"
          ]
        },
        {
          "output_type": "stream",
          "name": "stderr",
          "text": [
            "365it [03:56,  1.55it/s]\n",
            "143it [01:31,  1.44it/s]"
          ]
        },
        {
          "output_type": "stream",
          "name": "stdout",
          "text": [
            "| epoch 16 | step 3000 | min/b  1.53 | lr [5.683474205770913e-06, 1.8944914019236376e-05, 5.683474205770912e-05] | train loss 0.038\n"
          ]
        },
        {
          "output_type": "stream",
          "name": "stderr",
          "text": [
            "343it [03:38,  1.01s/it]"
          ]
        },
        {
          "output_type": "stream",
          "name": "stdout",
          "text": [
            "| epoch 16 | step 3100 | min/b  2.11 | lr [4.809093558729234e-06, 1.603031186243078e-05, 4.809093558729233e-05] | train loss 0.035\n"
          ]
        },
        {
          "output_type": "stream",
          "name": "stderr",
          "text": [
            "363it [03:50,  1.74it/s]"
          ]
        },
        {
          "output_type": "stream",
          "name": "stdout",
          "text": [
            "-----------------------------------------------------------------------------------------\n"
          ]
        },
        {
          "output_type": "stream",
          "name": "stderr",
          "text": [
            "\r364it [03:56,  2.45s/it]"
          ]
        },
        {
          "output_type": "stream",
          "name": "stdout",
          "text": [
            "| epoch  16 | time:  6.33s | dev_result:{'dev_F1': 46.63765822784809, 'dev_F1_ign': 46.26880305374207, 'dev_re_p': 62.28209191759112, 'dev_re_r': 37.27473917167246, 'dev_average_loss': 0.1152498592880178}\n",
            "-----------------------------------------------------------------------------------------\n"
          ]
        },
        {
          "output_type": "stream",
          "name": "stderr",
          "text": [
            "365it [03:57,  1.54it/s]\n",
            "177it [01:52,  1.63it/s]"
          ]
        },
        {
          "output_type": "stream",
          "name": "stdout",
          "text": [
            "| epoch 17 | step 3200 | min/b  1.87 | lr [3.934712911687554e-06, 1.3115709705625181e-05, 3.934712911687554e-05] | train loss 0.033\n"
          ]
        },
        {
          "output_type": "stream",
          "name": "stderr",
          "text": [
            "363it [03:49,  1.98it/s]"
          ]
        },
        {
          "output_type": "stream",
          "name": "stdout",
          "text": [
            "-----------------------------------------------------------------------------------------\n"
          ]
        },
        {
          "output_type": "stream",
          "name": "stderr",
          "text": [
            "\r364it [03:55,  2.32s/it]"
          ]
        },
        {
          "output_type": "stream",
          "name": "stdout",
          "text": [
            "| epoch  17 | time:  6.35s | dev_result:{'dev_F1': 46.90972899200624, 'dev_F1_ign': 46.46964940797855, 'dev_re_p': 61.190233977619535, 'dev_re_r': 38.03351248814417, 'dev_average_loss': 0.11621093298209474}\n",
            "-----------------------------------------------------------------------------------------\n"
          ]
        },
        {
          "output_type": "stream",
          "name": "stderr",
          "text": [
            "365it [03:56,  1.54it/s]\n",
            "11it [00:06,  1.56it/s]"
          ]
        },
        {
          "output_type": "stream",
          "name": "stdout",
          "text": [
            "| epoch 18 | step 3300 | min/b  0.12 | lr [3.060332264645876e-06, 1.0201107548819588e-05, 3.0603322646458756e-05] | train loss 0.034\n"
          ]
        },
        {
          "output_type": "stream",
          "name": "stderr",
          "text": [
            "211it [02:16,  1.54it/s]"
          ]
        },
        {
          "output_type": "stream",
          "name": "stdout",
          "text": [
            "| epoch 18 | step 3400 | min/b  2.16 | lr [2.185951617604197e-06, 7.286505392013991e-06, 2.185951617604197e-05] | train loss 0.032\n"
          ]
        },
        {
          "output_type": "stream",
          "name": "stderr",
          "text": [
            "363it [03:48,  1.69it/s]"
          ]
        },
        {
          "output_type": "stream",
          "name": "stdout",
          "text": [
            "-----------------------------------------------------------------------------------------\n"
          ]
        },
        {
          "output_type": "stream",
          "name": "stderr",
          "text": [
            "\r364it [03:55,  2.51s/it]"
          ]
        },
        {
          "output_type": "stream",
          "name": "stdout",
          "text": [
            "| epoch  18 | time:  6.38s | dev_result:{'dev_F1': 46.52544050683033, 'dev_F1_ign': 46.11928829232619, 'dev_re_p': 62.23516949152542, 'dev_re_r': 37.14827695226051, 'dev_average_loss': 0.11702844968184511}\n",
            "-----------------------------------------------------------------------------------------\n"
          ]
        },
        {
          "output_type": "stream",
          "name": "stderr",
          "text": [
            "365it [03:56,  1.55it/s]\n",
            "45it [00:27,  1.35it/s]"
          ]
        },
        {
          "output_type": "stream",
          "name": "stdout",
          "text": [
            "| epoch 19 | step 3500 | min/b  0.45 | lr [1.3115709705625184e-06, 4.371903235208394e-06, 1.3115709705625181e-05] | train loss 0.032\n"
          ]
        },
        {
          "output_type": "stream",
          "name": "stderr",
          "text": [
            "245it [02:31,  1.76it/s]"
          ]
        },
        {
          "output_type": "stream",
          "name": "stdout",
          "text": [
            "| epoch 19 | step 3600 | min/b  2.07 | lr [4.371903235208394e-07, 1.4573010784027982e-06, 4.371903235208393e-06] | train loss 0.030\n"
          ]
        },
        {
          "output_type": "stream",
          "name": "stderr",
          "text": [
            "363it [03:48,  1.35it/s]"
          ]
        },
        {
          "output_type": "stream",
          "name": "stdout",
          "text": [
            "-----------------------------------------------------------------------------------------\n",
            "| epoch  19 | time:  8.07s | dev_result:{'dev_F1': 47.204724409448815, 'dev_F1_ign': 46.76990738756132, 'dev_re_p': 62.54564423578508, 'dev_re_r': 37.90705026873222, 'dev_average_loss': 0.1168784349364169}\n",
            "-----------------------------------------------------------------------------------------\n",
            "| epoch  19 | best_f1:0.47204724409448817\n",
            "| successfully save model at: /content/drive/MyDrive/Models/DeepKE_train/checkpoints/model_ru_roberta.pt\n"
          ]
        },
        {
          "output_type": "stream",
          "name": "stderr",
          "text": [
            "\r364it [04:09,  6.88s/it]"
          ]
        },
        {
          "output_type": "stream",
          "name": "stdout",
          "text": [
            "-----------------------------------------------------------------------------------------\n"
          ]
        },
        {
          "output_type": "stream",
          "name": "stderr",
          "text": [
            "365it [04:10,  1.46it/s]\n"
          ]
        }
      ]
    },
    {
      "cell_type": "markdown",
      "source": [
        "correct parameters"
      ],
      "metadata": {
        "id": "YIaXYQ5ZJjUz"
      },
      "id": "YIaXYQ5ZJjUz"
    },
    {
      "cell_type": "code",
      "source": [
        "class Config(object):\n",
        "    adam_epsilon=1e-06\n",
        "    bert_lr=3e-05\n",
        "    channel_type='context-based'\n",
        "    config_name=''\n",
        "    data_dir='/content/drive/MyDrive/data/nerel_docred_ver'\n",
        "    dataset='docred'\n",
        "    dev_file='dev.json'\n",
        "    down_dim=256\n",
        "    evaluation_steps=-1\n",
        "    gradient_accumulation_steps=2\n",
        "    learning_rate=0.0003\n",
        "    log_dir='/content/drive/MyDrive/Models/DeepKE_train/logs/train_ru_roberta2.log'\n",
        "    max_grad_norm=1.0\n",
        "    max_height=103\n",
        "    max_seq_length=1024\n",
        "    # model_name_or_path='xlm-roberta-base'\n",
        "    model_name_or_path='ai-forever/ruRoberta-large'\n",
        "    num_class=50\n",
        "    num_labels=2\n",
        "    num_train_epochs=20\n",
        "    save_path='/content/drive/MyDrive/Models/DeepKE_train/checkpoints/model_ru_roberta2.pt'\n",
        "    seed=111\n",
        "    test_batch_size=2\n",
        "    test_file='test.json'\n",
        "    tokenizer_name=''\n",
        "    train_batch_size=2\n",
        "    train_file='train_annotated_filter.json'\n",
        "    train_from_saved_model=''\n",
        "    transformer_type='roberta'\n",
        "    unet_in_dim=3\n",
        "    unet_out_dim=256\n",
        "    warmup_ratio=0.06\n",
        "    load_path='/content/drive/MyDrive/Models/DeepKE_train/checkpoints/model_ru_roberta2.pt'\n",
        "\n",
        "cfg = Config()"
      ],
      "metadata": {
        "id": "d7lyjHyIJVG_"
      },
      "id": "d7lyjHyIJVG_",
      "execution_count": null,
      "outputs": []
    },
    {
      "cell_type": "code",
      "source": [
        "# if not os.path.exists(os.path.join(cfg.data_dir, \"train_distant.json\")):\n",
        "#     raise FileNotFoundError(\"Sorry, the file: 'train_annotated.json' is too big to upload to github, \\\n",
        "#         please manually download to 'data/' from DocRED GoogleDrive https://drive.google.com/drive/folders/1c5-0YwnoJx8NS6CV2f-NoTHR__BdkNqw\")\n",
        "\n",
        "\n",
        "if torch.cuda.is_available():\n",
        "    device = \"cuda:0\"\n",
        "# elif torch.backends.mps.is_available():\n",
        "#     device = \"mps\"\n",
        "else:\n",
        "    device = \"cpu\"\n",
        "\n",
        "\n",
        "config = AutoConfig.from_pretrained(\n",
        "    cfg.config_name if cfg.config_name else cfg.model_name_or_path,\n",
        "    num_labels=cfg.num_class,\n",
        ")\n",
        "tokenizer = AutoTokenizer.from_pretrained(\n",
        "    cfg.tokenizer_name if cfg.tokenizer_name else cfg.model_name_or_path,\n",
        ")\n",
        "\n",
        "Dataset = ReadDataset(cfg.dataset, tokenizer, cfg.max_seq_length, cfg.transformer_type)\n",
        "\n",
        "train_file = os.path.join(cfg.data_dir, cfg.train_file)\n",
        "dev_file = os.path.join(cfg.data_dir, cfg.dev_file)\n",
        "test_file = os.path.join(cfg.data_dir, cfg.test_file)\n",
        "train_features = Dataset.read(train_file)\n",
        "dev_features = Dataset.read(dev_file)\n",
        "test_features = Dataset.read(test_file)\n",
        "\n",
        "model = AutoModel.from_pretrained(\n",
        "    cfg.model_name_or_path,\n",
        "    from_tf=bool(\".ckpt\" in cfg.model_name_or_path),\n",
        "    config=config,\n",
        ")\n",
        "\n",
        "\n",
        "config.cls_token_id = tokenizer.cls_token_id\n",
        "config.sep_token_id = tokenizer.sep_token_id\n",
        "config.transformer_type = cfg.transformer_type\n",
        "\n",
        "set_seed(cfg)\n",
        "model = DocREModel(config, cfg,  model, num_labels=cfg.num_labels)\n",
        "if cfg.train_from_saved_model != '':\n",
        "    model.load_state_dict(torch.load(cfg.train_from_saved_model)[\"checkpoint\"])\n",
        "    print(\"load saved model from {}.\".format(cfg.train_from_saved_model))\n",
        "\n",
        "#if torch.cuda.device_count() > 1:\n",
        "#    print(\"Let's use\", torch.cuda.device_count(), \"GPUs!\")\n",
        "#    model = torch.nn.DataParallel(model, device_ids = list(range(torch.cuda.device_count())))\n",
        "model.to(device)\n",
        "\n",
        "train(cfg, model, train_features, dev_features, test_features)"
      ],
      "metadata": {
        "colab": {
          "base_uri": "https://localhost:8080/"
        },
        "id": "9rMo3eJlJU9s",
        "outputId": "4d32afa5-cb33-47d4-c562-4c01682dba35"
      },
      "id": "9rMo3eJlJU9s",
      "execution_count": null,
      "outputs": [
        {
          "output_type": "stream",
          "name": "stdout",
          "text": [
            "load preprocessed data from /content/drive/MyDrive/data/nerel_docred_ver/train_annotated_filter_roberta_docred.pkl.\n",
            "load preprocessed data from /content/drive/MyDrive/data/nerel_docred_ver/dev_roberta_docred.pkl.\n",
            "load preprocessed data from /content/drive/MyDrive/data/nerel_docred_ver/test_roberta_docred.pkl.\n"
          ]
        },
        {
          "output_type": "stream",
          "name": "stderr",
          "text": [
            "Some weights of the model checkpoint at ai-forever/ruRoberta-large were not used when initializing RobertaModel: ['lm_head.bias', 'lm_head.dense.weight', 'lm_head.decoder.weight', 'lm_head.layer_norm.bias', 'lm_head.dense.bias', 'lm_head.layer_norm.weight', 'lm_head.decoder.bias']\n",
            "- This IS expected if you are initializing RobertaModel from the checkpoint of a model trained on another task or with another architecture (e.g. initializing a BertForSequenceClassification model from a BertForPreTraining model).\n",
            "- This IS NOT expected if you are initializing RobertaModel from the checkpoint of a model that you expect to be exactly identical (initializing a BertForSequenceClassification model from a BertForSequenceClassification model).\n"
          ]
        },
        {
          "output_type": "stream",
          "name": "stdout",
          "text": [
            "Total steps: 3650\n",
            "Warmup steps: 219\n"
          ]
        },
        {
          "output_type": "stream",
          "name": "stderr",
          "text": [
            "199it [02:26,  1.54it/s]"
          ]
        },
        {
          "output_type": "stream",
          "name": "stdout",
          "text": [
            "| epoch  0 | step  100 | min/b  2.44 | lr [1.3698630136986302e-05, 4.5662100456621006e-05, 0.000136986301369863] | train loss 1.544\n"
          ]
        },
        {
          "output_type": "stream",
          "name": "stderr",
          "text": [
            "363it [04:28,  1.76it/s]"
          ]
        },
        {
          "output_type": "stream",
          "name": "stdout",
          "text": [
            "-----------------------------------------------------------------------------------------\n",
            "| epoch   0 | time:  8.34s | dev_result:{'dev_F1': 10.040485829959515, 'dev_F1_ign': 9.956565603864153, 'dev_re_p': 34.31734317343174, 'dev_re_r': 5.880493202655707, 'dev_average_loss': 0.16144240869486587}\n",
            "-----------------------------------------------------------------------------------------\n",
            "| epoch   0 | best_f1:0.10040485829959514\n"
          ]
        },
        {
          "output_type": "stream",
          "name": "stderr",
          "text": [
            "\r364it [04:47,  6.37s/it]"
          ]
        },
        {
          "output_type": "stream",
          "name": "stdout",
          "text": [
            "| successfully save model at: /content/drive/MyDrive/Models/DeepKE_train/checkpoints/model_ru_roberta2.pt\n",
            "-----------------------------------------------------------------------------------------\n"
          ]
        },
        {
          "output_type": "stream",
          "name": "stderr",
          "text": [
            "365it [04:48,  1.26it/s]\n",
            "33it [00:25,  1.06it/s]"
          ]
        },
        {
          "output_type": "stream",
          "name": "stdout",
          "text": [
            "| epoch  1 | step  200 | min/b  0.43 | lr [2.7397260273972603e-05, 9.132420091324201e-05, 0.000273972602739726] | train loss 0.184\n"
          ]
        },
        {
          "output_type": "stream",
          "name": "stderr",
          "text": [
            "233it [02:53,  1.79it/s]"
          ]
        },
        {
          "output_type": "stream",
          "name": "stdout",
          "text": [
            "| epoch  1 | step  300 | min/b  2.46 | lr [2.929175167589624e-05, 9.763917225298747e-05, 0.0002929175167589624] | train loss 0.151\n"
          ]
        },
        {
          "output_type": "stream",
          "name": "stderr",
          "text": [
            "363it [04:29,  1.36it/s]"
          ]
        },
        {
          "output_type": "stream",
          "name": "stdout",
          "text": [
            "-----------------------------------------------------------------------------------------\n",
            "| epoch   1 | time:  7.56s | dev_result:{'dev_F1': 20.631182289213378, 'dev_F1_ign': 20.435281317198623, 'dev_re_p': 40.443213296398895, 'dev_re_r': 13.847613025608599, 'dev_average_loss': 0.1325813894100646}\n",
            "-----------------------------------------------------------------------------------------\n",
            "| epoch   1 | best_f1:0.2063118228921338\n",
            "| successfully save model at: /content/drive/MyDrive/Models/DeepKE_train/checkpoints/model_ru_roberta2.pt\n"
          ]
        },
        {
          "output_type": "stream",
          "name": "stderr",
          "text": [
            "\r364it [04:50,  6.70s/it]"
          ]
        },
        {
          "output_type": "stream",
          "name": "stdout",
          "text": [
            "-----------------------------------------------------------------------------------------\n"
          ]
        },
        {
          "output_type": "stream",
          "name": "stderr",
          "text": [
            "365it [04:51,  1.25it/s]\n",
            "67it [00:50,  1.34it/s]"
          ]
        },
        {
          "output_type": "stream",
          "name": "stdout",
          "text": [
            "| epoch  2 | step  400 | min/b  0.85 | lr [2.841737102885456e-05, 9.472457009618187e-05, 0.00028417371028854557] | train loss 0.122\n"
          ]
        },
        {
          "output_type": "stream",
          "name": "stderr",
          "text": [
            "267it [03:18,  1.30it/s]"
          ]
        },
        {
          "output_type": "stream",
          "name": "stdout",
          "text": [
            "| epoch  2 | step  500 | min/b  2.46 | lr [2.7542990381812884e-05, 9.180996793937629e-05, 0.00027542990381812884] | train loss 0.119\n"
          ]
        },
        {
          "output_type": "stream",
          "name": "stderr",
          "text": [
            "363it [04:28,  1.81it/s]"
          ]
        },
        {
          "output_type": "stream",
          "name": "stdout",
          "text": [
            "-----------------------------------------------------------------------------------------\n",
            "| epoch   2 | time:  7.54s | dev_result:{'dev_F1': 24.233716475095786, 'dev_F1_ign': 24.094418497094523, 'dev_re_p': 49.950641658440276, 'dev_re_r': 15.997470755611761, 'dev_average_loss': 0.11342079826491944}\n",
            "-----------------------------------------------------------------------------------------\n",
            "| epoch   2 | best_f1:0.24233716475095785\n",
            "| successfully save model at: /content/drive/MyDrive/Models/DeepKE_train/checkpoints/model_ru_roberta2.pt\n"
          ]
        },
        {
          "output_type": "stream",
          "name": "stderr",
          "text": [
            "\r364it [04:48,  6.57s/it]"
          ]
        },
        {
          "output_type": "stream",
          "name": "stdout",
          "text": [
            "-----------------------------------------------------------------------------------------\n"
          ]
        },
        {
          "output_type": "stream",
          "name": "stderr",
          "text": [
            "365it [04:49,  1.26it/s]\n",
            "101it [01:14,  1.35it/s]"
          ]
        },
        {
          "output_type": "stream",
          "name": "stdout",
          "text": [
            "| epoch  3 | step  600 | min/b  1.25 | lr [2.6668609734771204e-05, 8.889536578257068e-05, 0.000266686097347712] | train loss 0.100\n"
          ]
        },
        {
          "output_type": "stream",
          "name": "stderr",
          "text": [
            "301it [03:44,  1.56it/s]"
          ]
        },
        {
          "output_type": "stream",
          "name": "stdout",
          "text": [
            "| epoch  3 | step  700 | min/b  2.50 | lr [2.5794229087729524e-05, 8.598076362576508e-05, 0.0002579422908772952] | train loss 0.095\n"
          ]
        },
        {
          "output_type": "stream",
          "name": "stderr",
          "text": [
            "363it [04:30,  1.27it/s]"
          ]
        },
        {
          "output_type": "stream",
          "name": "stdout",
          "text": [
            "-----------------------------------------------------------------------------------------\n",
            "| epoch   3 | time:  7.58s | dev_result:{'dev_F1': 36.59095644926026, 'dev_F1_ign': 36.21608138396909, 'dev_re_p': 53.66748166259169, 'dev_re_r': 27.75845716092317, 'dev_average_loss': 0.09945883578125467}\n",
            "-----------------------------------------------------------------------------------------\n",
            "| epoch   3 | best_f1:0.36590956449260265\n",
            "| successfully save model at: /content/drive/MyDrive/Models/DeepKE_train/checkpoints/model_ru_roberta2.pt\n"
          ]
        },
        {
          "output_type": "stream",
          "name": "stderr",
          "text": [
            "\r364it [04:50,  6.65s/it]"
          ]
        },
        {
          "output_type": "stream",
          "name": "stdout",
          "text": [
            "-----------------------------------------------------------------------------------------\n"
          ]
        },
        {
          "output_type": "stream",
          "name": "stderr",
          "text": [
            "365it [04:51,  1.25it/s]\n",
            "135it [01:46,  1.20it/s]"
          ]
        },
        {
          "output_type": "stream",
          "name": "stdout",
          "text": [
            "| epoch  4 | step  800 | min/b  1.77 | lr [2.4919848440687847e-05, 8.30661614689595e-05, 0.00024919848440687844] | train loss 0.080\n"
          ]
        },
        {
          "output_type": "stream",
          "name": "stderr",
          "text": [
            "335it [04:08,  1.41it/s]"
          ]
        },
        {
          "output_type": "stream",
          "name": "stdout",
          "text": [
            "| epoch  4 | step  900 | min/b  2.37 | lr [2.4045467793646167e-05, 8.01515593121539e-05, 0.00024045467793646163] | train loss 0.080\n"
          ]
        },
        {
          "output_type": "stream",
          "name": "stderr",
          "text": [
            "363it [04:29,  1.26it/s]"
          ]
        },
        {
          "output_type": "stream",
          "name": "stdout",
          "text": [
            "-----------------------------------------------------------------------------------------\n",
            "| epoch   4 | time:  7.51s | dev_result:{'dev_F1': 42.027863777089784, 'dev_F1_ign': 41.534504554684396, 'dev_re_p': 54.1645885286783, 'dev_re_r': 34.33449257034461, 'dev_average_loss': 0.09532955415705417}\n",
            "-----------------------------------------------------------------------------------------\n",
            "| epoch   4 | best_f1:0.42027863777089786\n",
            "| successfully save model at: /content/drive/MyDrive/Models/DeepKE_train/checkpoints/model_ru_roberta2.pt\n"
          ]
        },
        {
          "output_type": "stream",
          "name": "stderr",
          "text": [
            "\r364it [04:49,  6.59s/it]"
          ]
        },
        {
          "output_type": "stream",
          "name": "stdout",
          "text": [
            "-----------------------------------------------------------------------------------------\n"
          ]
        },
        {
          "output_type": "stream",
          "name": "stderr",
          "text": [
            "365it [04:50,  1.26it/s]\n",
            "169it [02:06,  1.16it/s]"
          ]
        },
        {
          "output_type": "stream",
          "name": "stdout",
          "text": [
            "| epoch  5 | step 1000 | min/b  2.11 | lr [2.317108714660449e-05, 7.72369571553483e-05, 0.00023171087146604488] | train loss 0.069\n"
          ]
        },
        {
          "output_type": "stream",
          "name": "stderr",
          "text": [
            "363it [04:30,  1.28it/s]"
          ]
        },
        {
          "output_type": "stream",
          "name": "stdout",
          "text": [
            "-----------------------------------------------------------------------------------------\n"
          ]
        },
        {
          "output_type": "stream",
          "name": "stderr",
          "text": [
            "\r364it [04:38,  2.90s/it]"
          ]
        },
        {
          "output_type": "stream",
          "name": "stdout",
          "text": [
            "| epoch   5 | time:  7.53s | dev_result:{'dev_F1': 42.00836820083682, 'dev_F1_ign': 41.71615262737326, 'dev_re_p': 62.09029066171924, 'dev_re_r': 31.74201707239962, 'dev_average_loss': 0.09165363925251555}\n",
            "-----------------------------------------------------------------------------------------\n"
          ]
        },
        {
          "output_type": "stream",
          "name": "stderr",
          "text": [
            "365it [04:39,  1.31it/s]\n",
            "3it [00:01,  1.96it/s]"
          ]
        },
        {
          "output_type": "stream",
          "name": "stdout",
          "text": [
            "| epoch  6 | step 1100 | min/b  0.02 | lr [2.229670649956281e-05, 7.43223549985427e-05, 0.00022296706499562807] | train loss 0.066\n"
          ]
        },
        {
          "output_type": "stream",
          "name": "stderr",
          "text": [
            "203it [02:26,  1.22it/s]"
          ]
        },
        {
          "output_type": "stream",
          "name": "stdout",
          "text": [
            "| epoch  6 | step 1200 | min/b  2.41 | lr [2.1422325852521133e-05, 7.140775284173711e-05, 0.0002142232585252113] | train loss 0.061\n"
          ]
        },
        {
          "output_type": "stream",
          "name": "stderr",
          "text": [
            "363it [04:29,  1.26it/s]"
          ]
        },
        {
          "output_type": "stream",
          "name": "stdout",
          "text": [
            "-----------------------------------------------------------------------------------------\n",
            "| epoch   6 | time:  7.50s | dev_result:{'dev_F1': 46.74624566807855, 'dev_F1_ign': 46.28049295700294, 'dev_re_p': 59.77351058591827, 'dev_re_r': 38.38128359152703, 'dev_average_loss': 0.08940465621491696}\n",
            "-----------------------------------------------------------------------------------------\n",
            "| epoch   6 | best_f1:0.4674624566807855\n",
            "| successfully save model at: /content/drive/MyDrive/Models/DeepKE_train/checkpoints/model_ru_roberta2.pt\n"
          ]
        },
        {
          "output_type": "stream",
          "name": "stderr",
          "text": [
            "\r364it [04:49,  6.57s/it]"
          ]
        },
        {
          "output_type": "stream",
          "name": "stdout",
          "text": [
            "-----------------------------------------------------------------------------------------\n"
          ]
        },
        {
          "output_type": "stream",
          "name": "stderr",
          "text": [
            "365it [04:49,  1.26it/s]\n",
            "37it [00:30,  1.10it/s]"
          ]
        },
        {
          "output_type": "stream",
          "name": "stdout",
          "text": [
            "| epoch  7 | step 1300 | min/b  0.50 | lr [2.0547945205479453e-05, 6.84931506849315e-05, 0.00020547945205479448] | train loss 0.054\n"
          ]
        },
        {
          "output_type": "stream",
          "name": "stderr",
          "text": [
            "237it [02:55,  1.25it/s]"
          ]
        },
        {
          "output_type": "stream",
          "name": "stdout",
          "text": [
            "| epoch  7 | step 1400 | min/b  2.42 | lr [1.9673564558437776e-05, 6.557854852812592e-05, 0.00019673564558437772] | train loss 0.051\n"
          ]
        },
        {
          "output_type": "stream",
          "name": "stderr",
          "text": [
            "363it [04:28,  1.29it/s]"
          ]
        },
        {
          "output_type": "stream",
          "name": "stdout",
          "text": [
            "-----------------------------------------------------------------------------------------\n",
            "| epoch   7 | time:  8.70s | dev_result:{'dev_F1': 47.22168063950088, 'dev_F1_ign': 46.85582483571963, 'dev_re_p': 61.5971515768057, 'dev_re_r': 38.28643692696807, 'dev_average_loss': 0.09021336418834139}\n",
            "-----------------------------------------------------------------------------------------\n",
            "| epoch   7 | best_f1:0.4722168063950088\n",
            "| successfully save model at: /content/drive/MyDrive/Models/DeepKE_train/checkpoints/model_ru_roberta2.pt\n"
          ]
        },
        {
          "output_type": "stream",
          "name": "stderr",
          "text": [
            "\r364it [04:50,  7.01s/it]"
          ]
        },
        {
          "output_type": "stream",
          "name": "stdout",
          "text": [
            "-----------------------------------------------------------------------------------------\n"
          ]
        },
        {
          "output_type": "stream",
          "name": "stderr",
          "text": [
            "365it [04:50,  1.25it/s]\n",
            "71it [00:53,  1.06s/it]"
          ]
        },
        {
          "output_type": "stream",
          "name": "stdout",
          "text": [
            "| epoch  8 | step 1500 | min/b  0.90 | lr [1.8799183911396096e-05, 6.266394637132032e-05, 0.00018799183911396092] | train loss 0.049\n"
          ]
        },
        {
          "output_type": "stream",
          "name": "stderr",
          "text": [
            "271it [03:20,  1.35it/s]"
          ]
        },
        {
          "output_type": "stream",
          "name": "stdout",
          "text": [
            "| epoch  8 | step 1600 | min/b  2.44 | lr [1.7924803264354415e-05, 5.974934421451473e-05, 0.00017924803264354416] | train loss 0.044\n"
          ]
        },
        {
          "output_type": "stream",
          "name": "stderr",
          "text": [
            "363it [04:28,  1.09it/s]"
          ]
        },
        {
          "output_type": "stream",
          "name": "stdout",
          "text": [
            "-----------------------------------------------------------------------------------------\n",
            "| epoch   8 | time:  7.56s | dev_result:{'dev_F1': 50.479117700235044, 'dev_F1_ign': 50.02202724446194, 'dev_re_p': 58.952702702702695, 'dev_re_r': 44.13531457477079, 'dev_average_loss': 0.09158211395620032}\n",
            "-----------------------------------------------------------------------------------------\n",
            "| epoch   8 | best_f1:0.5047911770023504\n",
            "| successfully save model at: /content/drive/MyDrive/Models/DeepKE_train/checkpoints/model_ru_roberta2.pt\n",
            "-----------------------------------------------------------------------------------------\n"
          ]
        },
        {
          "output_type": "stream",
          "name": "stderr",
          "text": [
            "365it [04:52,  1.25it/s]\n",
            "105it [01:19,  1.23it/s]"
          ]
        },
        {
          "output_type": "stream",
          "name": "stdout",
          "text": [
            "| epoch  9 | step 1700 | min/b  1.32 | lr [1.7050422617312735e-05, 5.683474205770912e-05, 0.00017050422617312735] | train loss 0.042\n"
          ]
        },
        {
          "output_type": "stream",
          "name": "stderr",
          "text": [
            "305it [03:43,  1.46it/s]"
          ]
        },
        {
          "output_type": "stream",
          "name": "stdout",
          "text": [
            "| epoch  9 | step 1800 | min/b  2.41 | lr [1.617604197027106e-05, 5.392013990090353e-05, 0.00016176041970271057] | train loss 0.041\n"
          ]
        },
        {
          "output_type": "stream",
          "name": "stderr",
          "text": [
            "363it [04:27,  1.31it/s]"
          ]
        },
        {
          "output_type": "stream",
          "name": "stdout",
          "text": [
            "-----------------------------------------------------------------------------------------\n"
          ]
        },
        {
          "output_type": "stream",
          "name": "stderr",
          "text": [
            "\r364it [04:37,  3.36s/it]"
          ]
        },
        {
          "output_type": "stream",
          "name": "stdout",
          "text": [
            "| epoch   9 | time:  8.69s | dev_result:{'dev_F1': 49.73850315599639, 'dev_F1_ign': 49.176126034076354, 'dev_re_p': 57.892527287993275, 'dev_re_r': 43.59785014227, 'dev_average_loss': 0.09339467483632108}\n",
            "-----------------------------------------------------------------------------------------\n"
          ]
        },
        {
          "output_type": "stream",
          "name": "stderr",
          "text": [
            "365it [04:38,  1.31it/s]\n",
            "139it [01:43,  1.29it/s]"
          ]
        },
        {
          "output_type": "stream",
          "name": "stdout",
          "text": [
            "| epoch 10 | step 1900 | min/b  1.72 | lr [1.5301661323229378e-05, 5.100553774409793e-05, 0.00015301661323229376] | train loss 0.037\n"
          ]
        },
        {
          "output_type": "stream",
          "name": "stderr",
          "text": [
            "339it [04:09,  1.25it/s]"
          ]
        },
        {
          "output_type": "stream",
          "name": "stdout",
          "text": [
            "| epoch 10 | step 2000 | min/b  2.45 | lr [1.44272806761877e-05, 4.809093558729233e-05, 0.00014427280676187698] | train loss 0.036\n"
          ]
        },
        {
          "output_type": "stream",
          "name": "stderr",
          "text": [
            "363it [04:27,  1.70it/s]"
          ]
        },
        {
          "output_type": "stream",
          "name": "stdout",
          "text": [
            "-----------------------------------------------------------------------------------------\n",
            "| epoch  10 | time:  7.60s | dev_result:{'dev_F1': 52.3306627822287, 'dev_F1_ign': 51.82131154123617, 'dev_re_p': 61.70030055817948, 'dev_re_r': 45.43155232374328, 'dev_average_loss': 0.09249015596318752}\n",
            "-----------------------------------------------------------------------------------------\n",
            "| epoch  10 | best_f1:0.523306627822287\n",
            "| successfully save model at: /content/drive/MyDrive/Models/DeepKE_train/checkpoints/model_ru_roberta2.pt\n"
          ]
        },
        {
          "output_type": "stream",
          "name": "stderr",
          "text": [
            "\r364it [04:50,  7.53s/it]"
          ]
        },
        {
          "output_type": "stream",
          "name": "stdout",
          "text": [
            "-----------------------------------------------------------------------------------------\n"
          ]
        },
        {
          "output_type": "stream",
          "name": "stderr",
          "text": [
            "365it [04:51,  1.25it/s]\n",
            "173it [02:11,  1.23it/s]"
          ]
        },
        {
          "output_type": "stream",
          "name": "stdout",
          "text": [
            "| epoch 11 | step 2100 | min/b  2.20 | lr [1.3552900029146021e-05, 4.517633343048674e-05, 0.0001355290002914602] | train loss 0.030\n"
          ]
        },
        {
          "output_type": "stream",
          "name": "stderr",
          "text": [
            "363it [04:29,  1.15it/s]"
          ]
        },
        {
          "output_type": "stream",
          "name": "stdout",
          "text": [
            "-----------------------------------------------------------------------------------------\n"
          ]
        },
        {
          "output_type": "stream",
          "name": "stderr",
          "text": [
            "\r364it [04:37,  2.91s/it]"
          ]
        },
        {
          "output_type": "stream",
          "name": "stdout",
          "text": [
            "| epoch  11 | time:  7.46s | dev_result:{'dev_F1': 49.47079576636612, 'dev_F1_ign': 49.0536874168269, 'dev_re_p': 65.08509541000515, 'dev_re_r': 39.89883022447044, 'dev_average_loss': 0.0967245489517425}\n",
            "-----------------------------------------------------------------------------------------\n"
          ]
        },
        {
          "output_type": "stream",
          "name": "stderr",
          "text": [
            "365it [04:38,  1.31it/s]\n",
            "7it [00:04,  1.65it/s]"
          ]
        },
        {
          "output_type": "stream",
          "name": "stdout",
          "text": [
            "| epoch 12 | step 2200 | min/b  0.08 | lr [1.2678519382104343e-05, 4.226173127368114e-05, 0.00012678519382104342] | train loss 0.030\n"
          ]
        },
        {
          "output_type": "stream",
          "name": "stderr",
          "text": [
            "207it [02:34,  1.29it/s]"
          ]
        },
        {
          "output_type": "stream",
          "name": "stdout",
          "text": [
            "| epoch 12 | step 2300 | min/b  2.51 | lr [1.1804138735062664e-05, 3.9347129116875545e-05, 0.00011804138735062662] | train loss 0.028\n"
          ]
        },
        {
          "output_type": "stream",
          "name": "stderr",
          "text": [
            "363it [04:29,  1.45it/s]"
          ]
        },
        {
          "output_type": "stream",
          "name": "stdout",
          "text": [
            "-----------------------------------------------------------------------------------------\n"
          ]
        },
        {
          "output_type": "stream",
          "name": "stderr",
          "text": [
            "\r364it [04:37,  2.93s/it]"
          ]
        },
        {
          "output_type": "stream",
          "name": "stdout",
          "text": [
            "| epoch  12 | time:  7.51s | dev_result:{'dev_F1': 51.75533840028954, 'dev_F1_ign': 51.2493610863367, 'dev_re_p': 60.516292848074485, 'dev_re_r': 45.21024343977237, 'dev_average_loss': 0.09697179385322205}\n",
            "-----------------------------------------------------------------------------------------\n"
          ]
        },
        {
          "output_type": "stream",
          "name": "stderr",
          "text": [
            "365it [04:38,  1.31it/s]\n",
            "41it [00:30,  1.35it/s]"
          ]
        },
        {
          "output_type": "stream",
          "name": "stdout",
          "text": [
            "| epoch 13 | step 2400 | min/b  0.50 | lr [1.0929758088020986e-05, 3.643252696006995e-05, 0.00010929758088020984] | train loss 0.027\n"
          ]
        },
        {
          "output_type": "stream",
          "name": "stderr",
          "text": [
            "241it [02:55,  1.47it/s]"
          ]
        },
        {
          "output_type": "stream",
          "name": "stdout",
          "text": [
            "| epoch 13 | step 2500 | min/b  2.43 | lr [1.0055377440979307e-05, 3.3517924803264355e-05, 0.00010055377440979306] | train loss 0.025\n"
          ]
        },
        {
          "output_type": "stream",
          "name": "stderr",
          "text": [
            "363it [04:28,  1.43it/s]"
          ]
        },
        {
          "output_type": "stream",
          "name": "stdout",
          "text": [
            "-----------------------------------------------------------------------------------------\n",
            "| epoch  13 | time:  7.59s | dev_result:{'dev_F1': 52.48995282194653, 'dev_F1_ign': 51.92134738959847, 'dev_re_p': 58.67187499999999, 'dev_re_r': 47.48656338918748, 'dev_average_loss': 0.09791959909365532}\n",
            "-----------------------------------------------------------------------------------------\n",
            "| epoch  13 | best_f1:0.5248995282194653\n",
            "| successfully save model at: /content/drive/MyDrive/Models/DeepKE_train/checkpoints/model_ru_roberta2.pt\n"
          ]
        },
        {
          "output_type": "stream",
          "name": "stderr",
          "text": [
            "\r364it [04:48,  6.59s/it]"
          ]
        },
        {
          "output_type": "stream",
          "name": "stdout",
          "text": [
            "-----------------------------------------------------------------------------------------\n"
          ]
        },
        {
          "output_type": "stream",
          "name": "stderr",
          "text": [
            "365it [04:49,  1.26it/s]\n",
            "75it [00:54,  1.17it/s]"
          ]
        },
        {
          "output_type": "stream",
          "name": "stdout",
          "text": [
            "| epoch 14 | step 2600 | min/b  0.91 | lr [9.180996793937627e-06, 3.0603322646458756e-05, 9.180996793937626e-05] | train loss 0.023\n"
          ]
        },
        {
          "output_type": "stream",
          "name": "stderr",
          "text": [
            "275it [03:23,  1.19it/s]"
          ]
        },
        {
          "output_type": "stream",
          "name": "stdout",
          "text": [
            "| epoch 14 | step 2700 | min/b  2.48 | lr [8.306616146895948e-06, 2.7688720489653165e-05, 8.306616146895948e-05] | train loss 0.022\n"
          ]
        },
        {
          "output_type": "stream",
          "name": "stderr",
          "text": [
            "363it [04:28,  1.35it/s]"
          ]
        },
        {
          "output_type": "stream",
          "name": "stdout",
          "text": [
            "-----------------------------------------------------------------------------------------\n"
          ]
        },
        {
          "output_type": "stream",
          "name": "stderr",
          "text": [
            "\r364it [04:37,  2.97s/it]"
          ]
        },
        {
          "output_type": "stream",
          "name": "stdout",
          "text": [
            "| epoch  14 | time:  7.53s | dev_result:{'dev_F1': 51.60567587752054, 'dev_F1_ign': 51.148697997487105, 'dev_re_p': 63.01869585043319, 'dev_re_r': 43.69269680682896, 'dev_average_loss': 0.10028378047207569}\n",
            "-----------------------------------------------------------------------------------------\n"
          ]
        },
        {
          "output_type": "stream",
          "name": "stderr",
          "text": [
            "365it [04:37,  1.31it/s]\n",
            "109it [01:21,  1.57it/s]"
          ]
        },
        {
          "output_type": "stream",
          "name": "stdout",
          "text": [
            "| epoch 15 | step 2800 | min/b  1.35 | lr [7.43223549985427e-06, 2.4774118332847566e-05, 7.43223549985427e-05] | train loss 0.020\n"
          ]
        },
        {
          "output_type": "stream",
          "name": "stderr",
          "text": [
            "309it [03:51,  1.21it/s]"
          ]
        },
        {
          "output_type": "stream",
          "name": "stdout",
          "text": [
            "| epoch 15 | step 2900 | min/b  2.50 | lr [6.557854852812591e-06, 2.185951617604197e-05, 6.55785485281259e-05] | train loss 0.019\n"
          ]
        },
        {
          "output_type": "stream",
          "name": "stderr",
          "text": [
            "363it [04:27,  1.24it/s]"
          ]
        },
        {
          "output_type": "stream",
          "name": "stdout",
          "text": [
            "-----------------------------------------------------------------------------------------\n"
          ]
        },
        {
          "output_type": "stream",
          "name": "stderr",
          "text": [
            "\r364it [04:35,  3.03s/it]"
          ]
        },
        {
          "output_type": "stream",
          "name": "stdout",
          "text": [
            "| epoch  15 | time:  7.56s | dev_result:{'dev_F1': 51.545253863134654, 'dev_F1_ign': 51.08178460714902, 'dev_re_p': 61.63660360756709, 'dev_re_r': 44.29339234903573, 'dev_average_loss': 0.10383129405214432}\n",
            "-----------------------------------------------------------------------------------------\n"
          ]
        },
        {
          "output_type": "stream",
          "name": "stderr",
          "text": [
            "365it [04:36,  1.32it/s]\n",
            "143it [01:48,  1.24it/s]"
          ]
        },
        {
          "output_type": "stream",
          "name": "stdout",
          "text": [
            "| epoch 16 | step 3000 | min/b  1.80 | lr [5.683474205770913e-06, 1.8944914019236376e-05, 5.683474205770912e-05] | train loss 0.018\n"
          ]
        },
        {
          "output_type": "stream",
          "name": "stderr",
          "text": [
            "343it [04:15,  1.29it/s]"
          ]
        },
        {
          "output_type": "stream",
          "name": "stdout",
          "text": [
            "| epoch 16 | step 3100 | min/b  2.45 | lr [4.809093558729234e-06, 1.603031186243078e-05, 4.809093558729233e-05] | train loss 0.019\n"
          ]
        },
        {
          "output_type": "stream",
          "name": "stderr",
          "text": [
            "363it [04:29,  1.50it/s]"
          ]
        },
        {
          "output_type": "stream",
          "name": "stdout",
          "text": [
            "-----------------------------------------------------------------------------------------\n",
            "| epoch  16 | time:  7.64s | dev_result:{'dev_F1': 52.72561531449408, 'dev_F1_ign': 52.204900858754364, 'dev_re_p': 62.273901808785524, 'dev_re_r': 45.71609231742017, 'dev_average_loss': 0.10287534017512139}\n",
            "-----------------------------------------------------------------------------------------\n",
            "| epoch  16 | best_f1:0.5272561531449408\n",
            "| successfully save model at: /content/drive/MyDrive/Models/DeepKE_train/checkpoints/model_ru_roberta2.pt\n"
          ]
        },
        {
          "output_type": "stream",
          "name": "stderr",
          "text": [
            "\r364it [04:50,  6.68s/it]"
          ]
        },
        {
          "output_type": "stream",
          "name": "stdout",
          "text": [
            "-----------------------------------------------------------------------------------------\n"
          ]
        },
        {
          "output_type": "stream",
          "name": "stderr",
          "text": [
            "365it [04:50,  1.26it/s]\n",
            "177it [02:12,  1.48it/s]"
          ]
        },
        {
          "output_type": "stream",
          "name": "stdout",
          "text": [
            "| epoch 17 | step 3200 | min/b  2.21 | lr [3.934712911687554e-06, 1.3115709705625181e-05, 3.934712911687554e-05] | train loss 0.017\n"
          ]
        },
        {
          "output_type": "stream",
          "name": "stderr",
          "text": [
            "363it [04:29,  1.65it/s]"
          ]
        },
        {
          "output_type": "stream",
          "name": "stdout",
          "text": [
            "-----------------------------------------------------------------------------------------\n",
            "| epoch  17 | time:  7.48s | dev_result:{'dev_F1': 53.030852994555346, 'dev_F1_ign': 52.53501816445373, 'dev_re_p': 62.24968044311887, 'dev_re_r': 46.190325640214986, 'dev_average_loss': 0.10495920289070049}\n",
            "-----------------------------------------------------------------------------------------\n",
            "| epoch  17 | best_f1:0.5303085299455534\n",
            "| successfully save model at: /content/drive/MyDrive/Models/DeepKE_train/checkpoints/model_ru_roberta2.pt\n"
          ]
        },
        {
          "output_type": "stream",
          "name": "stderr",
          "text": [
            "\r364it [04:48,  6.34s/it]"
          ]
        },
        {
          "output_type": "stream",
          "name": "stdout",
          "text": [
            "-----------------------------------------------------------------------------------------\n"
          ]
        },
        {
          "output_type": "stream",
          "name": "stderr",
          "text": [
            "365it [04:49,  1.26it/s]\n",
            "11it [00:08,  1.30it/s]"
          ]
        },
        {
          "output_type": "stream",
          "name": "stdout",
          "text": [
            "| epoch 18 | step 3300 | min/b  0.14 | lr [3.060332264645876e-06, 1.0201107548819588e-05, 3.0603322646458756e-05] | train loss 0.016\n"
          ]
        },
        {
          "output_type": "stream",
          "name": "stderr",
          "text": [
            "211it [02:41,  1.22it/s]"
          ]
        },
        {
          "output_type": "stream",
          "name": "stdout",
          "text": [
            "| epoch 18 | step 3400 | min/b  2.55 | lr [2.185951617604197e-06, 7.286505392013991e-06, 2.185951617604197e-05] | train loss 0.015\n"
          ]
        },
        {
          "output_type": "stream",
          "name": "stderr",
          "text": [
            "363it [04:30,  1.42it/s]"
          ]
        },
        {
          "output_type": "stream",
          "name": "stdout",
          "text": [
            "-----------------------------------------------------------------------------------------\n",
            "| epoch  18 | time:  7.53s | dev_result:{'dev_F1': 53.56887937187723, 'dev_F1_ign': 53.034872300048576, 'dev_re_p': 61.49119213437116, 'dev_re_r': 47.45494783433449, 'dev_average_loss': 0.1049495409143732}\n",
            "-----------------------------------------------------------------------------------------\n",
            "| epoch  18 | best_f1:0.5356887937187723\n",
            "| successfully save model at: /content/drive/MyDrive/Models/DeepKE_train/checkpoints/model_ru_roberta2.pt\n"
          ]
        },
        {
          "output_type": "stream",
          "name": "stderr",
          "text": [
            "\r364it [04:50,  6.56s/it]"
          ]
        },
        {
          "output_type": "stream",
          "name": "stdout",
          "text": [
            "-----------------------------------------------------------------------------------------\n"
          ]
        },
        {
          "output_type": "stream",
          "name": "stderr",
          "text": [
            "365it [04:51,  1.25it/s]\n",
            "45it [00:32,  1.10it/s]"
          ]
        },
        {
          "output_type": "stream",
          "name": "stdout",
          "text": [
            "| epoch 19 | step 3500 | min/b  0.54 | lr [1.3115709705625184e-06, 4.371903235208394e-06, 1.3115709705625181e-05] | train loss 0.016\n"
          ]
        },
        {
          "output_type": "stream",
          "name": "stderr",
          "text": [
            "245it [02:58,  1.52it/s]"
          ]
        },
        {
          "output_type": "stream",
          "name": "stdout",
          "text": [
            "| epoch 19 | step 3600 | min/b  2.44 | lr [4.371903235208394e-07, 1.4573010784027982e-06, 4.371903235208393e-06] | train loss 0.014\n"
          ]
        },
        {
          "output_type": "stream",
          "name": "stderr",
          "text": [
            "363it [04:29,  1.17it/s]"
          ]
        },
        {
          "output_type": "stream",
          "name": "stdout",
          "text": [
            "-----------------------------------------------------------------------------------------\n",
            "| epoch  19 | time:  7.80s | dev_result:{'dev_F1': 53.72755305641211, 'dev_F1_ign': 53.21047837030704, 'dev_re_p': 63.02127659574468, 'dev_re_r': 46.822636737274735, 'dev_average_loss': 0.10549144724265058}\n",
            "-----------------------------------------------------------------------------------------\n",
            "| epoch  19 | best_f1:0.5372755305641211\n",
            "| successfully save model at: /content/drive/MyDrive/Models/DeepKE_train/checkpoints/model_ru_roberta2.pt\n"
          ]
        },
        {
          "output_type": "stream",
          "name": "stderr",
          "text": [
            "\r364it [04:49,  6.80s/it]"
          ]
        },
        {
          "output_type": "stream",
          "name": "stdout",
          "text": [
            "-----------------------------------------------------------------------------------------\n"
          ]
        },
        {
          "output_type": "stream",
          "name": "stderr",
          "text": [
            "365it [04:50,  1.26it/s]\n"
          ]
        }
      ]
    },
    {
      "cell_type": "markdown",
      "source": [
        "## ru bert large"
      ],
      "metadata": {
        "id": "JJN9uQLDjHMF"
      },
      "id": "JJN9uQLDjHMF"
    },
    {
      "cell_type": "code",
      "source": [
        "class Config(object):\n",
        "    adam_epsilon=1e-06\n",
        "    bert_lr=3e-05\n",
        "    channel_type='context-based'\n",
        "    config_name=''\n",
        "    data_dir='/content/drive/MyDrive/data/nerel_docred_ver'\n",
        "    dataset='docred'\n",
        "    dev_file='dev.json'\n",
        "    down_dim=256\n",
        "    evaluation_steps=-1\n",
        "    gradient_accumulation_steps=2\n",
        "    learning_rate=0.0003\n",
        "    log_dir='/content/drive/MyDrive/Models/DeepKE_train/logs/train_ru_bertL.log'\n",
        "    max_grad_norm=1.0\n",
        "    max_height=103\n",
        "    max_seq_length=512\n",
        "    # model_name_or_path='xlm-roberta-base'\n",
        "    model_name_or_path='ai-forever/ruBert-large'\n",
        "    num_class=50\n",
        "    num_labels=29\n",
        "    num_train_epochs=15\n",
        "    save_path='/content/drive/MyDrive/Models/DeepKE_train/checkpoints/model_ru_bertL.pt'\n",
        "    seed=111\n",
        "    test_batch_size=2\n",
        "    test_file='test.json'\n",
        "    tokenizer_name=''\n",
        "    train_batch_size=2\n",
        "    train_file='train_annotated_filter.json'\n",
        "    train_from_saved_model=''\n",
        "    transformer_type='bert'\n",
        "    unet_in_dim=3\n",
        "    unet_out_dim=256\n",
        "    warmup_ratio=0.06\n",
        "    load_path='/content/drive/MyDrive/Models/DeepKE_train/checkpoints/model_ru_bertL.pt'\n",
        "\n",
        "cfg = Config()"
      ],
      "metadata": {
        "id": "fdTgynq0jG1J"
      },
      "id": "fdTgynq0jG1J",
      "execution_count": null,
      "outputs": []
    },
    {
      "cell_type": "code",
      "source": [
        "# if not os.path.exists(os.path.join(cfg.data_dir, \"train_distant.json\")):\n",
        "#     raise FileNotFoundError(\"Sorry, the file: 'train_annotated.json' is too big to upload to github, \\\n",
        "#         please manually download to 'data/' from DocRED GoogleDrive https://drive.google.com/drive/folders/1c5-0YwnoJx8NS6CV2f-NoTHR__BdkNqw\")\n",
        "\n",
        "\n",
        "if torch.cuda.is_available():\n",
        "    device = \"cuda:0\"\n",
        "# elif torch.backends.mps.is_available():\n",
        "#     device = \"mps\"\n",
        "else:\n",
        "    device = \"cpu\"\n",
        "\n",
        "\n",
        "config = AutoConfig.from_pretrained(\n",
        "    cfg.config_name if cfg.config_name else cfg.model_name_or_path,\n",
        "    num_labels=cfg.num_class,\n",
        ")\n",
        "tokenizer = AutoTokenizer.from_pretrained(\n",
        "    cfg.tokenizer_name if cfg.tokenizer_name else cfg.model_name_or_path,\n",
        ")\n",
        "\n",
        "Dataset = ReadDataset(cfg.dataset, tokenizer, cfg.max_seq_length, cfg.transformer_type)\n",
        "\n",
        "train_file = os.path.join(cfg.data_dir, cfg.train_file)\n",
        "dev_file = os.path.join(cfg.data_dir, cfg.dev_file)\n",
        "test_file = os.path.join(cfg.data_dir, cfg.test_file)\n",
        "train_features = Dataset.read(train_file)\n",
        "dev_features = Dataset.read(dev_file)\n",
        "test_features = Dataset.read(test_file)\n",
        "\n",
        "model = AutoModel.from_pretrained(\n",
        "    cfg.model_name_or_path,\n",
        "    from_tf=bool(\".ckpt\" in cfg.model_name_or_path),\n",
        "    config=config,\n",
        ")\n",
        "\n",
        "\n",
        "config.cls_token_id = tokenizer.cls_token_id\n",
        "config.sep_token_id = tokenizer.sep_token_id\n",
        "config.transformer_type = cfg.transformer_type\n",
        "\n",
        "set_seed(cfg)\n",
        "model = DocREModel(config, cfg,  model, num_labels=cfg.num_labels)\n",
        "if cfg.train_from_saved_model != '':\n",
        "    model.load_state_dict(torch.load(cfg.train_from_saved_model)[\"checkpoint\"])\n",
        "    print(\"load saved model from {}.\".format(cfg.train_from_saved_model))\n",
        "\n",
        "#if torch.cuda.device_count() > 1:\n",
        "#    print(\"Let's use\", torch.cuda.device_count(), \"GPUs!\")\n",
        "#    model = torch.nn.DataParallel(model, device_ids = list(range(torch.cuda.device_count())))\n",
        "model.to(device)\n",
        "\n",
        "train(cfg, model, train_features, dev_features, test_features)"
      ],
      "metadata": {
        "colab": {
          "base_uri": "https://localhost:8080/"
        },
        "id": "2jfaD5dHjGo2",
        "outputId": "371d2789-9b24-41b7-9d8b-cbe841b650d3"
      },
      "id": "2jfaD5dHjGo2",
      "execution_count": null,
      "outputs": [
        {
          "output_type": "stream",
          "name": "stdout",
          "text": [
            "load preprocessed data from /content/drive/MyDrive/data/nerel_docred_ver/train_annotated_filter_bert_docred.pkl.\n",
            "load preprocessed data from /content/drive/MyDrive/data/nerel_docred_ver/dev_bert_docred.pkl.\n",
            "load preprocessed data from /content/drive/MyDrive/data/nerel_docred_ver/test_bert_docred.pkl.\n"
          ]
        },
        {
          "output_type": "stream",
          "name": "stderr",
          "text": [
            "Some weights of the model checkpoint at ai-forever/ruBert-large were not used when initializing BertModel: ['cls.predictions.bias', 'cls.seq_relationship.weight', 'cls.predictions.transform.LayerNorm.bias', 'cls.predictions.transform.dense.weight', 'cls.predictions.decoder.bias', 'cls.predictions.transform.LayerNorm.weight', 'cls.seq_relationship.bias', 'cls.predictions.transform.dense.bias', 'cls.predictions.decoder.weight']\n",
            "- This IS expected if you are initializing BertModel from the checkpoint of a model trained on another task or with another architecture (e.g. initializing a BertForSequenceClassification model from a BertForPreTraining model).\n",
            "- This IS NOT expected if you are initializing BertModel from the checkpoint of a model that you expect to be exactly identical (initializing a BertForSequenceClassification model from a BertForSequenceClassification model).\n"
          ]
        },
        {
          "output_type": "stream",
          "name": "stdout",
          "text": [
            "Total steps: 2737\n",
            "Warmup steps: 164\n"
          ]
        },
        {
          "output_type": "stream",
          "name": "stderr",
          "text": [
            "199it [02:03,  2.00it/s]"
          ]
        },
        {
          "output_type": "stream",
          "name": "stdout",
          "text": [
            "| epoch  0 | step  100 | min/b  2.06 | lr [1.8292682926829268e-05, 6.097560975609756e-05, 0.00018292682926829266] | train loss 1.736\n"
          ]
        },
        {
          "output_type": "stream",
          "name": "stderr",
          "text": [
            "363it [03:44,  2.24it/s]"
          ]
        },
        {
          "output_type": "stream",
          "name": "stdout",
          "text": [
            "-----------------------------------------------------------------------------------------\n",
            "| epoch   0 | time:  5.99s | dev_result:{'dev_F1': 14.226754066521002, 'dev_F1_ign': 14.078428561475691, 'dev_re_p': 30.648535564853557, 'dev_re_r': 9.263357571925388, 'dev_average_loss': 0.17467387527861494}\n",
            "-----------------------------------------------------------------------------------------\n",
            "| epoch   0 | best_f1:0.14226754066521002\n",
            "| successfully save model at: /content/drive/MyDrive/Models/DeepKE_train/checkpoints/model_ru_bertL.pt\n",
            "-----------------------------------------------------------------------------------------\n"
          ]
        },
        {
          "output_type": "stream",
          "name": "stderr",
          "text": [
            "365it [04:48,  1.26it/s]\n",
            "33it [00:21,  1.28it/s]"
          ]
        },
        {
          "output_type": "stream",
          "name": "stdout",
          "text": [
            "| epoch  1 | step  200 | min/b  0.35 | lr [2.9580256509910614e-05, 9.860085503303538e-05, 0.0002958025650991061] | train loss 0.197\n"
          ]
        },
        {
          "output_type": "stream",
          "name": "stderr",
          "text": [
            "233it [02:23,  2.18it/s]"
          ]
        },
        {
          "output_type": "stream",
          "name": "stdout",
          "text": [
            "| epoch  1 | step  300 | min/b  2.04 | lr [2.8414302370773418e-05, 9.47143412359114e-05, 0.0002841430237077342] | train loss 0.162\n"
          ]
        },
        {
          "output_type": "stream",
          "name": "stderr",
          "text": [
            "363it [03:43,  1.67it/s]"
          ]
        },
        {
          "output_type": "stream",
          "name": "stdout",
          "text": [
            "-----------------------------------------------------------------------------------------\n",
            "| epoch   1 | time:  6.96s | dev_result:{'dev_F1': 16.334864726901476, 'dev_F1_ign': 16.26450946393917, 'dev_re_p': 42.384105960264904, 'dev_re_r': 10.116977552956055, 'dev_average_loss': 0.13162397149395436}\n",
            "-----------------------------------------------------------------------------------------\n",
            "| epoch   1 | best_f1:0.16334864726901477\n",
            "| successfully save model at: /content/drive/MyDrive/Models/DeepKE_train/checkpoints/model_ru_bertL.pt\n"
          ]
        },
        {
          "output_type": "stream",
          "name": "stderr",
          "text": [
            "\r364it [04:06,  7.36s/it]"
          ]
        },
        {
          "output_type": "stream",
          "name": "stdout",
          "text": [
            "-----------------------------------------------------------------------------------------\n"
          ]
        },
        {
          "output_type": "stream",
          "name": "stderr",
          "text": [
            "365it [04:07,  1.48it/s]\n",
            "67it [00:42,  1.56it/s]"
          ]
        },
        {
          "output_type": "stream",
          "name": "stdout",
          "text": [
            "| epoch  2 | step  400 | min/b  0.71 | lr [2.7248348231636226e-05, 9.082782743878741e-05, 0.0002724834823163622] | train loss 0.135\n"
          ]
        },
        {
          "output_type": "stream",
          "name": "stderr",
          "text": [
            "267it [02:44,  1.57it/s]"
          ]
        },
        {
          "output_type": "stream",
          "name": "stdout",
          "text": [
            "| epoch  2 | step  500 | min/b  2.04 | lr [2.608239409249903e-05, 8.694131364166343e-05, 0.00026082394092499025] | train loss 0.134\n"
          ]
        },
        {
          "output_type": "stream",
          "name": "stderr",
          "text": [
            "363it [03:42,  2.20it/s]"
          ]
        },
        {
          "output_type": "stream",
          "name": "stdout",
          "text": [
            "-----------------------------------------------------------------------------------------\n",
            "| epoch   2 | time:  6.01s | dev_result:{'dev_F1': 24.494485294117645, 'dev_F1_ign': 24.39529209319269, 'dev_re_p': 44.827586206896555, 'dev_re_r': 16.851090736642426, 'dev_average_loss': 0.122829499555395}\n",
            "-----------------------------------------------------------------------------------------\n",
            "| epoch   2 | best_f1:0.24494485294117646\n",
            "| successfully save model at: /content/drive/MyDrive/Models/DeepKE_train/checkpoints/model_ru_bertL.pt\n"
          ]
        },
        {
          "output_type": "stream",
          "name": "stderr",
          "text": [
            "\r364it [04:05,  7.27s/it]"
          ]
        },
        {
          "output_type": "stream",
          "name": "stdout",
          "text": [
            "-----------------------------------------------------------------------------------------\n"
          ]
        },
        {
          "output_type": "stream",
          "name": "stderr",
          "text": [
            "365it [04:05,  1.48it/s]\n",
            "101it [01:02,  1.68it/s]"
          ]
        },
        {
          "output_type": "stream",
          "name": "stdout",
          "text": [
            "| epoch  3 | step  600 | min/b  1.04 | lr [2.4916439953361834e-05, 8.305479984453946e-05, 0.00024916439953361834] | train loss 0.116\n"
          ]
        },
        {
          "output_type": "stream",
          "name": "stderr",
          "text": [
            "301it [03:04,  1.90it/s]"
          ]
        },
        {
          "output_type": "stream",
          "name": "stdout",
          "text": [
            "| epoch  3 | step  700 | min/b  2.04 | lr [2.3750485814224642e-05, 7.916828604741548e-05, 0.0002375048581422464] | train loss 0.115\n"
          ]
        },
        {
          "output_type": "stream",
          "name": "stderr",
          "text": [
            "363it [03:44,  1.46it/s]"
          ]
        },
        {
          "output_type": "stream",
          "name": "stdout",
          "text": [
            "-----------------------------------------------------------------------------------------\n",
            "| epoch   3 | time:  6.05s | dev_result:{'dev_F1': 30.321864594894564, 'dev_F1_ign': 30.09833562353737, 'dev_re_p': 50.894187779433686, 'dev_re_r': 21.593423964590578, 'dev_average_loss': 0.10980742147311251}\n",
            "-----------------------------------------------------------------------------------------\n",
            "| epoch   3 | best_f1:0.30321864594894565\n",
            "| successfully save model at: /content/drive/MyDrive/Models/DeepKE_train/checkpoints/model_ru_bertL.pt\n"
          ]
        },
        {
          "output_type": "stream",
          "name": "stderr",
          "text": [
            "\r364it [04:07,  7.34s/it]"
          ]
        },
        {
          "output_type": "stream",
          "name": "stdout",
          "text": [
            "-----------------------------------------------------------------------------------------\n"
          ]
        },
        {
          "output_type": "stream",
          "name": "stderr",
          "text": [
            "365it [04:07,  1.47it/s]\n",
            "135it [01:28,  1.45it/s]"
          ]
        },
        {
          "output_type": "stream",
          "name": "stdout",
          "text": [
            "| epoch  4 | step  800 | min/b  1.47 | lr [2.2584531675087446e-05, 7.528177225029149e-05, 0.00022584531675087446] | train loss 0.099\n"
          ]
        },
        {
          "output_type": "stream",
          "name": "stderr",
          "text": [
            "335it [03:25,  1.77it/s]"
          ]
        },
        {
          "output_type": "stream",
          "name": "stdout",
          "text": [
            "| epoch  4 | step  900 | min/b  1.96 | lr [2.1418577535950254e-05, 7.139525845316751e-05, 0.0002141857753595025] | train loss 0.101\n"
          ]
        },
        {
          "output_type": "stream",
          "name": "stderr",
          "text": [
            "363it [03:43,  1.50it/s]"
          ]
        },
        {
          "output_type": "stream",
          "name": "stdout",
          "text": [
            "-----------------------------------------------------------------------------------------\n",
            "| epoch   4 | time:  5.92s | dev_result:{'dev_F1': 35.459587955626, 'dev_F1_ign': 35.00141694122964, 'dev_re_p': 47.48010610079575, 'dev_re_r': 28.295921593423966, 'dev_average_loss': 0.10734710628364949}\n",
            "-----------------------------------------------------------------------------------------\n",
            "| epoch   4 | best_f1:0.35459587955626\n",
            "| successfully save model at: /content/drive/MyDrive/Models/DeepKE_train/checkpoints/model_ru_bertL.pt\n"
          ]
        },
        {
          "output_type": "stream",
          "name": "stderr",
          "text": [
            "\r364it [04:04,  6.72s/it]"
          ]
        },
        {
          "output_type": "stream",
          "name": "stdout",
          "text": [
            "-----------------------------------------------------------------------------------------\n"
          ]
        },
        {
          "output_type": "stream",
          "name": "stderr",
          "text": [
            "365it [04:04,  1.49it/s]\n",
            "169it [01:44,  1.43it/s]"
          ]
        },
        {
          "output_type": "stream",
          "name": "stdout",
          "text": [
            "| epoch  5 | step 1000 | min/b  1.74 | lr [2.0252623396813058e-05, 6.750874465604354e-05, 0.00020252623396813056] | train loss 0.089\n"
          ]
        },
        {
          "output_type": "stream",
          "name": "stderr",
          "text": [
            "363it [03:44,  1.55it/s]"
          ]
        },
        {
          "output_type": "stream",
          "name": "stdout",
          "text": [
            "-----------------------------------------------------------------------------------------\n"
          ]
        },
        {
          "output_type": "stream",
          "name": "stderr",
          "text": [
            "\r364it [03:50,  2.32s/it]"
          ]
        },
        {
          "output_type": "stream",
          "name": "stdout",
          "text": [
            "| epoch   5 | time:  5.94s | dev_result:{'dev_F1': 33.79325944356481, 'dev_F1_ign': 33.562153809504004, 'dev_re_p': 59.37996820349761, 'dev_re_r': 23.61681947518179, 'dev_average_loss': 0.09776581546410601}\n",
            "-----------------------------------------------------------------------------------------\n"
          ]
        },
        {
          "output_type": "stream",
          "name": "stderr",
          "text": [
            "365it [03:51,  1.58it/s]\n",
            "3it [00:01,  2.49it/s]"
          ]
        },
        {
          "output_type": "stream",
          "name": "stdout",
          "text": [
            "| epoch  6 | step 1100 | min/b  0.02 | lr [1.9086669257675866e-05, 6.362223085891955e-05, 0.00019086669257675862] | train loss 0.084\n"
          ]
        },
        {
          "output_type": "stream",
          "name": "stderr",
          "text": [
            "203it [02:00,  1.55it/s]"
          ]
        },
        {
          "output_type": "stream",
          "name": "stdout",
          "text": [
            "| epoch  6 | step 1200 | min/b  1.99 | lr [1.792071511853867e-05, 5.973571706179557e-05, 0.00017920715118538669] | train loss 0.079\n"
          ]
        },
        {
          "output_type": "stream",
          "name": "stderr",
          "text": [
            "363it [03:42,  1.49it/s]"
          ]
        },
        {
          "output_type": "stream",
          "name": "stdout",
          "text": [
            "-----------------------------------------------------------------------------------------\n",
            "| epoch   6 | time:  6.00s | dev_result:{'dev_F1': 39.30242450021268, 'dev_F1_ign': 39.02884935274212, 'dev_re_p': 60.03898635477582, 'dev_re_r': 29.21277268416061, 'dev_average_loss': 0.0973612239703219}\n",
            "-----------------------------------------------------------------------------------------\n",
            "| epoch   6 | best_f1:0.3930242450021268\n",
            "| successfully save model at: /content/drive/MyDrive/Models/DeepKE_train/checkpoints/model_ru_bertL.pt\n"
          ]
        },
        {
          "output_type": "stream",
          "name": "stderr",
          "text": [
            "\r364it [04:06,  7.72s/it]"
          ]
        },
        {
          "output_type": "stream",
          "name": "stdout",
          "text": [
            "-----------------------------------------------------------------------------------------\n"
          ]
        },
        {
          "output_type": "stream",
          "name": "stderr",
          "text": [
            "365it [04:06,  1.48it/s]\n",
            "38it [00:25,  1.73it/s]"
          ]
        },
        {
          "output_type": "stream",
          "name": "stdout",
          "text": [
            "| epoch  7 | step 1300 | min/b  0.42 | lr [1.6754760979401478e-05, 5.584920326467159e-05, 0.00016754760979401475] | train loss 0.072\n"
          ]
        },
        {
          "output_type": "stream",
          "name": "stderr",
          "text": [
            "237it [02:27,  1.49it/s]"
          ]
        },
        {
          "output_type": "stream",
          "name": "stdout",
          "text": [
            "| epoch  7 | step 1400 | min/b  2.04 | lr [1.5588806840264282e-05, 5.196268946754761e-05, 0.0001558880684026428] | train loss 0.067\n"
          ]
        },
        {
          "output_type": "stream",
          "name": "stderr",
          "text": [
            "363it [03:44,  1.59it/s]"
          ]
        },
        {
          "output_type": "stream",
          "name": "stdout",
          "text": [
            "-----------------------------------------------------------------------------------------\n",
            "| epoch   7 | time:  5.99s | dev_result:{'dev_F1': 44.76971116315379, 'dev_F1_ign': 44.40760491385618, 'dev_re_p': 58.490566037735846, 'dev_re_r': 36.26304141637686, 'dev_average_loss': 0.09407690674700636}\n",
            "-----------------------------------------------------------------------------------------\n",
            "| epoch   7 | best_f1:0.44769711163153786\n",
            "| successfully save model at: /content/drive/MyDrive/Models/DeepKE_train/checkpoints/model_ru_bertL.pt\n"
          ]
        },
        {
          "output_type": "stream",
          "name": "stderr",
          "text": [
            "\r364it [04:06,  6.98s/it]"
          ]
        },
        {
          "output_type": "stream",
          "name": "stdout",
          "text": [
            "-----------------------------------------------------------------------------------------\n"
          ]
        },
        {
          "output_type": "stream",
          "name": "stderr",
          "text": [
            "365it [04:07,  1.48it/s]\n",
            "71it [00:44,  1.15it/s]"
          ]
        },
        {
          "output_type": "stream",
          "name": "stdout",
          "text": [
            "| epoch  8 | step 1500 | min/b  0.75 | lr [1.442285270112709e-05, 4.8076175670423634e-05, 0.00014422852701127087] | train loss 0.064\n"
          ]
        },
        {
          "output_type": "stream",
          "name": "stderr",
          "text": [
            "271it [02:46,  1.67it/s]"
          ]
        },
        {
          "output_type": "stream",
          "name": "stdout",
          "text": [
            "| epoch  8 | step 1600 | min/b  2.03 | lr [1.3256898561989895e-05, 4.418966187329965e-05, 0.00013256898561989894] | train loss 0.058\n"
          ]
        },
        {
          "output_type": "stream",
          "name": "stderr",
          "text": [
            "363it [03:43,  1.31it/s]"
          ]
        },
        {
          "output_type": "stream",
          "name": "stdout",
          "text": [
            "-----------------------------------------------------------------------------------------\n",
            "| epoch   8 | time:  5.96s | dev_result:{'dev_F1': 45.33081285444234, 'dev_F1_ign': 44.886800398481164, 'dev_re_p': 56.37047484720264, 'dev_re_r': 37.90705026873222, 'dev_average_loss': 0.0958379843926176}\n",
            "-----------------------------------------------------------------------------------------\n",
            "| epoch   8 | best_f1:0.4533081285444234\n",
            "| successfully save model at: /content/drive/MyDrive/Models/DeepKE_train/checkpoints/model_ru_bertL.pt\n"
          ]
        },
        {
          "output_type": "stream",
          "name": "stderr",
          "text": [
            "\r364it [04:05,  7.34s/it]"
          ]
        },
        {
          "output_type": "stream",
          "name": "stdout",
          "text": [
            "-----------------------------------------------------------------------------------------\n"
          ]
        },
        {
          "output_type": "stream",
          "name": "stderr",
          "text": [
            "365it [04:06,  1.48it/s]\n",
            "105it [01:06,  1.49it/s]"
          ]
        },
        {
          "output_type": "stream",
          "name": "stdout",
          "text": [
            "| epoch  9 | step 1700 | min/b  1.11 | lr [1.2090944422852701e-05, 4.0303148076175674e-05, 0.000120909444228527] | train loss 0.054\n"
          ]
        },
        {
          "output_type": "stream",
          "name": "stderr",
          "text": [
            "305it [03:06,  1.76it/s]"
          ]
        },
        {
          "output_type": "stream",
          "name": "stdout",
          "text": [
            "| epoch  9 | step 1800 | min/b  2.01 | lr [1.0924990283715507e-05, 3.641663427905169e-05, 0.00010924990283715506] | train loss 0.053\n"
          ]
        },
        {
          "output_type": "stream",
          "name": "stderr",
          "text": [
            "363it [03:43,  1.59it/s]"
          ]
        },
        {
          "output_type": "stream",
          "name": "stdout",
          "text": [
            "-----------------------------------------------------------------------------------------\n",
            "| epoch   9 | time:  5.98s | dev_result:{'dev_F1': 47.38955823293173, 'dev_F1_ign': 46.93025217009616, 'dev_re_p': 56.06911447084233, 'dev_re_r': 41.036990199178, 'dev_average_loss': 0.09506675648562452}\n",
            "-----------------------------------------------------------------------------------------\n",
            "| epoch   9 | best_f1:0.47389558232931733\n",
            "| successfully save model at: /content/drive/MyDrive/Models/DeepKE_train/checkpoints/model_ru_bertL.pt\n"
          ]
        },
        {
          "output_type": "stream",
          "name": "stderr",
          "text": [
            "\r364it [04:06,  7.30s/it]"
          ]
        },
        {
          "output_type": "stream",
          "name": "stdout",
          "text": [
            "-----------------------------------------------------------------------------------------\n"
          ]
        },
        {
          "output_type": "stream",
          "name": "stderr",
          "text": [
            "365it [04:07,  1.48it/s]\n",
            "139it [01:26,  1.59it/s]"
          ]
        },
        {
          "output_type": "stream",
          "name": "stdout",
          "text": [
            "| epoch 10 | step 1900 | min/b  1.43 | lr [9.759036144578313e-06, 3.253012048192771e-05, 9.759036144578313e-05] | train loss 0.047\n"
          ]
        },
        {
          "output_type": "stream",
          "name": "stderr",
          "text": [
            "339it [03:28,  1.49it/s]"
          ]
        },
        {
          "output_type": "stream",
          "name": "stdout",
          "text": [
            "| epoch 10 | step 2000 | min/b  2.04 | lr [8.59308200544112e-06, 2.864360668480373e-05, 8.593082005441118e-05] | train loss 0.045\n"
          ]
        },
        {
          "output_type": "stream",
          "name": "stderr",
          "text": [
            "363it [03:42,  2.16it/s]"
          ]
        },
        {
          "output_type": "stream",
          "name": "stdout",
          "text": [
            "-----------------------------------------------------------------------------------------\n",
            "| epoch  10 | time:  6.95s | dev_result:{'dev_F1': 49.899026987332476, 'dev_F1_ign': 49.38146127544446, 'dev_re_p': 59.50087565674256, 'dev_re_r': 42.96553904521024, 'dev_average_loss': 0.09270291648646618}\n",
            "-----------------------------------------------------------------------------------------\n",
            "| epoch  10 | best_f1:0.49899026987332473\n",
            "| successfully save model at: /content/drive/MyDrive/Models/DeepKE_train/checkpoints/model_ru_bertL.pt\n"
          ]
        },
        {
          "output_type": "stream",
          "name": "stderr",
          "text": [
            "\r364it [04:05,  7.35s/it]"
          ]
        },
        {
          "output_type": "stream",
          "name": "stdout",
          "text": [
            "-----------------------------------------------------------------------------------------\n"
          ]
        },
        {
          "output_type": "stream",
          "name": "stderr",
          "text": [
            "365it [04:06,  1.48it/s]\n",
            "173it [01:49,  1.49it/s]"
          ]
        },
        {
          "output_type": "stream",
          "name": "stdout",
          "text": [
            "| epoch 11 | step 2100 | min/b  1.82 | lr [7.427127866303926e-06, 2.4757092887679753e-05, 7.427127866303925e-05] | train loss 0.039\n"
          ]
        },
        {
          "output_type": "stream",
          "name": "stderr",
          "text": [
            "363it [03:43,  1.41it/s]"
          ]
        },
        {
          "output_type": "stream",
          "name": "stdout",
          "text": [
            "-----------------------------------------------------------------------------------------\n",
            "| epoch  11 | time:  5.88s | dev_result:{'dev_F1': 51.25815470643057, 'dev_F1_ign': 50.80000848999008, 'dev_re_p': 62.44323342415985, 'dev_re_r': 43.47138792285804, 'dev_average_loss': 0.09176979158469971}\n",
            "-----------------------------------------------------------------------------------------\n",
            "| epoch  11 | best_f1:0.5125815470643057\n",
            "| successfully save model at: /content/drive/MyDrive/Models/DeepKE_train/checkpoints/model_ru_bertL.pt\n"
          ]
        },
        {
          "output_type": "stream",
          "name": "stderr",
          "text": [
            "\r364it [04:05,  7.16s/it]"
          ]
        },
        {
          "output_type": "stream",
          "name": "stdout",
          "text": [
            "-----------------------------------------------------------------------------------------\n"
          ]
        },
        {
          "output_type": "stream",
          "name": "stderr",
          "text": [
            "365it [04:06,  1.48it/s]\n",
            "7it [00:03,  1.97it/s]"
          ]
        },
        {
          "output_type": "stream",
          "name": "stdout",
          "text": [
            "| epoch 12 | step 2200 | min/b  0.06 | lr [6.261173727166731e-06, 2.0870579090555773e-05, 6.261173727166732e-05] | train loss 0.037\n"
          ]
        },
        {
          "output_type": "stream",
          "name": "stderr",
          "text": [
            "207it [02:08,  1.57it/s]"
          ]
        },
        {
          "output_type": "stream",
          "name": "stdout",
          "text": [
            "| epoch 12 | step 2300 | min/b  2.07 | lr [5.095219588029537e-06, 1.6984065293431793e-05, 5.095219588029537e-05] | train loss 0.035\n"
          ]
        },
        {
          "output_type": "stream",
          "name": "stderr",
          "text": [
            "363it [03:43,  1.78it/s]"
          ]
        },
        {
          "output_type": "stream",
          "name": "stdout",
          "text": [
            "-----------------------------------------------------------------------------------------\n",
            "| epoch  12 | time:  6.00s | dev_result:{'dev_F1': 52.63534036090762, 'dev_F1_ign': 52.08765338802692, 'dev_re_p': 60.51766639276911, 'dev_re_r': 46.56971229845084, 'dev_average_loss': 0.0924683133972452}\n",
            "-----------------------------------------------------------------------------------------\n",
            "| epoch  12 | best_f1:0.5263534036090762\n",
            "| successfully save model at: /content/drive/MyDrive/Models/DeepKE_train/checkpoints/model_ru_bertL.pt\n"
          ]
        },
        {
          "output_type": "stream",
          "name": "stderr",
          "text": [
            "\r364it [04:06,  7.30s/it]"
          ]
        },
        {
          "output_type": "stream",
          "name": "stdout",
          "text": [
            "-----------------------------------------------------------------------------------------\n"
          ]
        },
        {
          "output_type": "stream",
          "name": "stderr",
          "text": [
            "365it [04:07,  1.47it/s]\n",
            "41it [00:25,  1.61it/s]"
          ]
        },
        {
          "output_type": "stream",
          "name": "stdout",
          "text": [
            "| epoch 13 | step 2400 | min/b  0.42 | lr [3.929265448892344e-06, 1.3097551496307814e-05, 3.9292654488923434e-05] | train loss 0.034\n"
          ]
        },
        {
          "output_type": "stream",
          "name": "stderr",
          "text": [
            "241it [02:26,  1.74it/s]"
          ]
        },
        {
          "output_type": "stream",
          "name": "stdout",
          "text": [
            "| epoch 13 | step 2500 | min/b  2.02 | lr [2.76331130975515e-06, 9.211037699183832e-06, 2.7633113097551497e-05] | train loss 0.032\n"
          ]
        },
        {
          "output_type": "stream",
          "name": "stderr",
          "text": [
            "363it [03:43,  1.76it/s]"
          ]
        },
        {
          "output_type": "stream",
          "name": "stdout",
          "text": [
            "-----------------------------------------------------------------------------------------\n"
          ]
        },
        {
          "output_type": "stream",
          "name": "stderr",
          "text": [
            "\r364it [03:49,  2.36s/it]"
          ]
        },
        {
          "output_type": "stream",
          "name": "stdout",
          "text": [
            "| epoch  13 | time:  6.00s | dev_result:{'dev_F1': 52.46800731261426, 'dev_F1_ign': 51.98519721252901, 'dev_re_p': 62.20199393151279, 'dev_re_r': 45.3683212140373, 'dev_average_loss': 0.0931826355926534}\n",
            "-----------------------------------------------------------------------------------------\n"
          ]
        },
        {
          "output_type": "stream",
          "name": "stderr",
          "text": [
            "365it [03:50,  1.59it/s]\n",
            "75it [00:44,  1.42it/s]"
          ]
        },
        {
          "output_type": "stream",
          "name": "stdout",
          "text": [
            "| epoch 14 | step 2600 | min/b  0.75 | lr [1.5973571706179556e-06, 5.324523902059852e-06, 1.5973571706179557e-05] | train loss 0.030\n"
          ]
        },
        {
          "output_type": "stream",
          "name": "stderr",
          "text": [
            "275it [02:48,  1.40it/s]"
          ]
        },
        {
          "output_type": "stream",
          "name": "stdout",
          "text": [
            "| epoch 14 | step 2700 | min/b  2.06 | lr [4.3140303148076176e-07, 1.4380101049358726e-06, 4.314030314807617e-06] | train loss 0.029\n"
          ]
        },
        {
          "output_type": "stream",
          "name": "stderr",
          "text": [
            "363it [03:42,  1.64it/s]"
          ]
        },
        {
          "output_type": "stream",
          "name": "stdout",
          "text": [
            "-----------------------------------------------------------------------------------------\n",
            "| epoch  14 | time:  6.04s | dev_result:{'dev_F1': 52.647058823529406, 'dev_F1_ign': 52.15498102099616, 'dev_re_p': 62.88976723759332, 'dev_re_r': 45.273474549478344, 'dev_average_loss': 0.09339573162984341}\n",
            "-----------------------------------------------------------------------------------------\n",
            "| epoch  14 | best_f1:0.526470588235294\n",
            "| successfully save model at: /content/drive/MyDrive/Models/DeepKE_train/checkpoints/model_ru_bertL.pt\n"
          ]
        },
        {
          "output_type": "stream",
          "name": "stderr",
          "text": [
            "\r364it [04:05,  7.32s/it]"
          ]
        },
        {
          "output_type": "stream",
          "name": "stdout",
          "text": [
            "-----------------------------------------------------------------------------------------\n"
          ]
        },
        {
          "output_type": "stream",
          "name": "stderr",
          "text": [
            "365it [04:06,  1.48it/s]\n"
          ]
        }
      ]
    },
    {
      "cell_type": "code",
      "source": [
        "from google.colab import runtime\n",
        "runtime.unassign()"
      ],
      "metadata": {
        "id": "XPN3xuHX-csL"
      },
      "id": "XPN3xuHX-csL",
      "execution_count": null,
      "outputs": []
    },
    {
      "cell_type": "markdown",
      "source": [
        "## ru bert base"
      ],
      "metadata": {
        "id": "4vAzVA7ZlBuY"
      },
      "id": "4vAzVA7ZlBuY"
    },
    {
      "cell_type": "code",
      "source": [
        "class Config(object):\n",
        "    adam_epsilon=1e-06\n",
        "    bert_lr=3e-05\n",
        "    channel_type='context-based'\n",
        "    config_name=''\n",
        "    data_dir='/content/drive/MyDrive/data/nerel_docred_ver'\n",
        "    dataset='docred'\n",
        "    dev_file='dev.json'\n",
        "    down_dim=256\n",
        "    evaluation_steps=-1\n",
        "    gradient_accumulation_steps=2\n",
        "    learning_rate=0.0003\n",
        "    log_dir='/content/drive/MyDrive/Models/DeepKE_train/logs/train_ru_bertB.log'\n",
        "    max_grad_norm=1.0\n",
        "    max_height=103\n",
        "    max_seq_length=512\n",
        "    # model_name_or_path='xlm-roberta-base'\n",
        "    model_name_or_path='ai-forever/ruBert-base'\n",
        "    num_class=50\n",
        "    num_labels=29\n",
        "    num_train_epochs=15\n",
        "    save_path='/content/drive/MyDrive/Models/DeepKE_train/checkpoints/model_ru_bertB.pt'\n",
        "    seed=111\n",
        "    test_batch_size=2\n",
        "    test_file='test.json'\n",
        "    tokenizer_name=''\n",
        "    train_batch_size=2\n",
        "    train_file='train_annotated_filter.json'\n",
        "    train_from_saved_model=''\n",
        "    transformer_type='bert'\n",
        "    unet_in_dim=3\n",
        "    unet_out_dim=256\n",
        "    warmup_ratio=0.06\n",
        "    load_path='/content/drive/MyDrive/Models/DeepKE_train/checkpoints/model_ru_bertB.pt'\n",
        "\n",
        "cfg = Config()"
      ],
      "metadata": {
        "id": "fHb7cD50lBg2"
      },
      "id": "fHb7cD50lBg2",
      "execution_count": null,
      "outputs": []
    },
    {
      "cell_type": "code",
      "source": [
        "# if not os.path.exists(os.path.join(cfg.data_dir, \"train_distant.json\")):\n",
        "#     raise FileNotFoundError(\"Sorry, the file: 'train_annotated.json' is too big to upload to github, \\\n",
        "#         please manually download to 'data/' from DocRED GoogleDrive https://drive.google.com/drive/folders/1c5-0YwnoJx8NS6CV2f-NoTHR__BdkNqw\")\n",
        "\n",
        "\n",
        "if torch.cuda.is_available():\n",
        "    device = \"cuda:0\"\n",
        "# elif torch.backends.mps.is_available():\n",
        "#     device = \"mps\"\n",
        "else:\n",
        "    device = \"cpu\"\n",
        "\n",
        "\n",
        "config = AutoConfig.from_pretrained(\n",
        "    cfg.config_name if cfg.config_name else cfg.model_name_or_path,\n",
        "    num_labels=cfg.num_class,\n",
        ")\n",
        "tokenizer = AutoTokenizer.from_pretrained(\n",
        "    cfg.tokenizer_name if cfg.tokenizer_name else cfg.model_name_or_path,\n",
        ")\n",
        "\n",
        "Dataset = ReadDataset(cfg.dataset, tokenizer, cfg.max_seq_length, cfg.transformer_type)\n",
        "\n",
        "train_file = os.path.join(cfg.data_dir, cfg.train_file)\n",
        "dev_file = os.path.join(cfg.data_dir, cfg.dev_file)\n",
        "test_file = os.path.join(cfg.data_dir, cfg.test_file)\n",
        "train_features = Dataset.read(train_file)\n",
        "dev_features = Dataset.read(dev_file)\n",
        "test_features = Dataset.read(test_file)\n",
        "\n",
        "model = AutoModel.from_pretrained(\n",
        "    cfg.model_name_or_path,\n",
        "    from_tf=bool(\".ckpt\" in cfg.model_name_or_path),\n",
        "    config=config,\n",
        ")\n",
        "\n",
        "\n",
        "config.cls_token_id = tokenizer.cls_token_id\n",
        "config.sep_token_id = tokenizer.sep_token_id\n",
        "config.transformer_type = cfg.transformer_type\n",
        "\n",
        "set_seed(cfg)\n",
        "model = DocREModel(config, cfg,  model, num_labels=cfg.num_labels)\n",
        "if cfg.train_from_saved_model != '':\n",
        "    model.load_state_dict(torch.load(cfg.train_from_saved_model)[\"checkpoint\"])\n",
        "    print(\"load saved model from {}.\".format(cfg.train_from_saved_model))\n",
        "\n",
        "#if torch.cuda.device_count() > 1:\n",
        "#    print(\"Let's use\", torch.cuda.device_count(), \"GPUs!\")\n",
        "#    model = torch.nn.DataParallel(model, device_ids = list(range(torch.cuda.device_count())))\n",
        "model.to(device)\n",
        "\n",
        "train(cfg, model, train_features, dev_features, test_features)"
      ],
      "metadata": {
        "id": "Gw-qnps-lBYU",
        "colab": {
          "base_uri": "https://localhost:8080/"
        },
        "outputId": "dd083f68-995b-4878-ddf5-d448530fff96"
      },
      "id": "Gw-qnps-lBYU",
      "execution_count": null,
      "outputs": [
        {
          "output_type": "stream",
          "name": "stdout",
          "text": [
            "load preprocessed data from /content/drive/MyDrive/data/nerel_docred_ver/train_annotated_filter_bert_docred.pkl.\n",
            "load preprocessed data from /content/drive/MyDrive/data/nerel_docred_ver/dev_bert_docred.pkl.\n",
            "load preprocessed data from /content/drive/MyDrive/data/nerel_docred_ver/test_bert_docred.pkl.\n"
          ]
        },
        {
          "output_type": "stream",
          "name": "stderr",
          "text": [
            "Some weights of the model checkpoint at ai-forever/ruBert-base were not used when initializing BertModel: ['cls.predictions.transform.LayerNorm.weight', 'cls.predictions.transform.dense.bias', 'cls.predictions.bias', 'cls.seq_relationship.bias', 'cls.predictions.transform.LayerNorm.bias', 'cls.predictions.transform.dense.weight', 'cls.predictions.decoder.weight', 'cls.predictions.decoder.bias', 'cls.seq_relationship.weight']\n",
            "- This IS expected if you are initializing BertModel from the checkpoint of a model trained on another task or with another architecture (e.g. initializing a BertForSequenceClassification model from a BertForPreTraining model).\n",
            "- This IS NOT expected if you are initializing BertModel from the checkpoint of a model that you expect to be exactly identical (initializing a BertForSequenceClassification model from a BertForSequenceClassification model).\n"
          ]
        },
        {
          "output_type": "stream",
          "name": "stdout",
          "text": [
            "Total steps: 2737\n",
            "Warmup steps: 164\n"
          ]
        },
        {
          "output_type": "stream",
          "name": "stderr",
          "text": [
            "200it [01:41,  3.03it/s]"
          ]
        },
        {
          "output_type": "stream",
          "name": "stdout",
          "text": [
            "| epoch  0 | step  100 | min/b  1.70 | lr [1.8292682926829268e-05, 6.097560975609756e-05, 0.00018292682926829266] | train loss 1.729\n"
          ]
        },
        {
          "output_type": "stream",
          "name": "stderr",
          "text": [
            "363it [03:05,  2.82it/s]"
          ]
        },
        {
          "output_type": "stream",
          "name": "stdout",
          "text": [
            "-----------------------------------------------------------------------------------------\n",
            "| epoch   0 | time:  4.74s | dev_result:{'dev_F1': 16.273972602739725, 'dev_F1_ign': 16.199838115389937, 'dev_re_p': 60.98562628336756, 'dev_re_r': 9.389819791337338, 'dev_average_loss': 0.14960071238431524}\n",
            "-----------------------------------------------------------------------------------------\n",
            "| epoch   0 | best_f1:0.16273972602739725\n"
          ]
        },
        {
          "output_type": "stream",
          "name": "stderr",
          "text": [
            "\r364it [03:18,  4.19s/it]"
          ]
        },
        {
          "output_type": "stream",
          "name": "stdout",
          "text": [
            "| successfully save model at: /content/drive/MyDrive/Models/DeepKE_train/checkpoints/model_ru_bertB.pt\n",
            "-----------------------------------------------------------------------------------------\n"
          ]
        },
        {
          "output_type": "stream",
          "name": "stderr",
          "text": [
            "365it [03:18,  1.84it/s]\n",
            "33it [00:17,  1.53it/s]"
          ]
        },
        {
          "output_type": "stream",
          "name": "stdout",
          "text": [
            "| epoch  1 | step  200 | min/b  0.29 | lr [2.9580256509910614e-05, 9.860085503303538e-05, 0.0002958025650991061] | train loss 0.204\n"
          ]
        },
        {
          "output_type": "stream",
          "name": "stderr",
          "text": [
            "233it [01:57,  2.91it/s]"
          ]
        },
        {
          "output_type": "stream",
          "name": "stdout",
          "text": [
            "| epoch  1 | step  300 | min/b  1.68 | lr [2.8414302370773418e-05, 9.47143412359114e-05, 0.0002841430237077342] | train loss 0.126\n"
          ]
        },
        {
          "output_type": "stream",
          "name": "stderr",
          "text": [
            "363it [03:03,  2.07it/s]"
          ]
        },
        {
          "output_type": "stream",
          "name": "stdout",
          "text": [
            "-----------------------------------------------------------------------------------------\n",
            "| epoch   1 | time:  4.51s | dev_result:{'dev_F1': 32.41106719367588, 'dev_F1_ign': 32.15081230884837, 'dev_re_p': 61.24780316344464, 'dev_re_r': 22.036041732532404, 'dev_average_loss': 0.10003781271107653}\n",
            "-----------------------------------------------------------------------------------------\n",
            "| epoch   1 | best_f1:0.32411067193675885\n",
            "| successfully save model at: /content/drive/MyDrive/Models/DeepKE_train/checkpoints/model_ru_bertB.pt\n",
            "-----------------------------------------------------------------------------------------\n"
          ]
        },
        {
          "output_type": "stream",
          "name": "stderr",
          "text": [
            "365it [03:14,  1.88it/s]\n",
            "67it [00:36,  1.89it/s]"
          ]
        },
        {
          "output_type": "stream",
          "name": "stdout",
          "text": [
            "| epoch  2 | step  400 | min/b  0.60 | lr [2.7248348231636226e-05, 9.082782743878741e-05, 0.0002724834823163622] | train loss 0.100\n"
          ]
        },
        {
          "output_type": "stream",
          "name": "stderr",
          "text": [
            "267it [02:16,  1.94it/s]"
          ]
        },
        {
          "output_type": "stream",
          "name": "stdout",
          "text": [
            "| epoch  2 | step  500 | min/b  1.68 | lr [2.608239409249903e-05, 8.694131364166343e-05, 0.00026082394092499025] | train loss 0.095\n"
          ]
        },
        {
          "output_type": "stream",
          "name": "stderr",
          "text": [
            "363it [03:04,  2.95it/s]"
          ]
        },
        {
          "output_type": "stream",
          "name": "stdout",
          "text": [
            "-----------------------------------------------------------------------------------------\n",
            "| epoch   2 | time:  4.47s | dev_result:{'dev_F1': 43.57523302263648, 'dev_F1_ign': 42.880594779576526, 'dev_re_p': 46.01054481546573, 'dev_re_r': 41.38476130256086, 'dev_average_loss': 0.09643397924113781}\n",
            "-----------------------------------------------------------------------------------------\n",
            "| epoch   2 | best_f1:0.43575233022636484\n",
            "| successfully save model at: /content/drive/MyDrive/Models/DeepKE_train/checkpoints/model_ru_bertB.pt\n"
          ]
        },
        {
          "output_type": "stream",
          "name": "stderr",
          "text": [
            "\r364it [03:16,  3.27s/it]"
          ]
        },
        {
          "output_type": "stream",
          "name": "stdout",
          "text": [
            "-----------------------------------------------------------------------------------------\n"
          ]
        },
        {
          "output_type": "stream",
          "name": "stderr",
          "text": [
            "365it [03:16,  1.86it/s]\n",
            "101it [00:51,  2.08it/s]"
          ]
        },
        {
          "output_type": "stream",
          "name": "stdout",
          "text": [
            "| epoch  3 | step  600 | min/b  0.86 | lr [2.4916439953361834e-05, 8.305479984453946e-05, 0.00024916439953361834] | train loss 0.082\n"
          ]
        },
        {
          "output_type": "stream",
          "name": "stderr",
          "text": [
            "301it [02:32,  2.43it/s]"
          ]
        },
        {
          "output_type": "stream",
          "name": "stdout",
          "text": [
            "| epoch  3 | step  700 | min/b  1.67 | lr [2.3750485814224642e-05, 7.916828604741548e-05, 0.0002375048581422464] | train loss 0.077\n"
          ]
        },
        {
          "output_type": "stream",
          "name": "stderr",
          "text": [
            "363it [03:03,  1.74it/s]"
          ]
        },
        {
          "output_type": "stream",
          "name": "stdout",
          "text": [
            "-----------------------------------------------------------------------------------------\n",
            "| epoch   3 | time:  5.45s | dev_result:{'dev_F1': 44.417377182298004, 'dev_F1_ign': 44.02729316117645, 'dev_re_p': 62.05331820760068, 'dev_re_r': 34.58741700916851, 'dev_average_loss': 0.08371392906980311}\n",
            "-----------------------------------------------------------------------------------------\n",
            "| epoch   3 | best_f1:0.44417377182298007\n",
            "| successfully save model at: /content/drive/MyDrive/Models/DeepKE_train/checkpoints/model_ru_bertB.pt\n"
          ]
        },
        {
          "output_type": "stream",
          "name": "stderr",
          "text": [
            "\r364it [03:16,  4.23s/it]"
          ]
        },
        {
          "output_type": "stream",
          "name": "stdout",
          "text": [
            "-----------------------------------------------------------------------------------------\n"
          ]
        },
        {
          "output_type": "stream",
          "name": "stderr",
          "text": [
            "365it [03:16,  1.86it/s]\n",
            "135it [01:13,  1.79it/s]"
          ]
        },
        {
          "output_type": "stream",
          "name": "stdout",
          "text": [
            "| epoch  4 | step  800 | min/b  1.22 | lr [2.2584531675087446e-05, 7.528177225029149e-05, 0.00022584531675087446] | train loss 0.068\n"
          ]
        },
        {
          "output_type": "stream",
          "name": "stderr",
          "text": [
            "335it [02:48,  2.23it/s]"
          ]
        },
        {
          "output_type": "stream",
          "name": "stdout",
          "text": [
            "| epoch  4 | step  900 | min/b  1.60 | lr [2.1418577535950254e-05, 7.139525845316751e-05, 0.0002141857753595025] | train loss 0.070\n"
          ]
        },
        {
          "output_type": "stream",
          "name": "stderr",
          "text": [
            "363it [03:03,  1.87it/s]"
          ]
        },
        {
          "output_type": "stream",
          "name": "stdout",
          "text": [
            "-----------------------------------------------------------------------------------------\n",
            "| epoch   4 | time:  4.49s | dev_result:{'dev_F1': 48.704268292682926, 'dev_F1_ign': 48.22227516061032, 'dev_re_p': 61.294964028776974, 'dev_re_r': 40.40467910211824, 'dev_average_loss': 0.08316165042367388}\n",
            "-----------------------------------------------------------------------------------------\n",
            "| epoch   4 | best_f1:0.4870426829268293\n",
            "| successfully save model at: /content/drive/MyDrive/Models/DeepKE_train/checkpoints/model_ru_bertB.pt\n"
          ]
        },
        {
          "output_type": "stream",
          "name": "stderr",
          "text": [
            "\r364it [03:13,  3.48s/it]"
          ]
        },
        {
          "output_type": "stream",
          "name": "stdout",
          "text": [
            "-----------------------------------------------------------------------------------------\n"
          ]
        },
        {
          "output_type": "stream",
          "name": "stderr",
          "text": [
            "365it [03:14,  1.88it/s]\n",
            "169it [01:26,  1.75it/s]"
          ]
        },
        {
          "output_type": "stream",
          "name": "stdout",
          "text": [
            "| epoch  5 | step 1000 | min/b  1.44 | lr [2.0252623396813058e-05, 6.750874465604354e-05, 0.00020252623396813056] | train loss 0.060\n"
          ]
        },
        {
          "output_type": "stream",
          "name": "stderr",
          "text": [
            "363it [03:03,  1.92it/s]"
          ]
        },
        {
          "output_type": "stream",
          "name": "stdout",
          "text": [
            "-----------------------------------------------------------------------------------------\n",
            "| epoch   5 | time:  5.38s | dev_result:{'dev_F1': 49.3728847302409, 'dev_F1_ign': 49.000051322370645, 'dev_re_p': 66.66666666666666, 'dev_re_r': 39.203288017704715, 'dev_average_loss': 0.08083177381690512}\n",
            "-----------------------------------------------------------------------------------------\n",
            "| epoch   5 | best_f1:0.49372884730240896\n",
            "| successfully save model at: /content/drive/MyDrive/Models/DeepKE_train/checkpoints/model_ru_bertB.pt\n"
          ]
        },
        {
          "output_type": "stream",
          "name": "stderr",
          "text": [
            "\r364it [03:17,  4.44s/it]"
          ]
        },
        {
          "output_type": "stream",
          "name": "stdout",
          "text": [
            "-----------------------------------------------------------------------------------------\n"
          ]
        },
        {
          "output_type": "stream",
          "name": "stderr",
          "text": [
            "365it [03:17,  1.85it/s]\n",
            "3it [00:00,  3.51it/s]"
          ]
        },
        {
          "output_type": "stream",
          "name": "stdout",
          "text": [
            "| epoch  6 | step 1100 | min/b  0.01 | lr [1.9086669257675866e-05, 6.362223085891955e-05, 0.00019086669257675862] | train loss 0.058\n"
          ]
        },
        {
          "output_type": "stream",
          "name": "stderr",
          "text": [
            "203it [01:39,  1.91it/s]"
          ]
        },
        {
          "output_type": "stream",
          "name": "stdout",
          "text": [
            "| epoch  6 | step 1200 | min/b  1.65 | lr [1.792071511853867e-05, 5.973571706179557e-05, 0.00017920715118538669] | train loss 0.056\n"
          ]
        },
        {
          "output_type": "stream",
          "name": "stderr",
          "text": [
            "363it [03:03,  1.82it/s]"
          ]
        },
        {
          "output_type": "stream",
          "name": "stdout",
          "text": [
            "-----------------------------------------------------------------------------------------\n",
            "| epoch   6 | time:  4.46s | dev_result:{'dev_F1': 52.83932228635263, 'dev_F1_ign': 52.40368866436841, 'dev_re_p': 64.2663043478261, 'dev_re_r': 44.8624723363895, 'dev_average_loss': 0.08222898278147617}\n",
            "-----------------------------------------------------------------------------------------\n",
            "| epoch   6 | best_f1:0.5283932228635263\n",
            "| successfully save model at: /content/drive/MyDrive/Models/DeepKE_train/checkpoints/model_ru_bertB.pt\n"
          ]
        },
        {
          "output_type": "stream",
          "name": "stderr",
          "text": [
            "\r364it [03:16,  4.27s/it]"
          ]
        },
        {
          "output_type": "stream",
          "name": "stdout",
          "text": [
            "-----------------------------------------------------------------------------------------\n"
          ]
        },
        {
          "output_type": "stream",
          "name": "stderr",
          "text": [
            "365it [03:17,  1.85it/s]\n",
            "38it [00:21,  2.08it/s]"
          ]
        },
        {
          "output_type": "stream",
          "name": "stdout",
          "text": [
            "| epoch  7 | step 1300 | min/b  0.35 | lr [1.6754760979401478e-05, 5.584920326467159e-05, 0.00016754760979401475] | train loss 0.051\n"
          ]
        },
        {
          "output_type": "stream",
          "name": "stderr",
          "text": [
            "237it [01:59,  1.83it/s]"
          ]
        },
        {
          "output_type": "stream",
          "name": "stdout",
          "text": [
            "| epoch  7 | step 1400 | min/b  1.65 | lr [1.5588806840264282e-05, 5.196268946754761e-05, 0.0001558880684026428] | train loss 0.049\n"
          ]
        },
        {
          "output_type": "stream",
          "name": "stderr",
          "text": [
            "363it [03:03,  2.02it/s]"
          ]
        },
        {
          "output_type": "stream",
          "name": "stdout",
          "text": [
            "-----------------------------------------------------------------------------------------\n",
            "| epoch   7 | time:  4.51s | dev_result:{'dev_F1': 53.28241498454265, 'dev_F1_ign': 52.80567781855391, 'dev_re_p': 62.714041095890416, 'dev_re_r': 46.316787859626935, 'dev_average_loss': 0.08239634057625811}\n",
            "-----------------------------------------------------------------------------------------\n",
            "| epoch   7 | best_f1:0.5328241498454265\n",
            "| successfully save model at: /content/drive/MyDrive/Models/DeepKE_train/checkpoints/model_ru_bertB.pt\n"
          ]
        },
        {
          "output_type": "stream",
          "name": "stderr",
          "text": [
            "\r364it [03:16,  4.22s/it]"
          ]
        },
        {
          "output_type": "stream",
          "name": "stdout",
          "text": [
            "-----------------------------------------------------------------------------------------\n"
          ]
        },
        {
          "output_type": "stream",
          "name": "stderr",
          "text": [
            "365it [03:17,  1.85it/s]\n",
            "71it [00:37,  1.33it/s]"
          ]
        },
        {
          "output_type": "stream",
          "name": "stdout",
          "text": [
            "| epoch  8 | step 1500 | min/b  0.62 | lr [1.442285270112709e-05, 4.8076175670423634e-05, 0.00014422852701127087] | train loss 0.048\n"
          ]
        },
        {
          "output_type": "stream",
          "name": "stderr",
          "text": [
            "271it [02:17,  2.09it/s]"
          ]
        },
        {
          "output_type": "stream",
          "name": "stdout",
          "text": [
            "| epoch  8 | step 1600 | min/b  1.67 | lr [1.3256898561989895e-05, 4.418966187329965e-05, 0.00013256898561989894] | train loss 0.043\n"
          ]
        },
        {
          "output_type": "stream",
          "name": "stderr",
          "text": [
            "363it [03:03,  1.57it/s]"
          ]
        },
        {
          "output_type": "stream",
          "name": "stdout",
          "text": [
            "-----------------------------------------------------------------------------------------\n"
          ]
        },
        {
          "output_type": "stream",
          "name": "stderr",
          "text": [
            "\r364it [03:08,  1.87s/it]"
          ]
        },
        {
          "output_type": "stream",
          "name": "stdout",
          "text": [
            "| epoch   8 | time:  4.44s | dev_result:{'dev_F1': 53.05519660328595, 'dev_F1_ign': 52.56917685324384, 'dev_re_p': 63.753327417923686, 'dev_re_r': 45.43155232374328, 'dev_average_loss': 0.08734311702403616}\n",
            "-----------------------------------------------------------------------------------------\n"
          ]
        },
        {
          "output_type": "stream",
          "name": "stderr",
          "text": [
            "365it [03:08,  1.93it/s]\n",
            "105it [00:53,  1.85it/s]"
          ]
        },
        {
          "output_type": "stream",
          "name": "stdout",
          "text": [
            "| epoch  9 | step 1700 | min/b  0.89 | lr [1.2090944422852701e-05, 4.0303148076175674e-05, 0.000120909444228527] | train loss 0.041\n"
          ]
        },
        {
          "output_type": "stream",
          "name": "stderr",
          "text": [
            "305it [02:33,  2.09it/s]"
          ]
        },
        {
          "output_type": "stream",
          "name": "stdout",
          "text": [
            "| epoch  9 | step 1800 | min/b  1.66 | lr [1.0924990283715507e-05, 3.641663427905169e-05, 0.00010924990283715506] | train loss 0.041\n"
          ]
        },
        {
          "output_type": "stream",
          "name": "stderr",
          "text": [
            "363it [03:03,  1.92it/s]"
          ]
        },
        {
          "output_type": "stream",
          "name": "stdout",
          "text": [
            "-----------------------------------------------------------------------------------------\n",
            "| epoch   9 | time:  4.43s | dev_result:{'dev_F1': 53.34346504559271, 'dev_F1_ign': 52.908926455398074, 'dev_re_p': 66.82532127558306, 'dev_re_r': 44.388239013594685, 'dev_average_loss': 0.09006904905780833}\n",
            "-----------------------------------------------------------------------------------------\n",
            "| epoch   9 | best_f1:0.5334346504559271\n",
            "| successfully save model at: /content/drive/MyDrive/Models/DeepKE_train/checkpoints/model_ru_bertB.pt\n"
          ]
        },
        {
          "output_type": "stream",
          "name": "stderr",
          "text": [
            "\r364it [03:16,  4.21s/it]"
          ]
        },
        {
          "output_type": "stream",
          "name": "stdout",
          "text": [
            "-----------------------------------------------------------------------------------------\n"
          ]
        },
        {
          "output_type": "stream",
          "name": "stderr",
          "text": [
            "365it [03:17,  1.85it/s]\n",
            "139it [01:10,  1.98it/s]"
          ]
        },
        {
          "output_type": "stream",
          "name": "stdout",
          "text": [
            "| epoch 10 | step 1900 | min/b  1.18 | lr [9.759036144578313e-06, 3.253012048192771e-05, 9.759036144578313e-05] | train loss 0.037\n"
          ]
        },
        {
          "output_type": "stream",
          "name": "stderr",
          "text": [
            "339it [02:51,  1.80it/s]"
          ]
        },
        {
          "output_type": "stream",
          "name": "stdout",
          "text": [
            "| epoch 10 | step 2000 | min/b  1.68 | lr [8.59308200544112e-06, 2.864360668480373e-05, 8.593082005441118e-05] | train loss 0.037\n"
          ]
        },
        {
          "output_type": "stream",
          "name": "stderr",
          "text": [
            "363it [03:03,  2.78it/s]"
          ]
        },
        {
          "output_type": "stream",
          "name": "stdout",
          "text": [
            "-----------------------------------------------------------------------------------------\n",
            "| epoch  10 | time:  4.51s | dev_result:{'dev_F1': 54.26874536005939, 'dev_F1_ign': 53.78680934367207, 'dev_re_p': 65.70786516853933, 'dev_re_r': 46.22194119506797, 'dev_average_loss': 0.0902667614690801}\n",
            "-----------------------------------------------------------------------------------------\n",
            "| epoch  10 | best_f1:0.5426874536005939\n",
            "| successfully save model at: /content/drive/MyDrive/Models/DeepKE_train/checkpoints/model_ru_bertB.pt\n"
          ]
        },
        {
          "output_type": "stream",
          "name": "stderr",
          "text": [
            "\r364it [03:16,  4.31s/it]"
          ]
        },
        {
          "output_type": "stream",
          "name": "stdout",
          "text": [
            "-----------------------------------------------------------------------------------------\n"
          ]
        },
        {
          "output_type": "stream",
          "name": "stderr",
          "text": [
            "365it [03:17,  1.85it/s]\n",
            "173it [01:30,  1.79it/s]"
          ]
        },
        {
          "output_type": "stream",
          "name": "stdout",
          "text": [
            "| epoch 11 | step 2100 | min/b  1.50 | lr [7.427127866303926e-06, 2.4757092887679753e-05, 7.427127866303925e-05] | train loss 0.034\n"
          ]
        },
        {
          "output_type": "stream",
          "name": "stderr",
          "text": [
            "363it [03:04,  1.73it/s]"
          ]
        },
        {
          "output_type": "stream",
          "name": "stdout",
          "text": [
            "-----------------------------------------------------------------------------------------\n"
          ]
        },
        {
          "output_type": "stream",
          "name": "stderr",
          "text": [
            "\r364it [03:09,  1.77s/it]"
          ]
        },
        {
          "output_type": "stream",
          "name": "stdout",
          "text": [
            "| epoch  11 | time:  4.38s | dev_result:{'dev_F1': 54.0946656649136, 'dev_F1_ign': 53.633335436891784, 'dev_re_p': 66.63581675150392, 'dev_re_r': 45.52639898830225, 'dev_average_loss': 0.09356865278900937}\n",
            "-----------------------------------------------------------------------------------------\n"
          ]
        },
        {
          "output_type": "stream",
          "name": "stderr",
          "text": [
            "365it [03:09,  1.92it/s]\n",
            "7it [00:03,  2.56it/s]"
          ]
        },
        {
          "output_type": "stream",
          "name": "stdout",
          "text": [
            "| epoch 12 | step 2200 | min/b  0.05 | lr [6.261173727166731e-06, 2.0870579090555773e-05, 6.261173727166732e-05] | train loss 0.033\n"
          ]
        },
        {
          "output_type": "stream",
          "name": "stderr",
          "text": [
            "207it [01:44,  1.90it/s]"
          ]
        },
        {
          "output_type": "stream",
          "name": "stdout",
          "text": [
            "| epoch 12 | step 2300 | min/b  1.70 | lr [5.095219588029537e-06, 1.6984065293431793e-05, 5.095219588029537e-05] | train loss 0.033\n"
          ]
        },
        {
          "output_type": "stream",
          "name": "stderr",
          "text": [
            "363it [03:03,  2.24it/s]"
          ]
        },
        {
          "output_type": "stream",
          "name": "stdout",
          "text": [
            "-----------------------------------------------------------------------------------------\n"
          ]
        },
        {
          "output_type": "stream",
          "name": "stderr",
          "text": [
            "\r364it [03:08,  1.82s/it]"
          ]
        },
        {
          "output_type": "stream",
          "name": "stdout",
          "text": [
            "| epoch  12 | time:  4.52s | dev_result:{'dev_F1': 54.15569763068822, 'dev_F1_ign': 53.685885839581424, 'dev_re_p': 66.8213457076566, 'dev_re_r': 45.52639898830225, 'dev_average_loss': 0.09157118026880508}\n",
            "-----------------------------------------------------------------------------------------\n"
          ]
        },
        {
          "output_type": "stream",
          "name": "stderr",
          "text": [
            "365it [03:08,  1.93it/s]\n",
            "41it [00:20,  1.93it/s]"
          ]
        },
        {
          "output_type": "stream",
          "name": "stdout",
          "text": [
            "| epoch 13 | step 2400 | min/b  0.35 | lr [3.929265448892344e-06, 1.3097551496307814e-05, 3.9292654488923434e-05] | train loss 0.032\n"
          ]
        },
        {
          "output_type": "stream",
          "name": "stderr",
          "text": [
            "241it [02:01,  2.14it/s]"
          ]
        },
        {
          "output_type": "stream",
          "name": "stdout",
          "text": [
            "| epoch 13 | step 2500 | min/b  1.67 | lr [2.76331130975515e-06, 9.211037699183832e-06, 2.7633113097551497e-05] | train loss 0.030\n"
          ]
        },
        {
          "output_type": "stream",
          "name": "stderr",
          "text": [
            "363it [03:04,  2.21it/s]"
          ]
        },
        {
          "output_type": "stream",
          "name": "stdout",
          "text": [
            "-----------------------------------------------------------------------------------------\n"
          ]
        },
        {
          "output_type": "stream",
          "name": "stderr",
          "text": [
            "\r364it [03:09,  1.81s/it]"
          ]
        },
        {
          "output_type": "stream",
          "name": "stdout",
          "text": [
            "| epoch  13 | time:  4.50s | dev_result:{'dev_F1': 54.20183486238531, 'dev_F1_ign': 53.6901719471389, 'dev_re_p': 64.58242238740708, 'dev_re_r': 46.69617451786279, 'dev_average_loss': 0.09494627314679166}\n",
            "-----------------------------------------------------------------------------------------\n"
          ]
        },
        {
          "output_type": "stream",
          "name": "stderr",
          "text": [
            "365it [03:10,  1.92it/s]\n",
            "75it [00:36,  1.74it/s]"
          ]
        },
        {
          "output_type": "stream",
          "name": "stdout",
          "text": [
            "| epoch 14 | step 2600 | min/b  0.62 | lr [1.5973571706179556e-06, 5.324523902059852e-06, 1.5973571706179557e-05] | train loss 0.030\n"
          ]
        },
        {
          "output_type": "stream",
          "name": "stderr",
          "text": [
            "275it [02:18,  1.72it/s]"
          ]
        },
        {
          "output_type": "stream",
          "name": "stdout",
          "text": [
            "| epoch 14 | step 2700 | min/b  1.68 | lr [4.3140303148076176e-07, 1.4380101049358726e-06, 4.314030314807617e-06] | train loss 0.028\n"
          ]
        },
        {
          "output_type": "stream",
          "name": "stderr",
          "text": [
            "363it [03:02,  2.02it/s]"
          ]
        },
        {
          "output_type": "stream",
          "name": "stdout",
          "text": [
            "-----------------------------------------------------------------------------------------\n",
            "| epoch  14 | time:  4.56s | dev_result:{'dev_F1': 54.39970171513796, 'dev_F1_ign': 53.926676781644325, 'dev_re_p': 66.28805088596093, 'dev_re_r': 46.12709453050901, 'dev_average_loss': 0.09713644264860356}\n",
            "-----------------------------------------------------------------------------------------\n",
            "| epoch  14 | best_f1:0.5439970171513796\n",
            "| successfully save model at: /content/drive/MyDrive/Models/DeepKE_train/checkpoints/model_ru_bertB.pt\n"
          ]
        },
        {
          "output_type": "stream",
          "name": "stderr",
          "text": [
            "\r364it [03:13,  3.49s/it]"
          ]
        },
        {
          "output_type": "stream",
          "name": "stdout",
          "text": [
            "-----------------------------------------------------------------------------------------\n"
          ]
        },
        {
          "output_type": "stream",
          "name": "stderr",
          "text": [
            "365it [03:14,  1.88it/s]\n"
          ]
        }
      ]
    },
    {
      "cell_type": "markdown",
      "source": [
        "### xlm roberta"
      ],
      "metadata": {
        "id": "-L4DA0RrtdYx"
      },
      "id": "-L4DA0RrtdYx"
    },
    {
      "cell_type": "code",
      "source": [
        "class Config(object):\n",
        "    adam_epsilon=1e-06\n",
        "    bert_lr=3e-05\n",
        "    channel_type='context-based'\n",
        "    config_name=''\n",
        "    data_dir='/content/drive/MyDrive/data/nerel_docred_ver'\n",
        "    dataset='docred'\n",
        "    dev_file='dev.json'\n",
        "    down_dim=256\n",
        "    evaluation_steps=-1\n",
        "    gradient_accumulation_steps=2\n",
        "    learning_rate=0.0004\n",
        "    log_dir='/content/drive/MyDrive/Models/DeepKE_train/logs/model_xlm_roberta.log'\n",
        "    max_grad_norm=1.0\n",
        "    max_height=103\n",
        "    max_seq_length=1024\n",
        "    # model_name_or_path='xlm-roberta-base'\n",
        "    model_name_or_path='xlm-roberta-large'\n",
        "    num_class=50\n",
        "    num_labels=29\n",
        "    num_train_epochs=20\n",
        "    save_path='/content/drive/MyDrive/Models/DeepKE_train/checkpoints/model_xlm_roberta.pt'\n",
        "    seed=111\n",
        "    test_batch_size=2\n",
        "    test_file='test.json'\n",
        "    tokenizer_name=''\n",
        "    train_batch_size=2\n",
        "    train_file='train_annotated_filter.json'\n",
        "    train_from_saved_model=''\n",
        "    transformer_type='roberta'\n",
        "    unet_in_dim=3\n",
        "    unet_out_dim=256\n",
        "    warmup_ratio=0.06\n",
        "    load_path='/content/drive/MyDrive/Models/DeepKE_train/checkpoints/model_xlm_roberta.pt'\n",
        "\n",
        "cfg = Config()"
      ],
      "metadata": {
        "id": "iwXsOv6sthfP"
      },
      "id": "iwXsOv6sthfP",
      "execution_count": null,
      "outputs": []
    },
    {
      "cell_type": "code",
      "source": [
        "# if not os.path.exists(os.path.join(cfg.data_dir, \"train_distant.json\")):\n",
        "#     raise FileNotFoundError(\"Sorry, the file: 'train_annotated.json' is too big to upload to github, \\\n",
        "#         please manually download to 'data/' from DocRED GoogleDrive https://drive.google.com/drive/folders/1c5-0YwnoJx8NS6CV2f-NoTHR__BdkNqw\")\n",
        "\n",
        "\n",
        "if torch.cuda.is_available():\n",
        "    device = \"cuda:0\"\n",
        "# elif torch.backends.mps.is_available():\n",
        "#     device = \"mps\"\n",
        "else:\n",
        "    device = \"cpu\"\n",
        "\n",
        "\n",
        "config = AutoConfig.from_pretrained(\n",
        "    cfg.config_name if cfg.config_name else cfg.model_name_or_path,\n",
        "    num_labels=cfg.num_class,\n",
        ")\n",
        "tokenizer = AutoTokenizer.from_pretrained(\n",
        "    cfg.tokenizer_name if cfg.tokenizer_name else cfg.model_name_or_path,\n",
        ")\n",
        "\n",
        "Dataset = ReadDataset(cfg.dataset, tokenizer, cfg.max_seq_length, cfg.transformer_type)\n",
        "\n",
        "train_file = os.path.join(cfg.data_dir, cfg.train_file)\n",
        "dev_file = os.path.join(cfg.data_dir, cfg.dev_file)\n",
        "test_file = os.path.join(cfg.data_dir, cfg.test_file)\n",
        "train_features = Dataset.read(train_file)\n",
        "dev_features = Dataset.read(dev_file)\n",
        "test_features = Dataset.read(test_file)\n",
        "\n",
        "model = AutoModel.from_pretrained(\n",
        "    cfg.model_name_or_path,\n",
        "    from_tf=bool(\".ckpt\" in cfg.model_name_or_path),\n",
        "    config=config,\n",
        ")\n",
        "\n",
        "\n",
        "config.cls_token_id = tokenizer.cls_token_id\n",
        "config.sep_token_id = tokenizer.sep_token_id\n",
        "config.transformer_type = cfg.transformer_type\n",
        "\n",
        "set_seed(cfg)\n",
        "model = DocREModel(config, cfg,  model, num_labels=cfg.num_labels)\n",
        "if cfg.train_from_saved_model != '':\n",
        "    model.load_state_dict(torch.load(cfg.train_from_saved_model)[\"checkpoint\"])\n",
        "    print(\"load saved model from {}.\".format(cfg.train_from_saved_model))\n",
        "\n",
        "#if torch.cuda.device_count() > 1:\n",
        "#    print(\"Let's use\", torch.cuda.device_count(), \"GPUs!\")\n",
        "#    model = torch.nn.DataParallel(model, device_ids = list(range(torch.cuda.device_count())))\n",
        "model.to(device)\n",
        "\n",
        "train(cfg, model, train_features, dev_features, test_features)"
      ],
      "metadata": {
        "id": "2veWExc6thRa"
      },
      "id": "2veWExc6thRa",
      "execution_count": null,
      "outputs": []
    },
    {
      "cell_type": "markdown",
      "source": [
        " of documents 730.\n",
        " of positive examples 23353.\n",
        " of negative examples 1169361.\n",
        " 352 examples len>512 and max len is 1060.\n",
        "finish reading /content/drive/MyDrive/data/nerel_docred_ver/train_annotated_filter.json and save preprocessed data to /content/drive/MyDrive/data/nerel_docred_ver/train_annotated_filter_roberta_docred.pkl.\n",
        "Example: 100%|██████████| 94/94 [00:06<00:00, 13.79it/s]\n",
        " of documents 94.\n",
        " of positive examples 3143.\n",
        " of negative examples 170057.\n",
        " 44 examples len>512 and max len is 1295.\n",
        "finish reading /content/drive/MyDrive/data/nerel_docred_ver/dev.json and save preprocessed data to /content/drive/MyDrive/data/nerel_docred_ver/dev_roberta_docred.pkl.\n",
        "Example: 100%|██████████| 93/93 [00:08<00:00, 11.22it/s]\n",
        " of documents 93.\n",
        " of positive examples 3259.\n",
        " of negative examples 186208.\n",
        " 52 examples len>512 and max len is 3101."
      ],
      "metadata": {
        "id": "Hqk1PpZBtfiI"
      },
      "id": "Hqk1PpZBtfiI"
    },
    {
      "cell_type": "code",
      "source": [],
      "metadata": {
        "id": "WD2EA6U1JPET"
      },
      "id": "WD2EA6U1JPET",
      "execution_count": null,
      "outputs": []
    },
    {
      "cell_type": "code",
      "source": [],
      "metadata": {
        "id": "OfAEol6CJO3C"
      },
      "id": "OfAEol6CJO3C",
      "execution_count": null,
      "outputs": []
    },
    {
      "cell_type": "code",
      "source": [
        "from google.colab import runtime\n",
        "runtime.unassign()"
      ],
      "metadata": {
        "id": "MyxrdgCYmRP0"
      },
      "id": "MyxrdgCYmRP0",
      "execution_count": null,
      "outputs": []
    },
    {
      "cell_type": "markdown",
      "id": "14c983c7",
      "metadata": {
        "id": "14c983c7"
      },
      "source": [
        "### Model Prediction"
      ]
    },
    {
      "cell_type": "code",
      "execution_count": null,
      "id": "cbc55160",
      "metadata": {
        "id": "cbc55160"
      },
      "outputs": [],
      "source": [
        "def report(args, model, features):\n",
        "\n",
        "    if torch.cuda.is_available():\n",
        "        device = \"cuda:0\"\n",
        "    # elif torch.backends.mps.is_available():\n",
        "    #     device = \"mps\"\n",
        "    else:\n",
        "        device = \"cpu\"\n",
        "\n",
        "    dataloader = DataLoader(features, batch_size=args.test_batch_size, shuffle=False, collate_fn=collate_fn, drop_last=False)\n",
        "    preds = []\n",
        "    for batch in dataloader:\n",
        "        model.eval()\n",
        "\n",
        "        inputs = {'input_ids': batch[0].to(device),\n",
        "                  'attention_mask': batch[1].to(device),\n",
        "                  'entity_pos': batch[3],\n",
        "                  'hts': batch[4],\n",
        "                  }\n",
        "\n",
        "        with torch.no_grad():\n",
        "            pred = model(**inputs)\n",
        "            pred = pred.cpu().numpy()\n",
        "            pred[np.isnan(pred)] = 0\n",
        "            preds.append(pred)\n",
        "\n",
        "    preds = np.concatenate(preds, axis=0).astype(np.float32)\n",
        "    preds = to_official(args, preds, features)\n",
        "    return preds\n",
        "\n",
        "model.load_state_dict(torch.load(cfg.load_path)['checkpoint'])\n",
        "T_features = test_features  # Testing on the test set\n",
        "#T_score, T_output = evaluate(cfg, model, T_features, tag=\"test\")\n",
        "pred = report(cfg, model, T_features)\n",
        "with open(\"./result.json\", \"w\") as fh:\n",
        "    json.dump(pred, fh)"
      ]
    }
  ],
  "metadata": {
    "accelerator": "GPU",
    "colab": {
      "provenance": [],
      "collapsed_sections": [
        "syIkSlC7iOXA"
      ],
      "toc_visible": true,
      "gpuClass": "premium"
    },
    "kernelspec": {
      "display_name": "Python 3 (ipykernel)",
      "language": "python",
      "name": "python3"
    },
    "language_info": {
      "codemirror_mode": {
        "name": "ipython",
        "version": 3
      },
      "file_extension": ".py",
      "mimetype": "text/x-python",
      "name": "python",
      "nbconvert_exporter": "python",
      "pygments_lexer": "ipython3",
      "version": "3.8.16"
    },
    "gpuClass": "premium"
  },
  "nbformat": 4,
  "nbformat_minor": 5
}